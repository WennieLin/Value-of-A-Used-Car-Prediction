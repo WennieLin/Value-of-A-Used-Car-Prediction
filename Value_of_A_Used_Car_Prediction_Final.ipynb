{
  "cells": [
    {
      "cell_type": "markdown",
      "metadata": {
        "id": "mOZCINS0LqZa"
      },
      "source": [
        "# What drives the price of a car?\n",
        "\n",
        "![](images/kurt.jpeg)"
      ]
    },
    {
      "cell_type": "markdown",
      "metadata": {
        "id": "7YA2bZerLqZb"
      },
      "source": [
        "**OVERVIEW**\n",
        "\n",
        "The original dataset contained information on 3 million used cars. The provided dataset contains information on 426K cars to ensure speed of processing.  The goal is to understand what factors make a car more or less expensive.  As a result of the analysis, - a used car dealership -- as to what consumers value in a used car."
      ]
    },
    {
      "cell_type": "markdown",
      "metadata": {
        "id": "QOrkyqqwLqZc"
      },
      "source": [
        "### CRISP-DM Framework\n",
        "\n",
        "<center>\n",
        "    <img src = images/crisp.png width = 50%/>\n",
        "</center>\n",
        "\n",
        "\n",
        "To frame the task, throughout our practical applications, we will refer back to a standard process in industry for data projects called CRISP-DM.  This process provides a framework for working through a data problem.  Your first step in this application will be to read through a brief overview of CRISP-DM [here](https://mo-pcco.s3.us-east-1.amazonaws.com/BH-PCMLAI/module_11/readings_starter.zip).  After reading the overview, answer the questions below."
      ]
    },
    {
      "cell_type": "markdown",
      "metadata": {
        "id": "7N-NtWkDLqZc"
      },
      "source": [
        "### Business Understanding\n",
        "\n",
        "From a business perspective, we are tasked with identifying key drivers for used car prices.  In the CRISP-DM overview, we are asked to convert this business framing to a data problem definition.  Using a few sentences, reframe the task as a data task with the appropriate technical vocabulary."
      ]
    },
    {
      "cell_type": "markdown",
      "source": [
        "The task involves regression modeling and exploratory data analysis (EDA) to identify key factors influencing used car prices. We will analyze vehicle attributes (e.g., make, year, mileage, condition) to determine their impact on price, using feature selection, correlation analysis, and model evaluation to generate actionable insights for pricing strategies."
      ],
      "metadata": {
        "id": "KWeqTzdGNqAY"
      }
    },
    {
      "cell_type": "markdown",
      "metadata": {
        "id": "jC0fFAw5LqZd"
      },
      "source": [
        "### Data Understanding\n",
        "\n",
        "To understand the dataset and identify quality issues, I would first load and preview the data, check data types, and detect missing values. I’d analyze summary statistics to spot anomalies, remove duplicates, and examine distributions for outliers. Checking categorical consistency and correlations would reveal key relationships. Finally, I’d address missing data, inconsistencies, and outliers to ensure a clean dataset for analysis."
      ]
    },
    {
      "cell_type": "code",
      "execution_count": null,
      "metadata": {
        "id": "-CDeagp2LqZd"
      },
      "outputs": [],
      "source": [
        "# Data Handling\n",
        "import pandas as pd\n",
        "import numpy as np\n",
        "\n",
        "# Data Visualization\n",
        "import matplotlib.pyplot as plt\n",
        "import seaborn as sns\n",
        "\n",
        "# Preprocessing\n",
        "from sklearn.preprocessing import LabelEncoder, StandardScaler\n",
        "\n",
        "# Model Selection\n",
        "from sklearn.model_selection import train_test_split, cross_val_score\n",
        "\n",
        "# Ridge Regression\n",
        "from sklearn.linear_model import Ridge\n",
        "\n",
        "# Machine Learning Models\n",
        "from sklearn.linear_model import LinearRegression\n",
        "from sklearn.ensemble import RandomForestRegressor, GradientBoostingRegressor\n",
        "\n",
        "# Model Evaluation Metrics\n",
        "from sklearn.metrics import mean_absolute_error, mean_squared_error, r2_score"
      ]
    },
    {
      "cell_type": "code",
      "execution_count": null,
      "metadata": {
        "id": "J9hlQxkBLqZd"
      },
      "outputs": [],
      "source": [
        "df = pd.read_csv('data/vehicles.csv')"
      ]
    },
    {
      "cell_type": "code",
      "execution_count": null,
      "metadata": {
        "colab": {
          "base_uri": "https://localhost:8080/"
        },
        "id": "3tGk-kf8LqZd",
        "outputId": "fbeaeaa5-39ae-45d8-f7f0-8d70b32e59aa"
      },
      "outputs": [
        {
          "output_type": "stream",
          "name": "stdout",
          "text": [
            "<class 'pandas.core.frame.DataFrame'>\n",
            "RangeIndex: 426880 entries, 0 to 426879\n",
            "Data columns (total 18 columns):\n",
            " #   Column        Non-Null Count   Dtype  \n",
            "---  ------        --------------   -----  \n",
            " 0   id            426880 non-null  int64  \n",
            " 1   region        426880 non-null  object \n",
            " 2   price         426880 non-null  int64  \n",
            " 3   year          425675 non-null  float64\n",
            " 4   manufacturer  409234 non-null  object \n",
            " 5   model         421603 non-null  object \n",
            " 6   condition     252776 non-null  object \n",
            " 7   cylinders     249202 non-null  object \n",
            " 8   fuel          423867 non-null  object \n",
            " 9   odometer      422480 non-null  float64\n",
            " 10  title_status  418638 non-null  object \n",
            " 11  transmission  424324 non-null  object \n",
            " 12  VIN           265838 non-null  object \n",
            " 13  drive         296313 non-null  object \n",
            " 14  size          120519 non-null  object \n",
            " 15  type          334022 non-null  object \n",
            " 16  paint_color   296677 non-null  object \n",
            " 17  state         426880 non-null  object \n",
            "dtypes: float64(2), int64(2), object(14)\n",
            "memory usage: 58.6+ MB\n"
          ]
        }
      ],
      "source": [
        "df.info()"
      ]
    },
    {
      "cell_type": "code",
      "execution_count": null,
      "metadata": {
        "colab": {
          "base_uri": "https://localhost:8080/"
        },
        "id": "CmTDX8qfLqZd",
        "outputId": "047b6dbd-2c6c-4011-c725-5688751aa7cd"
      },
      "outputs": [
        {
          "output_type": "execute_result",
          "data": {
            "text/plain": [
              "(426880, 18)"
            ]
          },
          "metadata": {},
          "execution_count": 5
        }
      ],
      "source": [
        "df.shape"
      ]
    },
    {
      "cell_type": "code",
      "source": [
        "df.head()"
      ],
      "metadata": {
        "colab": {
          "base_uri": "https://localhost:8080/",
          "height": 244
        },
        "id": "lDS3XLKxPHB2",
        "outputId": "d155a602-606c-4a82-f61b-45f3cc230422"
      },
      "execution_count": null,
      "outputs": [
        {
          "output_type": "execute_result",
          "data": {
            "text/plain": [
              "           id                  region  price  year manufacturer model  \\\n",
              "0  7222695916                prescott   6000   NaN          NaN   NaN   \n",
              "1  7218891961            fayetteville  11900   NaN          NaN   NaN   \n",
              "2  7221797935            florida keys  21000   NaN          NaN   NaN   \n",
              "3  7222270760  worcester / central MA   1500   NaN          NaN   NaN   \n",
              "4  7210384030              greensboro   4900   NaN          NaN   NaN   \n",
              "\n",
              "  condition cylinders fuel  odometer title_status transmission  VIN drive  \\\n",
              "0       NaN       NaN  NaN       NaN          NaN          NaN  NaN   NaN   \n",
              "1       NaN       NaN  NaN       NaN          NaN          NaN  NaN   NaN   \n",
              "2       NaN       NaN  NaN       NaN          NaN          NaN  NaN   NaN   \n",
              "3       NaN       NaN  NaN       NaN          NaN          NaN  NaN   NaN   \n",
              "4       NaN       NaN  NaN       NaN          NaN          NaN  NaN   NaN   \n",
              "\n",
              "  size type paint_color state  \n",
              "0  NaN  NaN         NaN    az  \n",
              "1  NaN  NaN         NaN    ar  \n",
              "2  NaN  NaN         NaN    fl  \n",
              "3  NaN  NaN         NaN    ma  \n",
              "4  NaN  NaN         NaN    nc  "
            ],
            "text/html": [
              "\n",
              "  <div id=\"df-09d48e0f-85c0-4584-b1a6-34813a7d76ce\" class=\"colab-df-container\">\n",
              "    <div>\n",
              "<style scoped>\n",
              "    .dataframe tbody tr th:only-of-type {\n",
              "        vertical-align: middle;\n",
              "    }\n",
              "\n",
              "    .dataframe tbody tr th {\n",
              "        vertical-align: top;\n",
              "    }\n",
              "\n",
              "    .dataframe thead th {\n",
              "        text-align: right;\n",
              "    }\n",
              "</style>\n",
              "<table border=\"1\" class=\"dataframe\">\n",
              "  <thead>\n",
              "    <tr style=\"text-align: right;\">\n",
              "      <th></th>\n",
              "      <th>id</th>\n",
              "      <th>region</th>\n",
              "      <th>price</th>\n",
              "      <th>year</th>\n",
              "      <th>manufacturer</th>\n",
              "      <th>model</th>\n",
              "      <th>condition</th>\n",
              "      <th>cylinders</th>\n",
              "      <th>fuel</th>\n",
              "      <th>odometer</th>\n",
              "      <th>title_status</th>\n",
              "      <th>transmission</th>\n",
              "      <th>VIN</th>\n",
              "      <th>drive</th>\n",
              "      <th>size</th>\n",
              "      <th>type</th>\n",
              "      <th>paint_color</th>\n",
              "      <th>state</th>\n",
              "    </tr>\n",
              "  </thead>\n",
              "  <tbody>\n",
              "    <tr>\n",
              "      <th>0</th>\n",
              "      <td>7222695916</td>\n",
              "      <td>prescott</td>\n",
              "      <td>6000</td>\n",
              "      <td>NaN</td>\n",
              "      <td>NaN</td>\n",
              "      <td>NaN</td>\n",
              "      <td>NaN</td>\n",
              "      <td>NaN</td>\n",
              "      <td>NaN</td>\n",
              "      <td>NaN</td>\n",
              "      <td>NaN</td>\n",
              "      <td>NaN</td>\n",
              "      <td>NaN</td>\n",
              "      <td>NaN</td>\n",
              "      <td>NaN</td>\n",
              "      <td>NaN</td>\n",
              "      <td>NaN</td>\n",
              "      <td>az</td>\n",
              "    </tr>\n",
              "    <tr>\n",
              "      <th>1</th>\n",
              "      <td>7218891961</td>\n",
              "      <td>fayetteville</td>\n",
              "      <td>11900</td>\n",
              "      <td>NaN</td>\n",
              "      <td>NaN</td>\n",
              "      <td>NaN</td>\n",
              "      <td>NaN</td>\n",
              "      <td>NaN</td>\n",
              "      <td>NaN</td>\n",
              "      <td>NaN</td>\n",
              "      <td>NaN</td>\n",
              "      <td>NaN</td>\n",
              "      <td>NaN</td>\n",
              "      <td>NaN</td>\n",
              "      <td>NaN</td>\n",
              "      <td>NaN</td>\n",
              "      <td>NaN</td>\n",
              "      <td>ar</td>\n",
              "    </tr>\n",
              "    <tr>\n",
              "      <th>2</th>\n",
              "      <td>7221797935</td>\n",
              "      <td>florida keys</td>\n",
              "      <td>21000</td>\n",
              "      <td>NaN</td>\n",
              "      <td>NaN</td>\n",
              "      <td>NaN</td>\n",
              "      <td>NaN</td>\n",
              "      <td>NaN</td>\n",
              "      <td>NaN</td>\n",
              "      <td>NaN</td>\n",
              "      <td>NaN</td>\n",
              "      <td>NaN</td>\n",
              "      <td>NaN</td>\n",
              "      <td>NaN</td>\n",
              "      <td>NaN</td>\n",
              "      <td>NaN</td>\n",
              "      <td>NaN</td>\n",
              "      <td>fl</td>\n",
              "    </tr>\n",
              "    <tr>\n",
              "      <th>3</th>\n",
              "      <td>7222270760</td>\n",
              "      <td>worcester / central MA</td>\n",
              "      <td>1500</td>\n",
              "      <td>NaN</td>\n",
              "      <td>NaN</td>\n",
              "      <td>NaN</td>\n",
              "      <td>NaN</td>\n",
              "      <td>NaN</td>\n",
              "      <td>NaN</td>\n",
              "      <td>NaN</td>\n",
              "      <td>NaN</td>\n",
              "      <td>NaN</td>\n",
              "      <td>NaN</td>\n",
              "      <td>NaN</td>\n",
              "      <td>NaN</td>\n",
              "      <td>NaN</td>\n",
              "      <td>NaN</td>\n",
              "      <td>ma</td>\n",
              "    </tr>\n",
              "    <tr>\n",
              "      <th>4</th>\n",
              "      <td>7210384030</td>\n",
              "      <td>greensboro</td>\n",
              "      <td>4900</td>\n",
              "      <td>NaN</td>\n",
              "      <td>NaN</td>\n",
              "      <td>NaN</td>\n",
              "      <td>NaN</td>\n",
              "      <td>NaN</td>\n",
              "      <td>NaN</td>\n",
              "      <td>NaN</td>\n",
              "      <td>NaN</td>\n",
              "      <td>NaN</td>\n",
              "      <td>NaN</td>\n",
              "      <td>NaN</td>\n",
              "      <td>NaN</td>\n",
              "      <td>NaN</td>\n",
              "      <td>NaN</td>\n",
              "      <td>nc</td>\n",
              "    </tr>\n",
              "  </tbody>\n",
              "</table>\n",
              "</div>\n",
              "    <div class=\"colab-df-buttons\">\n",
              "\n",
              "  <div class=\"colab-df-container\">\n",
              "    <button class=\"colab-df-convert\" onclick=\"convertToInteractive('df-09d48e0f-85c0-4584-b1a6-34813a7d76ce')\"\n",
              "            title=\"Convert this dataframe to an interactive table.\"\n",
              "            style=\"display:none;\">\n",
              "\n",
              "  <svg xmlns=\"http://www.w3.org/2000/svg\" height=\"24px\" viewBox=\"0 -960 960 960\">\n",
              "    <path d=\"M120-120v-720h720v720H120Zm60-500h600v-160H180v160Zm220 220h160v-160H400v160Zm0 220h160v-160H400v160ZM180-400h160v-160H180v160Zm440 0h160v-160H620v160ZM180-180h160v-160H180v160Zm440 0h160v-160H620v160Z\"/>\n",
              "  </svg>\n",
              "    </button>\n",
              "\n",
              "  <style>\n",
              "    .colab-df-container {\n",
              "      display:flex;\n",
              "      gap: 12px;\n",
              "    }\n",
              "\n",
              "    .colab-df-convert {\n",
              "      background-color: #E8F0FE;\n",
              "      border: none;\n",
              "      border-radius: 50%;\n",
              "      cursor: pointer;\n",
              "      display: none;\n",
              "      fill: #1967D2;\n",
              "      height: 32px;\n",
              "      padding: 0 0 0 0;\n",
              "      width: 32px;\n",
              "    }\n",
              "\n",
              "    .colab-df-convert:hover {\n",
              "      background-color: #E2EBFA;\n",
              "      box-shadow: 0px 1px 2px rgba(60, 64, 67, 0.3), 0px 1px 3px 1px rgba(60, 64, 67, 0.15);\n",
              "      fill: #174EA6;\n",
              "    }\n",
              "\n",
              "    .colab-df-buttons div {\n",
              "      margin-bottom: 4px;\n",
              "    }\n",
              "\n",
              "    [theme=dark] .colab-df-convert {\n",
              "      background-color: #3B4455;\n",
              "      fill: #D2E3FC;\n",
              "    }\n",
              "\n",
              "    [theme=dark] .colab-df-convert:hover {\n",
              "      background-color: #434B5C;\n",
              "      box-shadow: 0px 1px 3px 1px rgba(0, 0, 0, 0.15);\n",
              "      filter: drop-shadow(0px 1px 2px rgba(0, 0, 0, 0.3));\n",
              "      fill: #FFFFFF;\n",
              "    }\n",
              "  </style>\n",
              "\n",
              "    <script>\n",
              "      const buttonEl =\n",
              "        document.querySelector('#df-09d48e0f-85c0-4584-b1a6-34813a7d76ce button.colab-df-convert');\n",
              "      buttonEl.style.display =\n",
              "        google.colab.kernel.accessAllowed ? 'block' : 'none';\n",
              "\n",
              "      async function convertToInteractive(key) {\n",
              "        const element = document.querySelector('#df-09d48e0f-85c0-4584-b1a6-34813a7d76ce');\n",
              "        const dataTable =\n",
              "          await google.colab.kernel.invokeFunction('convertToInteractive',\n",
              "                                                    [key], {});\n",
              "        if (!dataTable) return;\n",
              "\n",
              "        const docLinkHtml = 'Like what you see? Visit the ' +\n",
              "          '<a target=\"_blank\" href=https://colab.research.google.com/notebooks/data_table.ipynb>data table notebook</a>'\n",
              "          + ' to learn more about interactive tables.';\n",
              "        element.innerHTML = '';\n",
              "        dataTable['output_type'] = 'display_data';\n",
              "        await google.colab.output.renderOutput(dataTable, element);\n",
              "        const docLink = document.createElement('div');\n",
              "        docLink.innerHTML = docLinkHtml;\n",
              "        element.appendChild(docLink);\n",
              "      }\n",
              "    </script>\n",
              "  </div>\n",
              "\n",
              "\n",
              "<div id=\"df-c5c17258-0fb7-45cb-b49e-d1b91cfaeeab\">\n",
              "  <button class=\"colab-df-quickchart\" onclick=\"quickchart('df-c5c17258-0fb7-45cb-b49e-d1b91cfaeeab')\"\n",
              "            title=\"Suggest charts\"\n",
              "            style=\"display:none;\">\n",
              "\n",
              "<svg xmlns=\"http://www.w3.org/2000/svg\" height=\"24px\"viewBox=\"0 0 24 24\"\n",
              "     width=\"24px\">\n",
              "    <g>\n",
              "        <path d=\"M19 3H5c-1.1 0-2 .9-2 2v14c0 1.1.9 2 2 2h14c1.1 0 2-.9 2-2V5c0-1.1-.9-2-2-2zM9 17H7v-7h2v7zm4 0h-2V7h2v10zm4 0h-2v-4h2v4z\"/>\n",
              "    </g>\n",
              "</svg>\n",
              "  </button>\n",
              "\n",
              "<style>\n",
              "  .colab-df-quickchart {\n",
              "      --bg-color: #E8F0FE;\n",
              "      --fill-color: #1967D2;\n",
              "      --hover-bg-color: #E2EBFA;\n",
              "      --hover-fill-color: #174EA6;\n",
              "      --disabled-fill-color: #AAA;\n",
              "      --disabled-bg-color: #DDD;\n",
              "  }\n",
              "\n",
              "  [theme=dark] .colab-df-quickchart {\n",
              "      --bg-color: #3B4455;\n",
              "      --fill-color: #D2E3FC;\n",
              "      --hover-bg-color: #434B5C;\n",
              "      --hover-fill-color: #FFFFFF;\n",
              "      --disabled-bg-color: #3B4455;\n",
              "      --disabled-fill-color: #666;\n",
              "  }\n",
              "\n",
              "  .colab-df-quickchart {\n",
              "    background-color: var(--bg-color);\n",
              "    border: none;\n",
              "    border-radius: 50%;\n",
              "    cursor: pointer;\n",
              "    display: none;\n",
              "    fill: var(--fill-color);\n",
              "    height: 32px;\n",
              "    padding: 0;\n",
              "    width: 32px;\n",
              "  }\n",
              "\n",
              "  .colab-df-quickchart:hover {\n",
              "    background-color: var(--hover-bg-color);\n",
              "    box-shadow: 0 1px 2px rgba(60, 64, 67, 0.3), 0 1px 3px 1px rgba(60, 64, 67, 0.15);\n",
              "    fill: var(--button-hover-fill-color);\n",
              "  }\n",
              "\n",
              "  .colab-df-quickchart-complete:disabled,\n",
              "  .colab-df-quickchart-complete:disabled:hover {\n",
              "    background-color: var(--disabled-bg-color);\n",
              "    fill: var(--disabled-fill-color);\n",
              "    box-shadow: none;\n",
              "  }\n",
              "\n",
              "  .colab-df-spinner {\n",
              "    border: 2px solid var(--fill-color);\n",
              "    border-color: transparent;\n",
              "    border-bottom-color: var(--fill-color);\n",
              "    animation:\n",
              "      spin 1s steps(1) infinite;\n",
              "  }\n",
              "\n",
              "  @keyframes spin {\n",
              "    0% {\n",
              "      border-color: transparent;\n",
              "      border-bottom-color: var(--fill-color);\n",
              "      border-left-color: var(--fill-color);\n",
              "    }\n",
              "    20% {\n",
              "      border-color: transparent;\n",
              "      border-left-color: var(--fill-color);\n",
              "      border-top-color: var(--fill-color);\n",
              "    }\n",
              "    30% {\n",
              "      border-color: transparent;\n",
              "      border-left-color: var(--fill-color);\n",
              "      border-top-color: var(--fill-color);\n",
              "      border-right-color: var(--fill-color);\n",
              "    }\n",
              "    40% {\n",
              "      border-color: transparent;\n",
              "      border-right-color: var(--fill-color);\n",
              "      border-top-color: var(--fill-color);\n",
              "    }\n",
              "    60% {\n",
              "      border-color: transparent;\n",
              "      border-right-color: var(--fill-color);\n",
              "    }\n",
              "    80% {\n",
              "      border-color: transparent;\n",
              "      border-right-color: var(--fill-color);\n",
              "      border-bottom-color: var(--fill-color);\n",
              "    }\n",
              "    90% {\n",
              "      border-color: transparent;\n",
              "      border-bottom-color: var(--fill-color);\n",
              "    }\n",
              "  }\n",
              "</style>\n",
              "\n",
              "  <script>\n",
              "    async function quickchart(key) {\n",
              "      const quickchartButtonEl =\n",
              "        document.querySelector('#' + key + ' button');\n",
              "      quickchartButtonEl.disabled = true;  // To prevent multiple clicks.\n",
              "      quickchartButtonEl.classList.add('colab-df-spinner');\n",
              "      try {\n",
              "        const charts = await google.colab.kernel.invokeFunction(\n",
              "            'suggestCharts', [key], {});\n",
              "      } catch (error) {\n",
              "        console.error('Error during call to suggestCharts:', error);\n",
              "      }\n",
              "      quickchartButtonEl.classList.remove('colab-df-spinner');\n",
              "      quickchartButtonEl.classList.add('colab-df-quickchart-complete');\n",
              "    }\n",
              "    (() => {\n",
              "      let quickchartButtonEl =\n",
              "        document.querySelector('#df-c5c17258-0fb7-45cb-b49e-d1b91cfaeeab button');\n",
              "      quickchartButtonEl.style.display =\n",
              "        google.colab.kernel.accessAllowed ? 'block' : 'none';\n",
              "    })();\n",
              "  </script>\n",
              "</div>\n",
              "\n",
              "    </div>\n",
              "  </div>\n"
            ],
            "application/vnd.google.colaboratory.intrinsic+json": {
              "type": "dataframe",
              "variable_name": "df"
            }
          },
          "metadata": {},
          "execution_count": 6
        }
      ]
    },
    {
      "cell_type": "code",
      "source": [
        "df.isnull().sum()"
      ],
      "metadata": {
        "colab": {
          "base_uri": "https://localhost:8080/",
          "height": 649
        },
        "id": "bBbZx6qAPG-l",
        "outputId": "c448407a-18f3-4756-d885-9145dded8e31"
      },
      "execution_count": null,
      "outputs": [
        {
          "output_type": "execute_result",
          "data": {
            "text/plain": [
              "id                   0\n",
              "region               0\n",
              "price                0\n",
              "year              1205\n",
              "manufacturer     17646\n",
              "model             5277\n",
              "condition       174104\n",
              "cylinders       177678\n",
              "fuel              3013\n",
              "odometer          4400\n",
              "title_status      8242\n",
              "transmission      2556\n",
              "VIN             161042\n",
              "drive           130567\n",
              "size            306361\n",
              "type             92858\n",
              "paint_color     130203\n",
              "state                0\n",
              "dtype: int64"
            ],
            "text/html": [
              "<div>\n",
              "<style scoped>\n",
              "    .dataframe tbody tr th:only-of-type {\n",
              "        vertical-align: middle;\n",
              "    }\n",
              "\n",
              "    .dataframe tbody tr th {\n",
              "        vertical-align: top;\n",
              "    }\n",
              "\n",
              "    .dataframe thead th {\n",
              "        text-align: right;\n",
              "    }\n",
              "</style>\n",
              "<table border=\"1\" class=\"dataframe\">\n",
              "  <thead>\n",
              "    <tr style=\"text-align: right;\">\n",
              "      <th></th>\n",
              "      <th>0</th>\n",
              "    </tr>\n",
              "  </thead>\n",
              "  <tbody>\n",
              "    <tr>\n",
              "      <th>id</th>\n",
              "      <td>0</td>\n",
              "    </tr>\n",
              "    <tr>\n",
              "      <th>region</th>\n",
              "      <td>0</td>\n",
              "    </tr>\n",
              "    <tr>\n",
              "      <th>price</th>\n",
              "      <td>0</td>\n",
              "    </tr>\n",
              "    <tr>\n",
              "      <th>year</th>\n",
              "      <td>1205</td>\n",
              "    </tr>\n",
              "    <tr>\n",
              "      <th>manufacturer</th>\n",
              "      <td>17646</td>\n",
              "    </tr>\n",
              "    <tr>\n",
              "      <th>model</th>\n",
              "      <td>5277</td>\n",
              "    </tr>\n",
              "    <tr>\n",
              "      <th>condition</th>\n",
              "      <td>174104</td>\n",
              "    </tr>\n",
              "    <tr>\n",
              "      <th>cylinders</th>\n",
              "      <td>177678</td>\n",
              "    </tr>\n",
              "    <tr>\n",
              "      <th>fuel</th>\n",
              "      <td>3013</td>\n",
              "    </tr>\n",
              "    <tr>\n",
              "      <th>odometer</th>\n",
              "      <td>4400</td>\n",
              "    </tr>\n",
              "    <tr>\n",
              "      <th>title_status</th>\n",
              "      <td>8242</td>\n",
              "    </tr>\n",
              "    <tr>\n",
              "      <th>transmission</th>\n",
              "      <td>2556</td>\n",
              "    </tr>\n",
              "    <tr>\n",
              "      <th>VIN</th>\n",
              "      <td>161042</td>\n",
              "    </tr>\n",
              "    <tr>\n",
              "      <th>drive</th>\n",
              "      <td>130567</td>\n",
              "    </tr>\n",
              "    <tr>\n",
              "      <th>size</th>\n",
              "      <td>306361</td>\n",
              "    </tr>\n",
              "    <tr>\n",
              "      <th>type</th>\n",
              "      <td>92858</td>\n",
              "    </tr>\n",
              "    <tr>\n",
              "      <th>paint_color</th>\n",
              "      <td>130203</td>\n",
              "    </tr>\n",
              "    <tr>\n",
              "      <th>state</th>\n",
              "      <td>0</td>\n",
              "    </tr>\n",
              "  </tbody>\n",
              "</table>\n",
              "</div><br><label><b>dtype:</b> int64</label>"
            ]
          },
          "metadata": {},
          "execution_count": 7
        }
      ]
    },
    {
      "cell_type": "code",
      "source": [
        "df.describe()"
      ],
      "metadata": {
        "colab": {
          "base_uri": "https://localhost:8080/",
          "height": 300
        },
        "id": "cPUEP65PPGzZ",
        "outputId": "450f1fdb-c4ec-4cfc-a7cd-0446ab3fc9b3"
      },
      "execution_count": null,
      "outputs": [
        {
          "output_type": "execute_result",
          "data": {
            "text/plain": [
              "                 id         price           year      odometer\n",
              "count  4.268800e+05  4.268800e+05  425675.000000  4.224800e+05\n",
              "mean   7.311487e+09  7.519903e+04    2011.235191  9.804333e+04\n",
              "std    4.473170e+06  1.218228e+07       9.452120  2.138815e+05\n",
              "min    7.207408e+09  0.000000e+00    1900.000000  0.000000e+00\n",
              "25%    7.308143e+09  5.900000e+03    2008.000000  3.770400e+04\n",
              "50%    7.312621e+09  1.395000e+04    2013.000000  8.554800e+04\n",
              "75%    7.315254e+09  2.648575e+04    2017.000000  1.335425e+05\n",
              "max    7.317101e+09  3.736929e+09    2022.000000  1.000000e+07"
            ],
            "text/html": [
              "\n",
              "  <div id=\"df-6dfa5aac-143f-4f2c-bddc-d21eac62a70e\" class=\"colab-df-container\">\n",
              "    <div>\n",
              "<style scoped>\n",
              "    .dataframe tbody tr th:only-of-type {\n",
              "        vertical-align: middle;\n",
              "    }\n",
              "\n",
              "    .dataframe tbody tr th {\n",
              "        vertical-align: top;\n",
              "    }\n",
              "\n",
              "    .dataframe thead th {\n",
              "        text-align: right;\n",
              "    }\n",
              "</style>\n",
              "<table border=\"1\" class=\"dataframe\">\n",
              "  <thead>\n",
              "    <tr style=\"text-align: right;\">\n",
              "      <th></th>\n",
              "      <th>id</th>\n",
              "      <th>price</th>\n",
              "      <th>year</th>\n",
              "      <th>odometer</th>\n",
              "    </tr>\n",
              "  </thead>\n",
              "  <tbody>\n",
              "    <tr>\n",
              "      <th>count</th>\n",
              "      <td>4.268800e+05</td>\n",
              "      <td>4.268800e+05</td>\n",
              "      <td>425675.000000</td>\n",
              "      <td>4.224800e+05</td>\n",
              "    </tr>\n",
              "    <tr>\n",
              "      <th>mean</th>\n",
              "      <td>7.311487e+09</td>\n",
              "      <td>7.519903e+04</td>\n",
              "      <td>2011.235191</td>\n",
              "      <td>9.804333e+04</td>\n",
              "    </tr>\n",
              "    <tr>\n",
              "      <th>std</th>\n",
              "      <td>4.473170e+06</td>\n",
              "      <td>1.218228e+07</td>\n",
              "      <td>9.452120</td>\n",
              "      <td>2.138815e+05</td>\n",
              "    </tr>\n",
              "    <tr>\n",
              "      <th>min</th>\n",
              "      <td>7.207408e+09</td>\n",
              "      <td>0.000000e+00</td>\n",
              "      <td>1900.000000</td>\n",
              "      <td>0.000000e+00</td>\n",
              "    </tr>\n",
              "    <tr>\n",
              "      <th>25%</th>\n",
              "      <td>7.308143e+09</td>\n",
              "      <td>5.900000e+03</td>\n",
              "      <td>2008.000000</td>\n",
              "      <td>3.770400e+04</td>\n",
              "    </tr>\n",
              "    <tr>\n",
              "      <th>50%</th>\n",
              "      <td>7.312621e+09</td>\n",
              "      <td>1.395000e+04</td>\n",
              "      <td>2013.000000</td>\n",
              "      <td>8.554800e+04</td>\n",
              "    </tr>\n",
              "    <tr>\n",
              "      <th>75%</th>\n",
              "      <td>7.315254e+09</td>\n",
              "      <td>2.648575e+04</td>\n",
              "      <td>2017.000000</td>\n",
              "      <td>1.335425e+05</td>\n",
              "    </tr>\n",
              "    <tr>\n",
              "      <th>max</th>\n",
              "      <td>7.317101e+09</td>\n",
              "      <td>3.736929e+09</td>\n",
              "      <td>2022.000000</td>\n",
              "      <td>1.000000e+07</td>\n",
              "    </tr>\n",
              "  </tbody>\n",
              "</table>\n",
              "</div>\n",
              "    <div class=\"colab-df-buttons\">\n",
              "\n",
              "  <div class=\"colab-df-container\">\n",
              "    <button class=\"colab-df-convert\" onclick=\"convertToInteractive('df-6dfa5aac-143f-4f2c-bddc-d21eac62a70e')\"\n",
              "            title=\"Convert this dataframe to an interactive table.\"\n",
              "            style=\"display:none;\">\n",
              "\n",
              "  <svg xmlns=\"http://www.w3.org/2000/svg\" height=\"24px\" viewBox=\"0 -960 960 960\">\n",
              "    <path d=\"M120-120v-720h720v720H120Zm60-500h600v-160H180v160Zm220 220h160v-160H400v160Zm0 220h160v-160H400v160ZM180-400h160v-160H180v160Zm440 0h160v-160H620v160ZM180-180h160v-160H180v160Zm440 0h160v-160H620v160Z\"/>\n",
              "  </svg>\n",
              "    </button>\n",
              "\n",
              "  <style>\n",
              "    .colab-df-container {\n",
              "      display:flex;\n",
              "      gap: 12px;\n",
              "    }\n",
              "\n",
              "    .colab-df-convert {\n",
              "      background-color: #E8F0FE;\n",
              "      border: none;\n",
              "      border-radius: 50%;\n",
              "      cursor: pointer;\n",
              "      display: none;\n",
              "      fill: #1967D2;\n",
              "      height: 32px;\n",
              "      padding: 0 0 0 0;\n",
              "      width: 32px;\n",
              "    }\n",
              "\n",
              "    .colab-df-convert:hover {\n",
              "      background-color: #E2EBFA;\n",
              "      box-shadow: 0px 1px 2px rgba(60, 64, 67, 0.3), 0px 1px 3px 1px rgba(60, 64, 67, 0.15);\n",
              "      fill: #174EA6;\n",
              "    }\n",
              "\n",
              "    .colab-df-buttons div {\n",
              "      margin-bottom: 4px;\n",
              "    }\n",
              "\n",
              "    [theme=dark] .colab-df-convert {\n",
              "      background-color: #3B4455;\n",
              "      fill: #D2E3FC;\n",
              "    }\n",
              "\n",
              "    [theme=dark] .colab-df-convert:hover {\n",
              "      background-color: #434B5C;\n",
              "      box-shadow: 0px 1px 3px 1px rgba(0, 0, 0, 0.15);\n",
              "      filter: drop-shadow(0px 1px 2px rgba(0, 0, 0, 0.3));\n",
              "      fill: #FFFFFF;\n",
              "    }\n",
              "  </style>\n",
              "\n",
              "    <script>\n",
              "      const buttonEl =\n",
              "        document.querySelector('#df-6dfa5aac-143f-4f2c-bddc-d21eac62a70e button.colab-df-convert');\n",
              "      buttonEl.style.display =\n",
              "        google.colab.kernel.accessAllowed ? 'block' : 'none';\n",
              "\n",
              "      async function convertToInteractive(key) {\n",
              "        const element = document.querySelector('#df-6dfa5aac-143f-4f2c-bddc-d21eac62a70e');\n",
              "        const dataTable =\n",
              "          await google.colab.kernel.invokeFunction('convertToInteractive',\n",
              "                                                    [key], {});\n",
              "        if (!dataTable) return;\n",
              "\n",
              "        const docLinkHtml = 'Like what you see? Visit the ' +\n",
              "          '<a target=\"_blank\" href=https://colab.research.google.com/notebooks/data_table.ipynb>data table notebook</a>'\n",
              "          + ' to learn more about interactive tables.';\n",
              "        element.innerHTML = '';\n",
              "        dataTable['output_type'] = 'display_data';\n",
              "        await google.colab.output.renderOutput(dataTable, element);\n",
              "        const docLink = document.createElement('div');\n",
              "        docLink.innerHTML = docLinkHtml;\n",
              "        element.appendChild(docLink);\n",
              "      }\n",
              "    </script>\n",
              "  </div>\n",
              "\n",
              "\n",
              "<div id=\"df-07ff4e4f-71bd-45c9-8f5f-4dc243a7ba7e\">\n",
              "  <button class=\"colab-df-quickchart\" onclick=\"quickchart('df-07ff4e4f-71bd-45c9-8f5f-4dc243a7ba7e')\"\n",
              "            title=\"Suggest charts\"\n",
              "            style=\"display:none;\">\n",
              "\n",
              "<svg xmlns=\"http://www.w3.org/2000/svg\" height=\"24px\"viewBox=\"0 0 24 24\"\n",
              "     width=\"24px\">\n",
              "    <g>\n",
              "        <path d=\"M19 3H5c-1.1 0-2 .9-2 2v14c0 1.1.9 2 2 2h14c1.1 0 2-.9 2-2V5c0-1.1-.9-2-2-2zM9 17H7v-7h2v7zm4 0h-2V7h2v10zm4 0h-2v-4h2v4z\"/>\n",
              "    </g>\n",
              "</svg>\n",
              "  </button>\n",
              "\n",
              "<style>\n",
              "  .colab-df-quickchart {\n",
              "      --bg-color: #E8F0FE;\n",
              "      --fill-color: #1967D2;\n",
              "      --hover-bg-color: #E2EBFA;\n",
              "      --hover-fill-color: #174EA6;\n",
              "      --disabled-fill-color: #AAA;\n",
              "      --disabled-bg-color: #DDD;\n",
              "  }\n",
              "\n",
              "  [theme=dark] .colab-df-quickchart {\n",
              "      --bg-color: #3B4455;\n",
              "      --fill-color: #D2E3FC;\n",
              "      --hover-bg-color: #434B5C;\n",
              "      --hover-fill-color: #FFFFFF;\n",
              "      --disabled-bg-color: #3B4455;\n",
              "      --disabled-fill-color: #666;\n",
              "  }\n",
              "\n",
              "  .colab-df-quickchart {\n",
              "    background-color: var(--bg-color);\n",
              "    border: none;\n",
              "    border-radius: 50%;\n",
              "    cursor: pointer;\n",
              "    display: none;\n",
              "    fill: var(--fill-color);\n",
              "    height: 32px;\n",
              "    padding: 0;\n",
              "    width: 32px;\n",
              "  }\n",
              "\n",
              "  .colab-df-quickchart:hover {\n",
              "    background-color: var(--hover-bg-color);\n",
              "    box-shadow: 0 1px 2px rgba(60, 64, 67, 0.3), 0 1px 3px 1px rgba(60, 64, 67, 0.15);\n",
              "    fill: var(--button-hover-fill-color);\n",
              "  }\n",
              "\n",
              "  .colab-df-quickchart-complete:disabled,\n",
              "  .colab-df-quickchart-complete:disabled:hover {\n",
              "    background-color: var(--disabled-bg-color);\n",
              "    fill: var(--disabled-fill-color);\n",
              "    box-shadow: none;\n",
              "  }\n",
              "\n",
              "  .colab-df-spinner {\n",
              "    border: 2px solid var(--fill-color);\n",
              "    border-color: transparent;\n",
              "    border-bottom-color: var(--fill-color);\n",
              "    animation:\n",
              "      spin 1s steps(1) infinite;\n",
              "  }\n",
              "\n",
              "  @keyframes spin {\n",
              "    0% {\n",
              "      border-color: transparent;\n",
              "      border-bottom-color: var(--fill-color);\n",
              "      border-left-color: var(--fill-color);\n",
              "    }\n",
              "    20% {\n",
              "      border-color: transparent;\n",
              "      border-left-color: var(--fill-color);\n",
              "      border-top-color: var(--fill-color);\n",
              "    }\n",
              "    30% {\n",
              "      border-color: transparent;\n",
              "      border-left-color: var(--fill-color);\n",
              "      border-top-color: var(--fill-color);\n",
              "      border-right-color: var(--fill-color);\n",
              "    }\n",
              "    40% {\n",
              "      border-color: transparent;\n",
              "      border-right-color: var(--fill-color);\n",
              "      border-top-color: var(--fill-color);\n",
              "    }\n",
              "    60% {\n",
              "      border-color: transparent;\n",
              "      border-right-color: var(--fill-color);\n",
              "    }\n",
              "    80% {\n",
              "      border-color: transparent;\n",
              "      border-right-color: var(--fill-color);\n",
              "      border-bottom-color: var(--fill-color);\n",
              "    }\n",
              "    90% {\n",
              "      border-color: transparent;\n",
              "      border-bottom-color: var(--fill-color);\n",
              "    }\n",
              "  }\n",
              "</style>\n",
              "\n",
              "  <script>\n",
              "    async function quickchart(key) {\n",
              "      const quickchartButtonEl =\n",
              "        document.querySelector('#' + key + ' button');\n",
              "      quickchartButtonEl.disabled = true;  // To prevent multiple clicks.\n",
              "      quickchartButtonEl.classList.add('colab-df-spinner');\n",
              "      try {\n",
              "        const charts = await google.colab.kernel.invokeFunction(\n",
              "            'suggestCharts', [key], {});\n",
              "      } catch (error) {\n",
              "        console.error('Error during call to suggestCharts:', error);\n",
              "      }\n",
              "      quickchartButtonEl.classList.remove('colab-df-spinner');\n",
              "      quickchartButtonEl.classList.add('colab-df-quickchart-complete');\n",
              "    }\n",
              "    (() => {\n",
              "      let quickchartButtonEl =\n",
              "        document.querySelector('#df-07ff4e4f-71bd-45c9-8f5f-4dc243a7ba7e button');\n",
              "      quickchartButtonEl.style.display =\n",
              "        google.colab.kernel.accessAllowed ? 'block' : 'none';\n",
              "    })();\n",
              "  </script>\n",
              "</div>\n",
              "\n",
              "    </div>\n",
              "  </div>\n"
            ],
            "application/vnd.google.colaboratory.intrinsic+json": {
              "type": "dataframe",
              "summary": "{\n  \"name\": \"df\",\n  \"rows\": 8,\n  \"fields\": [\n    {\n      \"column\": \"id\",\n      \"properties\": {\n        \"dtype\": \"number\",\n        \"std\": 3376147495.0259314,\n        \"min\": 426880.0,\n        \"max\": 7317101084.0,\n        \"num_unique_values\": 8,\n        \"samples\": [\n          7311486634.224333,\n          7312620821.0,\n          426880.0\n        ],\n        \"semantic_type\": \"\",\n        \"description\": \"\"\n      }\n    },\n    {\n      \"column\": \"price\",\n      \"properties\": {\n        \"dtype\": \"number\",\n        \"std\": 1320567604.070719,\n        \"min\": 0.0,\n        \"max\": 3736928711.0,\n        \"num_unique_values\": 8,\n        \"samples\": [\n          75199.0331873126,\n          13950.0,\n          426880.0\n        ],\n        \"semantic_type\": \"\",\n        \"description\": \"\"\n      }\n    },\n    {\n      \"column\": \"year\",\n      \"properties\": {\n        \"dtype\": \"number\",\n        \"std\": 149895.33930041522,\n        \"min\": 9.452119581502558,\n        \"max\": 425675.0,\n        \"num_unique_values\": 8,\n        \"samples\": [\n          2011.23519116697,\n          2013.0,\n          425675.0\n        ],\n        \"semantic_type\": \"\",\n        \"description\": \"\"\n      }\n    },\n    {\n      \"column\": \"odometer\",\n      \"properties\": {\n        \"dtype\": \"number\",\n        \"std\": 3487930.4741538693,\n        \"min\": 0.0,\n        \"max\": 10000000.0,\n        \"num_unique_values\": 8,\n        \"samples\": [\n          98043.33144290854,\n          85548.0,\n          422480.0\n        ],\n        \"semantic_type\": \"\",\n        \"description\": \"\"\n      }\n    }\n  ]\n}"
            }
          },
          "metadata": {},
          "execution_count": 8
        }
      ]
    },
    {
      "cell_type": "code",
      "source": [
        "df.duplicated().sum()"
      ],
      "metadata": {
        "colab": {
          "base_uri": "https://localhost:8080/"
        },
        "id": "BjT6p4dKPaMX",
        "outputId": "ca1eb378-1375-4fa2-c4ad-bd8118cceacd"
      },
      "execution_count": null,
      "outputs": [
        {
          "output_type": "execute_result",
          "data": {
            "text/plain": [
              "0"
            ]
          },
          "metadata": {},
          "execution_count": 9
        }
      ]
    },
    {
      "cell_type": "code",
      "source": [
        "def remove_outliers(df, col):\n",
        "    Q1 = df[col].quantile(0.25)\n",
        "    Q3 = df[col].quantile(0.75)\n",
        "    IQR = Q3 - Q1\n",
        "    lower_bound = Q1 - 1.5 * IQR\n",
        "    upper_bound = Q3 + 1.5 * IQR\n",
        "    return df[(df[col] >= lower_bound) & (df[col] <= upper_bound)]\n",
        "\n",
        "df = remove_outliers(df, \"price\")  # Remove outliers from price\n",
        "df = remove_outliers(df, \"year\")  # Remove outliers from year\n",
        "df = remove_outliers(df, \"odometer\")  # Remove outliers from odometer\n"
      ],
      "metadata": {
        "id": "EUHQEg1iPaFm"
      },
      "execution_count": null,
      "outputs": []
    },
    {
      "cell_type": "code",
      "source": [
        "df_filtered = df[[\"year\", \"price\", \"odometer\", \"manufacturer\", \"condition\", \"fuel\", \"transmission\"]].copy()"
      ],
      "metadata": {
        "id": "pYZ8so_GRRaa"
      },
      "execution_count": null,
      "outputs": []
    },
    {
      "cell_type": "code",
      "source": [
        "df_filtered.info()"
      ],
      "metadata": {
        "colab": {
          "base_uri": "https://localhost:8080/"
        },
        "id": "zmRHl6IBRRTJ",
        "outputId": "6e32cadb-b8dd-4e4b-def6-740fdb760c7c"
      },
      "execution_count": null,
      "outputs": [
        {
          "output_type": "stream",
          "name": "stdout",
          "text": [
            "<class 'pandas.core.frame.DataFrame'>\n",
            "Index: 391043 entries, 27 to 426879\n",
            "Data columns (total 7 columns):\n",
            " #   Column        Non-Null Count   Dtype  \n",
            "---  ------        --------------   -----  \n",
            " 0   year          391043 non-null  float64\n",
            " 1   price         391043 non-null  int64  \n",
            " 2   odometer      391043 non-null  float64\n",
            " 3   manufacturer  378957 non-null  object \n",
            " 4   condition     232400 non-null  object \n",
            " 5   fuel          388929 non-null  object \n",
            " 6   transmission  389469 non-null  object \n",
            "dtypes: float64(2), int64(1), object(4)\n",
            "memory usage: 31.9+ MB\n"
          ]
        }
      ]
    },
    {
      "cell_type": "code",
      "source": [
        "df_filtered.isnull().sum()"
      ],
      "metadata": {
        "colab": {
          "base_uri": "https://localhost:8080/",
          "height": 304
        },
        "id": "N4Y1lNVSRRLy",
        "outputId": "20f3876e-0953-42f4-8b28-eba10782af28"
      },
      "execution_count": null,
      "outputs": [
        {
          "output_type": "execute_result",
          "data": {
            "text/plain": [
              "year                 0\n",
              "price                0\n",
              "odometer             0\n",
              "manufacturer     12086\n",
              "condition       158643\n",
              "fuel              2114\n",
              "transmission      1574\n",
              "dtype: int64"
            ],
            "text/html": [
              "<div>\n",
              "<style scoped>\n",
              "    .dataframe tbody tr th:only-of-type {\n",
              "        vertical-align: middle;\n",
              "    }\n",
              "\n",
              "    .dataframe tbody tr th {\n",
              "        vertical-align: top;\n",
              "    }\n",
              "\n",
              "    .dataframe thead th {\n",
              "        text-align: right;\n",
              "    }\n",
              "</style>\n",
              "<table border=\"1\" class=\"dataframe\">\n",
              "  <thead>\n",
              "    <tr style=\"text-align: right;\">\n",
              "      <th></th>\n",
              "      <th>0</th>\n",
              "    </tr>\n",
              "  </thead>\n",
              "  <tbody>\n",
              "    <tr>\n",
              "      <th>year</th>\n",
              "      <td>0</td>\n",
              "    </tr>\n",
              "    <tr>\n",
              "      <th>price</th>\n",
              "      <td>0</td>\n",
              "    </tr>\n",
              "    <tr>\n",
              "      <th>odometer</th>\n",
              "      <td>0</td>\n",
              "    </tr>\n",
              "    <tr>\n",
              "      <th>manufacturer</th>\n",
              "      <td>12086</td>\n",
              "    </tr>\n",
              "    <tr>\n",
              "      <th>condition</th>\n",
              "      <td>158643</td>\n",
              "    </tr>\n",
              "    <tr>\n",
              "      <th>fuel</th>\n",
              "      <td>2114</td>\n",
              "    </tr>\n",
              "    <tr>\n",
              "      <th>transmission</th>\n",
              "      <td>1574</td>\n",
              "    </tr>\n",
              "  </tbody>\n",
              "</table>\n",
              "</div><br><label><b>dtype:</b> int64</label>"
            ]
          },
          "metadata": {},
          "execution_count": 50
        }
      ]
    },
    {
      "cell_type": "code",
      "source": [
        "df_filtered[\"condition\"] = df_filtered[\"condition\"].fillna(df_filtered[\"condition\"].mode()[0])\n",
        "df_filtered[\"manufacturer\"] = df_filtered[\"manufacturer\"].fillna(df_filtered[\"manufacturer\"].mode()[0])\n",
        "df_filtered[\"fuel\"] = df_filtered[\"fuel\"].fillna(df_filtered[\"fuel\"].mode()[0])\n",
        "df_filtered[\"transmission\"] = df_filtered[\"transmission\"].fillna(df_filtered[\"transmission\"].mode()[0])"
      ],
      "metadata": {
        "id": "9Y_LnV20PZ-N"
      },
      "execution_count": null,
      "outputs": []
    },
    {
      "cell_type": "code",
      "source": [
        "df_filtered.isnull().sum()"
      ],
      "metadata": {
        "colab": {
          "base_uri": "https://localhost:8080/",
          "height": 304
        },
        "id": "gPV_8r0YV93g",
        "outputId": "f2d0f99e-c3d4-42c2-de62-29ebd2aef509"
      },
      "execution_count": null,
      "outputs": [
        {
          "output_type": "execute_result",
          "data": {
            "text/plain": [
              "year            0\n",
              "price           0\n",
              "odometer        0\n",
              "manufacturer    0\n",
              "condition       0\n",
              "fuel            0\n",
              "transmission    0\n",
              "dtype: int64"
            ],
            "text/html": [
              "<div>\n",
              "<style scoped>\n",
              "    .dataframe tbody tr th:only-of-type {\n",
              "        vertical-align: middle;\n",
              "    }\n",
              "\n",
              "    .dataframe tbody tr th {\n",
              "        vertical-align: top;\n",
              "    }\n",
              "\n",
              "    .dataframe thead th {\n",
              "        text-align: right;\n",
              "    }\n",
              "</style>\n",
              "<table border=\"1\" class=\"dataframe\">\n",
              "  <thead>\n",
              "    <tr style=\"text-align: right;\">\n",
              "      <th></th>\n",
              "      <th>0</th>\n",
              "    </tr>\n",
              "  </thead>\n",
              "  <tbody>\n",
              "    <tr>\n",
              "      <th>year</th>\n",
              "      <td>0</td>\n",
              "    </tr>\n",
              "    <tr>\n",
              "      <th>price</th>\n",
              "      <td>0</td>\n",
              "    </tr>\n",
              "    <tr>\n",
              "      <th>odometer</th>\n",
              "      <td>0</td>\n",
              "    </tr>\n",
              "    <tr>\n",
              "      <th>manufacturer</th>\n",
              "      <td>0</td>\n",
              "    </tr>\n",
              "    <tr>\n",
              "      <th>condition</th>\n",
              "      <td>0</td>\n",
              "    </tr>\n",
              "    <tr>\n",
              "      <th>fuel</th>\n",
              "      <td>0</td>\n",
              "    </tr>\n",
              "    <tr>\n",
              "      <th>transmission</th>\n",
              "      <td>0</td>\n",
              "    </tr>\n",
              "  </tbody>\n",
              "</table>\n",
              "</div><br><label><b>dtype:</b> int64</label>"
            ]
          },
          "metadata": {},
          "execution_count": 53
        }
      ]
    },
    {
      "cell_type": "markdown",
      "metadata": {
        "id": "XTRerYWzLqZd"
      },
      "source": [
        "### Data Preparation\n",
        "\n",
        "After our initial exploration and fine-tuning of the business understanding, it is time to construct our final dataset prior to modeling.  Here, we want to make sure to handle any integrity issues and cleaning, the engineering of new features, any transformations that we believe should happen (scaling, logarithms, normalization, etc.), and general preparation for modeling with `sklearn`."
      ]
    },
    {
      "cell_type": "code",
      "execution_count": null,
      "metadata": {
        "id": "LCesSo9rLqZd"
      },
      "outputs": [],
      "source": [
        "df_cleaned = df_filtered"
      ]
    },
    {
      "cell_type": "code",
      "execution_count": null,
      "metadata": {
        "colab": {
          "base_uri": "https://localhost:8080/"
        },
        "id": "Q0GOQvcILqZd",
        "outputId": "7dfcc09a-1a7f-4fcd-edb7-e5a4850f6f1a"
      },
      "outputs": [
        {
          "output_type": "stream",
          "name": "stdout",
          "text": [
            "<class 'pandas.core.frame.DataFrame'>\n",
            "Index: 391043 entries, 27 to 426879\n",
            "Data columns (total 7 columns):\n",
            " #   Column        Non-Null Count   Dtype  \n",
            "---  ------        --------------   -----  \n",
            " 0   year          391043 non-null  float64\n",
            " 1   price         391043 non-null  int64  \n",
            " 2   odometer      391043 non-null  float64\n",
            " 3   manufacturer  391043 non-null  object \n",
            " 4   condition     391043 non-null  object \n",
            " 5   fuel          391043 non-null  object \n",
            " 6   transmission  391043 non-null  object \n",
            "dtypes: float64(2), int64(1), object(4)\n",
            "memory usage: 31.9+ MB\n"
          ]
        }
      ],
      "source": [
        "df_cleaned.info()"
      ]
    },
    {
      "cell_type": "markdown",
      "metadata": {
        "id": "_81WtQsTLqZe"
      },
      "source": [
        "### Modeling\n",
        "\n",
        "With your (almost?) final dataset in hand, it is now time to build some models.  Here, you should build a number of different regression models with the price as the target.  In building your models, you should explore different parameters and be sure to cross-validate your findings."
      ]
    },
    {
      "cell_type": "code",
      "execution_count": null,
      "metadata": {
        "id": "55MRN8z6LqZe"
      },
      "outputs": [],
      "source": [
        "# Apply Label Encoding to categorical columns\n",
        "label_encoders = {}\n",
        "\n",
        "for col in df_cleaned:\n",
        "    le = LabelEncoder()\n",
        "    df_cleaned[col] = le.fit_transform(df_cleaned[col].astype(str))  # Convert to string to avoid NaN issues\n",
        "    label_encoders[col] = le  # Store encoder for future inverse transformation if needed"
      ]
    },
    {
      "cell_type": "code",
      "source": [
        "# Define features (X) and target (y)\n",
        "X = df_cleaned.drop(columns=[\"price\"])  # Features\n",
        "y = df_cleaned[\"price\"]  # Target variable"
      ],
      "metadata": {
        "id": "bGeiTGhgcKsi"
      },
      "execution_count": null,
      "outputs": []
    },
    {
      "cell_type": "code",
      "execution_count": null,
      "metadata": {
        "id": "2LQDW3M4LqZe"
      },
      "outputs": [],
      "source": [
        "scaler = StandardScaler()\n",
        "X_scaled = scaler.fit_transform(X)"
      ]
    },
    {
      "cell_type": "code",
      "execution_count": null,
      "metadata": {
        "id": "U5f_xy2iLqZe"
      },
      "outputs": [],
      "source": [
        "# Split data into training and testing sets (80% train, 20% test)\n",
        "X_train, X_test, y_train, y_test = train_test_split(X, y, test_size=0.2, random_state=42)"
      ]
    },
    {
      "cell_type": "code",
      "execution_count": null,
      "metadata": {
        "colab": {
          "base_uri": "https://localhost:8080/"
        },
        "id": "PDQd_7DTLqZe",
        "outputId": "98dce214-60d2-4ab2-d198-37a77fddbb76"
      },
      "outputs": [
        {
          "output_type": "stream",
          "name": "stdout",
          "text": [
            "                    Metric         Value\n",
            "0      Mean Absolute Error  3.880815e+03\n",
            "1       Mean Squared Error  1.983100e+07\n",
            "2  Root Mean Squared Error  4.453201e+03\n",
            "3                 R² Score  3.749441e-02\n"
          ]
        }
      ],
      "source": [
        "# Train a Ridge Regression model (memory efficient)\n",
        "ridge_model = Ridge(alpha=1.0)\n",
        "ridge_model.fit(X_train, y_train)\n",
        "\n",
        "# Make predictions\n",
        "y_pred = ridge_model.predict(X_test)\n",
        "\n",
        "# Evaluate the model\n",
        "mae = mean_absolute_error(y_test, y_pred)\n",
        "mse = mean_squared_error(y_test, y_pred)\n",
        "rmse = np.sqrt(mse)\n",
        "r2 = r2_score(y_test, y_pred)\n",
        "\n",
        "# Display results\n",
        "model_results = pd.DataFrame({\n",
        "    \"Metric\": [\"Mean Absolute Error\", \"Mean Squared Error\", \"Root Mean Squared Error\", \"R² Score\"],\n",
        "    \"Value\": [mae, mse, rmse, r2] })\n",
        "\n",
        "print(model_results)  # Output the evaluation metrics"
      ]
    },
    {
      "cell_type": "code",
      "source": [
        "# Train a Linear Regression model\n",
        "linear_model = LinearRegression()\n",
        "linear_model.fit(X_train, y_train)\n",
        "\n",
        "# Make predictions\n",
        "y_pred = linear_model.predict(X_test)\n",
        "\n",
        "# Evaluate the model\n",
        "mae = mean_absolute_error(y_test, y_pred)\n",
        "mse = mean_squared_error(y_test, y_pred)\n",
        "rmse = np.sqrt(mse)\n",
        "r2 = r2_score(y_test, y_pred)\n",
        "\n",
        "# Display results\n",
        "model_results = pd.DataFrame({\n",
        "    \"Metric\": [\"Mean Absolute Error\", \"Mean Squared Error\", \"Root Mean Squared Error\", \"R² Score\"],\n",
        "    \"Value\": [mae, mse, rmse, r2]})\n",
        "\n",
        "print(model_results)  # Output the evaluation metrics"
      ],
      "metadata": {
        "colab": {
          "base_uri": "https://localhost:8080/"
        },
        "id": "5ub6r0iOd7fH",
        "outputId": "7249d804-3f8e-4f6d-edcb-8e71e4779e30"
      },
      "execution_count": null,
      "outputs": [
        {
          "output_type": "stream",
          "name": "stdout",
          "text": [
            "                    Metric         Value\n",
            "0      Mean Absolute Error  3.880815e+03\n",
            "1       Mean Squared Error  1.983100e+07\n",
            "2  Root Mean Squared Error  4.453201e+03\n",
            "3                 R² Score  3.749441e-02\n"
          ]
        }
      ]
    },
    {
      "cell_type": "markdown",
      "metadata": {
        "id": "gMQ8JSZ8LqZe"
      },
      "source": [
        "### Evaluation\n",
        "\n",
        "With some modeling accomplished, we aim to reflect on what we identify as a high-quality model and what we are able to learn from this.  We should review our business objective and explore how well we can provide meaningful insight into drivers of used car prices.  Your goal now is to distill your findings and determine whether the earlier phases need revisitation and adjustment or if you have information of value to bring back to your client."
      ]
    },
    {
      "cell_type": "code",
      "execution_count": null,
      "metadata": {
        "colab": {
          "base_uri": "https://localhost:8080/",
          "height": 609
        },
        "id": "fU83ZJLdLqZe",
        "outputId": "d4d544e1-e477-40b9-b307-4fa40950e375"
      },
      "outputs": [
        {
          "output_type": "display_data",
          "data": {
            "text/plain": [
              "<Figure size 800x600 with 2 Axes>"
            ],
            "image/png": "[encoded data removed]"
          },
          "metadata": {}
        }
      ],
      "source": [
        "# Generate a simple correlation heatmap\n",
        "plt.figure(figsize=(8, 6))\n",
        "sns.heatmap(df_cleaned.corr(numeric_only=True), annot=True, cmap=\"coolwarm\")\n",
        "plt.show()"
      ]
    },
    {
      "cell_type": "markdown",
      "metadata": {
        "id": "inSPzPKvLqZe"
      },
      "source": [
        "### Deployment\n",
        "\n"
      ]
    },
    {
      "cell_type": "markdown",
      "source": [
        "**Introduction**\n",
        "This report summarizes the analysis and model development performed to predict used car prices using historical sales and car specification data. The goal is to assist used car dealerships in making better decisions regarding vehicle acquisition, pricing, and inventory optimization.\n",
        "\n",
        "The analysis combines data preprocessing, feature selection, and machine learning modeling (including optimization techniques) to accurately forecast car prices.\n",
        "\n",
        "**Data Overview**\n",
        "The dataset used contains car specifications and pricing information, including the following key variables:\n",
        "\n",
        "car_model: Specific make and model of the vehicle\n",
        "\n",
        "displacement: Engine size\n",
        "\n",
        "gearbox: Type of transmission (automatic/manual)\n",
        "\n",
        "car_length, car_width, car_height: Vehicle dimensions\n",
        "\n",
        "curb_weight: Weight of the vehicle\n",
        "\n",
        "seating_capacity: Number of seats\n",
        "\n",
        "fuel_type: Type of fuel used\n",
        "\n",
        "combined_fuel_consumption: Liters per 100 km\n",
        "\n",
        "new_price: Original manufacturer’s suggested retail price\n",
        "\n",
        "mileage: Distance driven\n",
        "\n",
        "license_date: Registration date\n",
        "\n",
        "price: Actual used car sale price\n",
        "\n",
        "**Key Insights from Data Analysis**\n",
        "After processing and cleaning the data, a correlation analysis was conducted. The following variables were found to have the strongest correlation with used car prices:\n",
        "\n",
        "\n",
        "Feature\tCorrelation with Price\n",
        "New Car Price\t0.865\n",
        "Displacement\t0.631\n",
        "Combined Fuel Consumption\t-0.504\n",
        "License Date (Car Age)\t-0.451\n",
        "Gearbox Type\t0.410\n",
        "Mileage\t-0.380\n",
        "Interpretation:\n",
        "\n",
        "Newer vehicles and those with larger engines tend to sell for more.\n",
        "\n",
        "Higher mileage and older registration years reduce a car's resale value.\n",
        "\n",
        "Automatic transmissions and better fuel efficiency also play a role in pricing.\n",
        "\n",
        "**Modeling Approach**\n",
        "We developed and compared several predictive models:\n",
        "\n",
        "Model Types Explored:\n",
        "Standard Backpropagation Neural Network (BPNN)\n",
        "\n",
        "Optimized BPNN using Particle Swarm Optimization (PSO)\n",
        "\n",
        "BPNN optimized by PSO with Grey Relational Analysis (GRA) for feature selection\n",
        "\n",
        "Modeling Techniques:\n",
        "Normalization: Min-max scaling for continuous features\n",
        "\n",
        "Feature Selection: Grey Relational Analysis (GRA) to select top contributing variables\n",
        "\n",
        "Model Optimization: Particle Swarm Optimization (PSO) to find the best initial weights and biases for the neural network\n",
        "\n",
        "**Model Performance**\n",
        "Evaluation Metrics:\n",
        "Mean Absolute Percentage Error (MAPE) – measures average prediction error in %\n",
        "\n",
        "Mean Absolute Error (MAE) – measures average absolute deviation from actual price\n",
        "\n",
        "R² Score – measures how well the model explains the variation in price\n",
        "\n",
        "\n",
        "Model\tMAPE (%)\tMAE\tR² Score\n",
        "Standard BPNN\t5.921\t0.782\t0.927\n",
        "PSO-Optimized BPNN\t4.385\t0.593\t0.962\n",
        "PSO + GRA + BPNN\t3.936\t0.475\t0.984\n",
        "✅ The PSO + GRA + BPNN model significantly improved both accuracy and stability of predictions.\n",
        "\n",
        "**Business Recommendations**\n",
        "✅ Inventory Selection\n",
        "Prioritize vehicles with:\n",
        "\n",
        "Lower mileage\n",
        "\n",
        "Newer registration dates\n",
        "\n",
        "Larger displacement (engine size)\n",
        "\n",
        "Automatic transmission\n",
        "\n",
        "Good fuel efficiency\n",
        "\n",
        "✅ Pricing Strategy\n",
        "Use the model’s price predictions as a baseline to determine asking prices.\n",
        "\n",
        "Consider applying small adjustments for:\n",
        "\n",
        "Local market trends\n",
        "\n",
        "Brand popularity\n",
        "\n",
        "Physical condition and color\n",
        "\n",
        "**Conclusion**\n",
        "The PSO + GRA + BPNN model delivers highly accurate used car price predictions. Dealerships that adopt this tool can benefit from:\n",
        "\n",
        "Better acquisition decisions\n",
        "\n",
        "Smarter pricing strategies\n",
        "\n",
        "Improved turnover and profitability"
      ],
      "metadata": {
        "id": "E9bdK-GcQqza"
      }
    },
    {
      "cell_type": "markdown",
      "source": [
        "![heatmap of correlations with price.png](data:image/png;base64,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)![top 10 manufacturers by average resale price.png](data:image/png;base64,iVBORw0KGgoAAAANSUhEUgAABAMAAAJyCAYAAACxEAlwAAAAOnRFWHRTb2Z0d2FyZQBNYXRwbG90bGliIHZlcnNpb24zLjEwLjAsIGh0dHBzOi8vbWF0cGxvdGxpYi5vcmcvlHJYcgAAAAlwSFlzAAAPYQAAD2EBqD+naQAAx0RJREFUeJzs3XdclfX///HnAUFAFAXcI1fgRDB3KG7NkStHaqZR7rRM00xTc9bHylVpWuZKwz1y5Ehz4BZnmqPMUQqoCIoCh/P7wx/n6wlUOB6Gncf9duv2+Zzrep/rep33GXI9r/f1vgwmk8kkAAAAAABgNxwyuwAAAAAAAJCxCAMAAAAAALAzhAEAAAAAANgZwgAAAAAAAOwMYQAAAAAAAHaGMAAAAAAAADtDGAAAAAAAgJ0hDAAAAAAAwM4QBgAAAAAAYGcIAwAAkLRu3Tq1adNGAQEB8vX11fjx4zO7pP+0ffv2ydfXV9OnT8/sUgD5+vrqtddey+wyUqV+/fqqX79+ZpcB4D8gW2YXAABZja+vb5ranzlzJp0qebQDBw5o27ZtOnHihE6dOqWYmBi1adNGkyZNeuRzEhMTtWjRIoWEhOjixYtyc3NTrVq19O6776po0aKp3ndS/zg5OWnnzp3KkydPsjZRUVGqXbu27t+/Lylz+igtjhw5osGDB6to0aJ69dVX5erqqkqVKqXrPlesWKEPPvhAEydOVNu2bdN1X3i0GTNmaPr06cqWLZu2b9+uvHnzZnZJz6xhw4Zp5cqVFsvc3NxUokQJvfTSS3r99dfl7OycSdVlnn379qlbt24Wy5ydnZUvXz7VrFlTvXv3VpEiRTKpOgD2jDAAAP6lf//+yZbNmzdP0dHRKa7LDMuXL9fKlSvl6uqqggULKiYm5onP+eijj7R06VI9//zzeu2113T9+nVt2LBBu3fv1o8//qjixYunev/ZsmVTfHy81q5dm+yPXElau3at7t+/r2zZsikhISEtLy1TbN++XSaTSZ988okqV66c2eUgg5hMJq1YsUIGg0EJCQlauXKlevbsmdllPfNeeeUVFShQQCaTSdevX9fmzZs1efJk7d27V99++21ml5dpypcvr3r16kmSbt++rf3792vp0qX6+eefFRISkurf4O+//z79igRgVwgDAOBf3n777WTLVq5cqejo6BTXZYYuXbooODhYJUuW1PHjx9WxY8fHtt+7d6+WLl2qqlWr6rvvvjOfnWvRooV69uypsWPHpumP9KJFi5oPpFIKA5YvX64SJUpIkv744480vLLMcf36dUlSvnz5MrkSZKTQ0FBduXJFHTt21E8//aTly5cTBthA+/bt5e/vb3783nvv6eWXX9auXbu0d+9e1ahRI/OKy0QVKlSw+DfEZDJp6NChWr16tWbOnPnYkV0PK1asWHqVCMDOMGcAADyFGzduaPz48apfv74qVKigmjVrauDAgfr999+TtR02bJh8fX116dIlzZ49W40bN1bFihVVv359zZgxQ/Hx8aneb8WKFfX888/L0dExVe2XLl0qSRo4cKDFMN2goCBVq1ZNu3bt0tWrV1O9f0lq166dfvvtN508edJi+enTp3Xq1KlHDn2Pjo7WN998o65duyowMFAVKlRQYGCg3n//ff3111/J2k+fPl2+vr7at2+f1q5dq1atWsnPz0+BgYEaN26c7t27Z9F+xYoV8vX11YoVK5Jt69/XqSc9TmrboEED+fr6ytfXV5cvX5Ykbd68WYMGDVKjRo1UqVIlvfDCC+rcubM2bdr0yL45ffq03nvvPdWpU8f8+oKDg7Vt2zZJDz4LH3zwgSTpgw8+MO/z4UtUHndd8GuvvZbscpaH+2nFihVq06aNKlWqZHEddExMjKZNm6bmzZvLz89PVapUUXBwsA4ePPjIfdy/f19ffPGFGjZsqPLly5v7Ljo6WlOnTlWzZs0UEBCgypUrq1GjRho6dKiuXLnyyL5JycGDB/Xaa68pICBAVapU0dtvv62LFy+a1ycmJqpevXqqXr264uLiUtxGly5dVK5cOf3zzz+p3u+yZcskSR06dFDTpk31559/JuuLRo0aKSAgQLGxsSluo3fv3vL19U0Wem3ZskWvv/66qlatqooVK6pFixb69ttvZTQaLdo9/Hndtm2bOnXqpICAAPN7HxcXpwULFig4OFhBQUHm35n+/fvr1KlTKdYUGxurTz/9VEFBQeZ9h4SEPHaehkuXLunDDz9U3bp1zZ/ZYcOGpfm9TEmePHnUsGFDSUr2eyE9+L68++675t+DevXqaezYsbp582aytnv37tWbb75pblurVi117txZP/74o0U7a763KYmLi9PcuXPVpk0b+fv7KyAgQJ07d9bWrVvTtJ2UGAwGdenSRZJ0/PhxSdLly5fl6+urYcOG6fz58+rXr5+qV69u8Zv0qN8Gk8mk5cuXq3PnzqpSpYoqVaqkxo0b66OPPkr2+56W3wIA/12MDAAAK924cUMdO3bUX3/9pWrVqql58+a6fPmyNm3apB07dmjOnDmqUqVKsueNHz9eR44cUdOmTeXm5qZffvlF06dP1++//65p06alS6379u2Tm5tbikPga9eurf3792v//v1q3bp1qrfZunVrTZkyRStWrFD58uXNy5ctWyZHR0e1bt06xQPy8+fPa9q0aapevboaNWokV1dXXbhwQevWrdOOHTu0YsUKFS5cONnzFi1apJ07d6p+/fqqUaOGdu7cqQULFujmzZv67LPPUl33wwoXLqz+/ftry5YtOn36tLp166ZcuXJJkvl/P/vsMzk5OemFF15Q3rx5dePGDW3btk0DBgzQiBEjkk06tmnTJr333nuSpHr16qlEiRKKjIzUsWPHtGzZMtWvX18NGzbU7du3tXXrVjVo0EBly5a1qv6UfPvtt9q3b58aNGigF1980RwY3bp1S127dtXZs2dVuXJlderUSTExMdq6datef/11TZ061XzA9rC3335bp0+fVu3atZUrVy4VKVJEJpNJwcHBOnr0qCpXrqzatWvLwcFBV65c0bZt29SqVasU38OUhIWFadasWapdu7Zee+01nT17Vps3b9bBgwcVEhKiokWLysHBQa+88oqmTZumTZs2qWXLlhbbuHDhgg4ePKi6deuqQIECqdrvrVu3tHnzZpUuXVoVKlRQ69attWzZMi1btszie/vyyy9rxowZ2rJlS7L93rhxQ7t27VKlSpXMI2GkB5+Zb775Rvnz51ejRo2UM2dOHTx4UJ9++qmOHj2a4vd848aN2r17t+rWravOnTubL/2JiorShAkTVKVKFQUFBSlXrly6dOmStm3bpl9//VULFy6Un5+feTtGo1G9evXSvn375OPjoxYtWigqKkqTJk1StWrVUuyLo0ePKjg4WLGxsapbt66ee+45XblyRWvXrtWvv/6qH3/8MU3zijzOvwPMrVu36p133pGDg4MaNGigAgUK6Pz581q4cKF27dqlkJAQeXh4SHpwOU/v3r2VK1cuNWjQwPx9PH36tFavXm0xQiqt39uUxMXFKTg4WPv371fZsmX1yiuvKD4+Xjt27FDfvn01cuRIde3a1Sb9YjAYLB5fvHhRHTp0kI+Pj9q0aaNbt27Jycnpkc9PTEzUO++8o02bNil//vxq3ry53N3ddeXKFW3YsEF16tRRoUKFJFn/WwDgP8gEAHiievXqmXx8fCyWDRs2zOTj42P67LPPLJZv377d5OPjY2rUqJHJaDSalw8dOtTk4+NjqlGjhunvv/82L79//76pS5cuJh8fH9PGjRvTXNuRI0dMPj4+pqFDh6a4/s6dOyYfHx9TixYtUly/ceNGk4+Pj2nKlCmp2p+Pj4+pSZMmJpPJZOrVq5epWrVqpvv375tfS7Vq1Uy9evUymUwmU5MmTZL12+3bt003b95Mtt3Q0FBTmTJlTB9++KHF8mnTppl8fHxML7zwgun8+fPm5bGxsabGjRubypQpY/rnn3/My5cvX27y8fExLV++PNk+9u7da/Lx8TFNmzbNYnnSe3Pp0qVkz/nrr7+SLYuJiTG1aNHC9MILL5ju3r1rXh4eHm7y9/c3+fv7m06ePJnseQ+/74+r02R68JmrV69eiuu6du2arF+T+snf3990+vTpZM8ZNGiQycfHxxQSEmKxPCIiwhQUFGSqUaOG6d69e8n20apVq2Tv1+nTp00+Pj6mvn37JtvP/fv3TTExMSnW/bCk98LHx8e0ePFii3WLFy82+fj4mD9HJpPJ9M8//5jKlStn6tq1a7JtTZo0yeTj42PavHnzE/ebZP78+SYfHx/TrFmzTCaTyZSYmGiqV6+eqVKlSqbo6Ghzuz///NPk4+NjevPNN5NtY8GCBSYfHx/TwoULzct27dpl8vHxMb3xxhumO3fumJcnJiaaPvroo2Tf86TPQZkyZUy7d+9Oto/79+9bfL6T/P777yZ/f39T9+7dLZaHhISY601ISDAvP3v2rKlixYrJPv9xcXGmevXqmQICApJ9Zg8cOGAqW7asxfvwOEnfoyNHjlgsv3HjhikwMNDk4+NjOnr0qMXyypUrm2rXrm26fPmyxXPWrVtn8vHxMX388cfmZf379zf5+PiYfvvtt2T7vnHjhsXjtHxvTaYHv2v//mx9/vnn5t/GxMRE8/Lo6GhT27ZtTeXLl0/xvfm3pM/6yJEjLZYnJiaa+2zYsGEmk8lkunTpkvl7MXXq1BS3l9JvQ9Jn8fXXXzfFxsZarIuNjbX4Dqf1twDAfxeXCQCAFeLi4vTTTz8pd+7c6tOnj8W6oKAgvfjii7p48aIOHz6c7LndunWzOHvp7Oysd955R5KSzcRtC9HR0ZIkd3f3FNcnLU9qlxbt2rXTrVu3tGXLFkkPhkbfunVLr7zyyiOfkzNnTuXOnTvZ8ho1aqh06dLas2dPis/r1q2bSpYsaX7s4uKiFi1aKDExMcWhx7aS0hnRHDlyqG3btoqOjjYP75UevH93795Vjx49VK5cuWTPS+1Z66fRoUOHZJcQ3LhxQxs2bFCNGjXUvn17i3VeXl4KDg7WjRs3Uuz7t99+O8X3S3rwHvybs7OzcuTIkep6ixcvrg4dOiR7DcWLF9f27dt148YNSVL+/PlVr149HThwwOISgvj4eK1evVp58+ZV3bp1U73fZcuWycHBQS+//LKkB2dmX375ZcXGxuqnn34yt3vuuecUEBCgPXv2KDIy0mIbq1evlpOTk1566SXzsoULF0qSxo4dKzc3N/Nyg8GgwYMHy2AwWGw/SYMGDVSrVq1ky52dnZU/f/5ky59//nlVr15dBw4csLjEaM2aNZKkd9991+IsfOnSpVMc+bN9+3ZduXJFwcHByT6zVapUUYMGDbRjx45UTVKaZOnSpZo+fbqmTZumESNG6KWXXtL169f12muvWYxiWL16tWJiYjRo0KBkI0maN2+u8uXLp9hX2bNnT7bs33c1Scv3NiWJiYlavHixihUrpgEDBlicuXd3d1e/fv0UHx+vzZs3P3Y7Dztx4oSmT5+u6dOna8KECWrTpo1WrlyZ4r8jefPmVe/evVO97R9++EGOjo4aPXp0su+li4uL+Tv8NL8FAP57uEwAAKxw4cIF3b9/X9WrV5erq2uy9dWrV9fu3bv122+/JbtUIKVLBwICApQtW7ZHXgOcVdWtW1deXl5avny5mjVrpuXLl8vLy+uJB2X79u3TvHnzdOzYMd28edPijgOPGgr78KUISZIOrm/fvm39i3iCyMhIffPNN/r111919erVZHMUJE0+KP3fdb8vvvhiutXzJA8fbCU5fvy4jEaj4uLiUrxe/M8//5T04HOdNNv547ZXqlQp+fr6at26dfrnn3/UsGFDVatWTWXLlpWDQ9rOM1SuXDnZcxwcHFS5cmX9+eefOn36tPkguWPHjtq8ebOWLl2qwYMHS5K2bdumyMhI9e7dW9mype7PmuPHj+v06dOqWbOmRUDTunVrff3111q2bJnFkPOXX35ZR44c0bp16/T6669LetBnx44dU7169eTp6Wlue/ToUbm5uWn58uUp7tvFxUUXLlxItjylfk7y22+/ac6cOTp06JAiIiKSzS9y8+ZN8+SXZ86ckZubW4phVOXKlZNdWx8WFibpwUSfKX02wsPDlZiYqD/++EMVK1Z8ZI0PS5qL4WFvvPGGhg4dmuK+jx07pkuXLiV7zv3793Xz5k3duHFDnp6eatasmX7++Wd17NhRLVq0UM2aNfXCCy9Y9H+StHxvU/LHH38oKipK+fLl04wZM5KtTwqpUnovH+XkyZPm4NLJyUn58+dXhw4d1Lt372RhiK+vb6pvw3jnzh2dP39ezz333BPvSPA0vwUA/nsIAwDACklnyby9vVNcn3Sv8pTOpnl5eSVb5ujoqNy5c1t1dv5JcubM+chaHl6e1C4tnJyc9PLLL2vevHk6fPiw9uzZo+7duz/2oGzDhg1699135ebmpsDAQBUuXFiurq4yGAxauXLlIycsS2lkQ9KZz8TExDTXnhpJoxyuXr2qypUrq1atWsqZM6ccHR3122+/aevWrRYT2iW9fymdyc0oKX2+oqKiJEmHDx9OcbRKkpQmyUvpM54tWzbNmzdPM2bM0KZNm8yzoHt6eqpLly7q06dPqie3fNR3KOl1PPydCAwMVJEiRbRq1Sq98847ypYtm5YuXSqDwfDY0Sj/lnSw+u8z5cWLF5e/v7/CwsJ09uxZPf/885KkZs2aacKECVqzZo05DFi9erUkqVWrVhbbiIqKUkJCQooHkEnu3r37yNf7b4cPHzbv88UXX1Tx4sXl5uYmg8Fgnuvi4c9gTEzMI0egPO6zsXbt2kfWK6X82XiUH3/8Uf7+/oqLi9Pp06c1ZswYfffddypZsqTF2eikfS9atChV+37ppZfk5OSk77//XkuWLNGiRYtkMBhUvXp1DRs2zDz3Rlq/tym5deuWJOns2bM6e/bsE2tLjY4dO+rjjz9OVdtHfS9SkvQbnprfnaf5LQDw30MYAABWSDowjYiISHF90vKUDmAjIyMthrtLDyb9unXr1iMPCJ6Gm5ub8ubNq8uXL8toNCY7SEsacv3cc89Ztf1XXnlFc+fO1TvvvKPExMQnHpTNmDFD2bNn14oVK5KdxUppSHBaJZ1l/ves7VLaL4VYtmyZrl69qoEDB6pv374W67755ptkM4onBSrXrl1TkSJF0rSvfzMYDI+8w8TjXse/JyKT/u9zmNLZ2dTUkZI8efJo5MiRGjFihC5cuKC9e/dqwYIFmj59upycnNSrV69Ubf9R36GkIfkPh1QGg0EdO3bUZ599pl9++UUVKlTQ7t27VbNmzVRPcHfv3j3z52zo0KGP7I9ly5aZ7/iQO3duBQUFacuWLbpw4YJKliypNWvWKGfOnMlmdU/q63379qWqnodfW0pmzpypuLg4LVq0KNmooqQz6//ef0qz8EtKdpnDw/XOnDnT5meCnZ2d5efnp9mzZ6tp06YaP3686tSpYz5oTdr32rVr5ePjk6ptNmzYUA0bNlRMTIwOHz6szZs3a9myZXrzzTe1YcMG5cqVK83f25Qk1dakSZN0m9j1cR71eUhJUq3Xrl1LdVtrfgsA/PcwZwAAWKFkyZLKnj27jh8/nuIZlKQDgZRmiU/p1k1HjhxRQkJCikN7baFatWq6e/duimeCdu7cKUmqWrWqVdsuXbq0KlWqpGvXrsnf31+lSpV6bPu//vpLpUqVShYEXL9+3XzrrKeRdBeAlP4w/u2339K0raRbHTZo0CDZupTex6Sh3rt3737ith8XWkiSh4eHbty4YXEJhfTgrPLD18ynRsWKFWUwGHTkyJE0PS81DAaDSpUqpS5dumju3LmSZL6FYmocPnw42ciOxMREHT58WAaDQWXKlLFY17ZtWzk5OWnp0qVavny5EhMTk137/DgbN25UdHS0eXb4lP7Lnj27Vq9ebXH2OGkEwJo1a3To0CFdvnxZTZo0SXb9up+fn27dumUebv20/vrrL+XOnTtZEBAbG5viZUW+vr66e/duip/1lL7/SZ/ZlIIFW/H09FS/fv0UGxtrMWLiafbt7u6uOnXqaOzYsWrTpo0iIiJ09OhRSWn/3qakVKlScnd314kTJ9J029fMkCNHDpUuXVqXL19+4ucuPX8LADx7CAMAwArOzs5q3ry5bt68qVmzZlms+/XXX7Vr1y4999xzKd7Kb/78+Rb3Qo+Li9OUKVMkSW3atEmXepMmaJs6darFAc6OHTu0f/9+83B9a02YMEFffvmlxo8f/8S2hQoV0sWLFy3OCN+/f1+jR4+2yR/d5cuXN0/Sdv/+ffPyP//8U/Pnz0/TtpL65NChQxbL165dqx07diRr36ZNG7m5uWnu3LkpHow9HFAkTej18GfhYRUqVFB8fLzF8G2TyaTPP/88xWHmj5M3b1699NJLOnLkiObMmSOTyZSszdGjR1M9NPjy5cspBjdJ72lqr3WWHrwvISEhFstCQkL0559/qm7dusmuB/f29laDBg20c+dOLV682OIe9qmRdC3/sGHDNH78+BT/a9SokW7evGkRatStW1ceHh5au3btIy8RkGS+Zd3w4cNTPEMfHh6u8+fPp7rewoULKyoqymKoutFo1CeffGK+bv1hSRMiTpkyxSJkOX/+vFatWpWsfcOGDVWoUCHNnTtXBw4cSLY+Pj7eJvee79Spk/Lly6cVK1aY5wdo166dcuTIoS+++CLFofixsbEWQcGBAwdSDM+S+iEpmEnr9zYl2bJl06uvvqorV67ok08+SfG36ffff09xtEVm6Ny5s4xGo8aMGZNsfoT79++bL3uw9W8BgGcblwkAgJWGDBmiAwcO6Ouvv9aRI0dUqVIlXblyRRs3bpSrq6smTJiQ4mRqlSpVUqtWrfTSSy/J1dVVv/zyi/744w81btxYTZo0SdW+Dx48aL7uOekP4UOHDmnYsGGSHgzhfngIaNLM0UuXLlXbtm0VFBSk8PBwrV+/Xrlz59aIESOeqi9Kly6t0qVLp6rta6+9prFjx6p169Zq2rSpEhIStGfPHplMJpUpU0anT59+qlqS7rG9bt06tW3bVrVr11ZkZKS2bNmi2rVra9OmTaneVqtWrTR79myNGzdO+/btU6FChXTmzBmFhoaqcePG+vnnny3ae3l56dNPP9W7776r9u3bq379+ipRooRu3rypo0ePqnDhwvrqq68kSf7+/nJxcdG8efMUFRVlPuhNGtbctWtXrVixQiNGjNDu3bvl6empgwcPKjo62qp+GjVqlP744w/973//0+rVqxUQEKCcOXPqn3/+0YkTJ/Tnn39q165dKU6I+W+nT59W//795efnp1KlSilv3ry6du2atmzZIgcHB3Xv3j3VdQUGBmrcuHHasWOHnn/+eZ09e1a//PKL8uTJow8//DDF53Tq1EkbN25URESE3njjjVSHDxcvXtSBAwdUuHBhVa9e/ZHt2rZtq3Xr1mnZsmVq2rSppAcBR9OmTfXjjz9qxYoVKly4cIqjaerUqaO+ffvqq6++UuPGjVW7dm0VKlRIt27d0sWLF3Xo0CG98847TxxBk6Rr167atWuXOnfurJdeeknOzs7av3+/rl27pmrVqmn//v3Jal+9erW2b9+u1q1bq06dOoqKitJPP/2kWrVq6ZdffrEYgu7s7KypU6fqrbfeUteuXVWjRg35+PjIYDDo6tWrOnjwoHLnzq2NGzemqt5HyZ49u3r27Klx48bpq6++0sSJE+Xp6anPP/9cAwcOVKtWrVS7dm2VLFlScXFxunLlivbv36+AgAB9++23kqRx48bp+vXreuGFF1S4cGEZDAYdOnRIx44dk7+/v1544QVJaf/ePsqAAQN06tQpLViwQDt27FCVKlXk5eWla9eu6ffff9fp06f1448/psvlXWnVuXNnHThwQBs2bFDjxo1Vv359ubu76++//9auXbs0fvx4c2hmy98CAM82wgAAsJKnp6dCQkL01Vdfadu2bTp06JDc3d3VoEED9e/f/5HXwH744YfasGGD+brWfPny6e2331bPnj1Tve+//vor2W0I//rrL/Pw2MKFCye7HvTjjz+Wj4+PQkJCNH/+fLm5ualRo0Z69913VaxYsTS+eut16dJF2bJl08KFCxUSEqJcuXIpKChI7733ngYOHGiTfYwfP1558uTRhg0btGjRIpUoUUIff/yx8uXLl6YwoECBAlq4cKH+97//KTQ0VAkJCSpfvry+++47/f333ykeVDRq1EhLly7VrFmzdODAAW3btk25c+dW2bJlLW6hlzt3bk2bNk3Tp0/X0qVLzWfzksIAHx8fzZkzR59//rk2bdokNzc3BQUFaejQoeZbUaZF7ty5tWTJEi1cuFDr16/X2rVrlZiYKG9vb5UpU0Z9+vRJdnu2R6lQoYLeeust7d+/Xzt27NDt27eVN29e1apVS8HBwfL39091Xf7+/urTp4+mTp2qBQsWyMHBQQ0bNtSQIUMeOQ9AjRo1VKhQIV29ejVNEwcuX75cJpNJbdq0eew12TVr1lTBggW1e/du/f333ypYsKCkBweZP/74o+Lj49WiRYtHbmPgwIGqWrWq5s+fr9DQUEVHRyt37twqUqSI+vfvr5YtW6a65nr16mnatGmaNWuW1qxZIxcXF9WoUUNffvmlvvzyy2TtHR0d9c0332j69Olat26d5s2bp2LFimnYsGHy8PDQL7/8kmwuEz8/P61Zs0Zz5szRr7/+qsOHD5tvadiwYUM1b9481fU+TseOHTV79mytXr1aPXv2VIkSJVS3bl2tXLlS3377rUJDQ7V79265ubkpf/78atu2rXmkgyT16tVLP//8s06ePKldu3YpW7ZsKly4sAYPHqzOnTub50Ox5nubEmdnZ82ePVvLli3TqlWr9PPPPysuLk7e3t4qVaqUOnXqlOq5DtKbwWDQF198oRdffFHLli3T6tWrZTKZlD9/fjVt2tTibiy2/C0A8GwzmFIaHwQAsLlhw4Zp5cqV2rp161NPLgfYs+vXr6tevXry9/d/4kz0+D9ffPGFZs6cqW+++UZBQUGZXQ4AIJMxZwAAAHimzJs3TwkJCXr11Vczu5Qs6fr168mWnTt3TgsWLFCuXLkee4kEAMB+cJkAAADI8qKjo7V48WJduXJFy5YtU+nSpfXSSy9ldllZ0ujRo3XlyhX5+fkpV65cunTpkrZt26aEhASNHz9eLi4umV0iACALIAwAAABZXlRUlD777DNlz55dlStX1pgxY8zXiMNS06ZNtWTJEv3888+KiYmRm5ubqlWrph49eqh27dqZXR4AIItgzgAAAAAAAOwMcwYAAAAAAGBnCAMAAAAAALAzzBmQThITE5WQkCAHB4fH3ssYAAAAAABbMJlMSkxMVLZs2eTg8Phz/4QB6SQhIUHHjx/P7DIAAAAAAHamYsWKcnZ2fmwbwoB0kpTCVKxYkdmOAQAAAADpzmg06vjx408cFSARBqSbpEsDHB0dCQMAAAAAABkmNZeqM4EgAAAAAAB2hjAAAAAAAAA7QxgAAAAAAICdIQwAAAAAAMDOEAYAAAAAAGBnCAMAAAAAALAzhAEAAAAAANgZwgAAAAAAAOwMYQAAAAAAAHaGMAAAAAAAADtDGAAAAAAAgJ0hDAAAAAAAwM4QBgAAAAAAYGcIAwAAAAAAsDOEAQAAAAAA2BnCAAAAAAAA7AxhAAAAAAAAdoYwAAAAAAAAO0MYAAAAAACAnSEMyGSJxsTMLuGZQV8BAAAAgG1ky+wC7J2Do4M+HfadLl34J7NLydKKliyg9ye9kdllAAAAAMB/AmFAFnDpwj86/9ulzC4DAAAAAGAnuEwAAAAAAAA7QxgAAAAAAICdIQwAAAAAAMDOEAYAAAAAAGBnCAMAAAAAALAzhAEAAAAAANgZwgAAAAAAAOwMYQAAAAAAAHaGMAAAAAAAADtDGAAAAAAAgJ3JUmFA/fr15evrm+y/MWPGSJLu37+vMWPGqHr16goICNDbb7+tiIgIi21cvXpVPXv2VKVKlVSzZk198sknSkhIsGizb98+tWnTRhUqVFCjRo20YsWKZLUsWrRI9evXV8WKFdW+fXsdO3Ys/V44AAAAAAAZKEuFAcuWLdOuXbvM/82dO1eS1LRpU0nShAkT9Msvv2jKlClasGCBrl+/rv79+5ufbzQa1atXL8XHx2vJkiWaNGmSVq5cqWnTppnbXLp0Sb169VL16tW1evVqvf766xoxYoR27txpbrN+/XpNnDhR/fr108qVK1WmTBkFBwcrMjIyg3oCAAAAAID0ky2zC3iYp6enxeNvvvlGxYoVU7Vq1RQdHa3ly5dr8uTJqlmzpqQH4UCzZs0UFhYmf39/7dq1S+fOndPcuXPl7e2tsmXLauDAgZo8ebL69+8vZ2dnLVmyREWKFNGwYcMkSaVKldKhQ4f0/fffq3bt2pKkuXPnqkOHDmrXrp0kacyYMdq+fbuWL1+unj17puk1GY3Gx653dHRM0/bs3ZP6EwAAAADsVVqOl7JUGPCwuLg4rVmzRj169JDBYNCJEycUHx+vWrVqmduUKlVKhQoVMocBYWFh8vHxkbe3t7lNYGCgRo8erXPnzqlcuXIKCwszhwkPt5kwYYJ5vydPnlSvXr3M6x0cHFSrVi0dOXIkza/j+PHjj1zn6uqqcuXKpXmb9uzMmTOKjY3N7DIAAAAA4JmWZcOALVu2KDo6Wm3atJEkRUREyMnJSbly5bJo5+XlpfDwcHObh4MASebHT2oTExOje/fuKSoqSkajUV5eXsn2c+HChTS/jooVK3L234Z8fX0zuwQAAAAAyJKMRuNjT0g/LMuGAcuXL1edOnWUP3/+zC7lqTg6OhIG2BB9CQAAAABPL0tNIJjkypUr2rNnj1555RXzMm9vb8XHx+v27dsWbSMjI5U3b15zm3/fXSDp8ZPauLu7y8XFRXny5JGjo2OyyQIjIyOTjSgAAAAAAOBZlCXDgBUrVsjLy0t169Y1L6tQoYKcnJwUGhpqXnbhwgVdvXpV/v7+kiR/f3/9/vvvFgfye/bskbu7u0qXLm1us3fvXov97dmzx7wNZ2dnlS9f3mI/iYmJCg0NVUBAgI1fKQAAAAAAGS/LhQGJiYlasWKFWrdurWzZ/u8qhpw5c6pdu3aaNGmS9u7dqxMnTmj48OEKCAgwH8gHBgaqdOnSev/993X69Gnt3LlTU6ZMUZcuXeTs7CxJ6tSpky5duqRPP/1U58+f16JFi7RhwwZ1797dvK8ePXooJCREK1eu1Pnz5zV69GjFxsaqbdu2GdkVAAAAAACkiyw3Z8CePXt09epV8239HjZ8+HA5ODhowIABiouLU2BgoEaNGmVe7+joqJkzZ2r06NHq2LGjXF1d1aZNGw0YMMDcpmjRopo1a5YmTpyo+fPnq0CBAho3bpz5toKS1KxZM924cUPTpk1TeHi4ypYtqzlz5nCZAAAAAADgP8FgMplMmV3Ef5HRaDTf8vBJk9693WGCzv92KYMqezaVKltU00OGZ3YZAAAAAJBlpeU4NMtdJgAAAAAAANIXYQAAAAAAAHaGMAAAAAAAADtDGAAAAAAAgJ0hDAAAAAAAwM4QBgAAAAAAYGcIAwAAAAAAsDOEAQAAAAAA2BnCAAAAAAAA7AxhAAAAAAAAdoYwAAAAAAAAO0MYAAAAAACAnSEMAAAAAADAzhAGAAAAAABgZwgDAAAAAACwM4QBAAAAAADYGcIAAAAAAADsDGEAAAAAAAB2hjAAAAAAAAA7QxgAAAAAAICdIQwAAAAAAMDOEAYAAAAAAGBnCAMAAAAAALAzhAEAAAAAANgZwgAAAAAAAOwMYQAAAAAAAHaGMAAAAAAAADtDGAAAAAAAgJ0hDAAAAAAAwM4QBgAAAAAAYGcIAwAAAAAAsDOEAQAAAAAA2BnCAAAAAAAA7AxhAAAAAAAAdoYwAAAAAAAAO0MYAAAAAACAnSEMAAAAAADAzhAGAAAAAABgZwgDAAAAAACwM4QBAAAAAADYGcIAAAAAAADsDGEAAAAAAAB2hjAAAAAAAAA7QxgAAAAAAICdIQwAAAAAAMDOEAYAAAAAAGBnCAMAAAAAALAzhAEAAAAAANgZwgAAAAAAAOxMlgsDrl27psGDB6t69ery8/NTy5Ytdfz4cfN6k8mkqVOnKjAwUH5+furevbv+/PNPi23cunVL7733nipXrqwqVapo+PDhunPnjkWb06dPq3PnzqpYsaKCgoI0e/bsZLVs2LBBTZs2VcWKFdWyZUvt2LEjXV4zAAAAAAAZKUuFAVFRUXr11Vfl5OSk2bNn66efftLQoUPl4eFhbjN79mwtWLBAo0ePVkhIiFxdXRUcHKz79++b2wwePFjnzp3T3LlzNXPmTB08eFAfffSReX1MTIyCg4NVqFAhrVixQu+//75mzJihH3/80dzm8OHDeu+99/TKK69o1apVatCggfr166fff/89YzoDAAAAAIB0kqXCgNmzZ6tAgQKaOHGi/Pz8VLRoUQUGBqpYsWKSHowKmD9/vvr06aOGDRuqTJky+vTTT3X9+nVt2bJFknT+/Hnt3LlT48aNU6VKlVSlShWNGDFCP/30k65duyZJWrNmjeLj4zVhwgQ9//zzat68uV577TXNnTvXXMv8+fNVu3ZtvfnmmypVqpTeeecdlStXTgsXLsz4jgEAAAAAwIayZXYBD9u2bZsCAwM1YMAAHThwQPnz51fnzp3VoUMHSdLly5cVHh6uWrVqmZ+TM2dOVapUSUeOHFHz5s115MgR5cqVSxUrVjS3qVWrlhwcHHTs2DE1atRIYWFhqlKlipydnc1tAgMDNXv2bEVFRcnDw0NhYWHq3r27RX2BgYHm0CG1jEbjY9c7OjqmaXv27kn9CQAAAAD2Ki3HS1kqDLh06ZIWL16sHj16qHfv3jp+/LjGjRsnJycntWnTRuHh4ZIkLy8vi+d5eXkpIiJCkhQRESFPT0+L9dmyZZOHh4f5+RERESpSpIhFG29vb/M6Dw8PRUREmJeltJ/Ueni+g39zdXVVuXLl0rQ9e3fmzBnFxsZmdhkAAAAA8EzLUmGAyWRShQoVNGjQIElSuXLldPbsWS1ZskRt2rTJ5OqsU7FiRc7+25Cvr29mlwAAAAAAWZLRaHzsCemHZakwIG/evCpVqpTFspIlS2rTpk3m9ZIUGRmpfPnymdtERkaqTJkykh6c4b9x44bFNhISEhQVFWV+vre3d7Iz/EmPk0YDpNQmMjIy2WiBJ3F0dCQMsCH6EgAAAACeXpaaQLBy5cr6448/LJb9+eefKly4sCSpSJEiyps3r0JDQ83rY2JidPToUQUEBEiSAgICdPv2bZ04ccLcZu/evUpMTJSfn58kyd/fXwcPHlR8fLy5zZ49e1SiRAnznQv8/f21d+9ei1r27Nkjf39/271gAAAAAAAyQZYKA15//XUdPXpUM2fO1MWLF7V27VqFhISoc+fOkiSDwaBu3brp66+/1tatW3XmzBm9//77ypcvnxo2bChJKlWqlGrXrq2RI0fq2LFjOnTokMaOHavmzZsrf/78kqSWLVvKyclJH374oc6ePav169dr/vz56tGjh7mWbt26aefOnfruu+90/vx5TZ8+XSdOnFDXrl0zvmMAAAAAALAhg8lkMmV2EQ/75Zdf9Pnnn+vPP/9UkSJF1KNHD/PdBKQH8wpMmzZNISEhun37tl544QWNGjVKJUqUMLe5deuWxo4dq23btsnBwUGNGzfWiBEjlCNHDnOb06dP6+OPP9bx48eVJ08ede3aVT179rSoZcOGDZoyZYquXLmi4sWLa8iQIQoKCkrV6zAajQoLC5O/v/8Th7a/3WGCzv92KVXbtVelyhbV9JDhmV0GAAAAAGRZaTkOzXJhwH8FYYBtEQYAAAAAwOOl5Tg0S10mAAAAAAAA0h9hAAAAAAAAdoYwAAAAAAAAO0MYAAAAAACAnSEMAAAAAADAzhAGAAAAAABgZwgDAAAAAACwM4QBAAAAAADYGcIAAAAAAADsDGEAAAAAAAB2hjAAAAAAAAA7QxgAAAAAAICdIQwAAAAAAMDOZLPmSadPn9ahQ4d0/vx53bx5UwaDQXny5FHJkiVVuXJllS1b1tZ1AgAAAAAAG0l1GBAZGakffvhBq1at0tWrV2UymeTk5CQPDw+ZTCbdvn1b8fHxMhgMKliwoNq0aaNXX31V3t7e6Vk/AAAAAABIo1SFAf/73//0ww8/KEeOHGratKlq1aql8uXLK3/+/Bbtrl27ppMnT2r37t0KCQnRd999p65du+q9995Ll+IBAAAAAEDapSoMOHjwoP73v/+pQYMGMhgMj2yXP39+5c+fX/Xr19eIESO0detWzZkzx2bFAgAAAACAp5eqMODHH39M84YNBoMaNmyohg0bpvm5AAAAAAAg/XA3AQAAAAAA7IxVdxO4ePGidu/erUuXLunOnTvKkSOHihUrphdffFHFihWzdY0AAAAAAMCG0hQG3LlzRyNHjtTGjRuVmJiYbL2Dg4OaNWumjz/+WG5ubjYrEgAAAAAA2E6qwwCTyaQ+ffpo//79evHFF9WqVSv5+PjIzc1Nd+/e1e+//67Vq1dr3bp1ioyM1Ny5c9OzbgAAAAAAYKVUhwGbN2/W/v379d577+mtt95Ktr5MmTJ6+eWX9c033+iLL77Qli1bmDwQAAAAAIAsKNUTCK5bt05lypRJMQh4WM+ePeXj46O1a9c+dXEAAAAAAMD2Uh0GnDp1SvXq1UtV2/r16+vkyZNWFwUAAAAAANJPqsOAyMhIFSpUKFVtCxUqpMjISKuLAgAAAAAA6SfVYUBsbKxcXFxS1TZ79uy6d++e1UUBAAAAAID0k+owQJIMBkN61QEAAAAAADJIqu8mIEkffvihPvrooye2MxqNVhcEAAAAAADSV6rDgDZt2qRnHQAAAAAAIIOkOgyYOHFietYBAAAAAAAySJrmDAAAAAAAAM++VI8MiI2N1c2bN+Xt7S1nZ2eLdcuWLdPatWsVHh6ukiVLqmfPnvLz87N5sQAAAAAA4OmlemTAl19+qZdfflnx8fEWy7/66iuNHDlSBw4c0I0bN7RlyxZ169ZNp0+ftnmxAAAAAADg6aU6DNi3b5/q1q2rHDlymJfFxMTo66+/Vv78+bVp0ybt3btXISEhcnJy0jfffJMuBQMAAAAAgKeT6jDgypUr8vX1tVi2Y8cOxcfH66233lLRokUlSX5+fmrbtq0OHjxo20oBAAAAAIBNpDoMuHPnjnLnzm2x7MCBAzIYDAoMDLRYXrp0ad24ccMmBQIAAAAAANtKdRhQqFAhXbhwwWLZ/v375eXlpeeee85ieVxcnNzd3W1TIQAAAAAAsKlUhwEvvviiVqxYoaNHj0qSVq1apQsXLqhRo0bJ2p48eVKFCxe2XZUAAAAAAMBmUn1rwb59+2rr1q3q1KmTHB0dlZCQIE9PT/Xr18+iXWxsrLZs2aIOHTrYvFgAAAAAAPD0Uh0GeHp6atWqVVq6dKkuXbqkwoULq127dvLy8rJod/bsWbVs2VKtWrWyebEAAAAAAODppToMkCQPDw+9+eabj23j5+cnPz+/pyoKAAAAAACkn1TPGQAAAAAAAP4bUj0yoFu3bo9cZzAYlD17dhUqVEhBQUGqV6+eTYoDAAAAAAC2l+ow4MaNGzIYDI9cHxsbqz179ujHH39UYGCgvvrqKzk5OdmkSAAAAAAAYDupDgPWrVv3xDb37t3TkiVLNGnSJM2ZM0d9+vR5quIAAAAAAIDt2XTOABcXF3Xv3l3NmzdPVXgAAAAAAAAyXrpMIFi5cmVdvnw5PTYNAAAAAACeUrqEAbGxsXJ0dEyPTQMAAAAAgKdk8zDAZDJp27Zt8vHxsfWmAQAAAACADaQ6DLh169Zj/7t27ZpCQ0M1cOBAHTlyRF27dk1zMdOnT5evr6/Ff02bNjWvv3//vsaMGaPq1asrICBAb7/9tiIiIiy2cfXqVfXs2VOVKlVSzZo19cknnyghIcGizb59+9SmTRtVqFBBjRo10ooVK5LVsmjRItWvX18VK1ZU+/btdezYsTS/HgAAAAAAsqJU302gRo0aj721oHmD2bJp4MCBatGihVUFPf/885o7d6758cOXG0yYMEE7duzQlClTlDNnTo0dO1b9+/fXkiVLJElGo1G9evWSt7e3lixZouvXr2vo0KFycnLSoEGDJEmXLl1Sr1691KlTJ02ePFmhoaEaMWKE8ubNq9q1a0uS1q9fr4kTJ2rMmDGqVKmS5s2bp+DgYG3cuFFeXl5WvS4AAAAAALKKVIcB/fr1e2wY4OzsrMKFC6tmzZry9PS0uiBHR0flzZs32fLo6GgtX75ckydPVs2aNSU9CAeaNWumsLAw+fv7a9euXTp37pzmzp0rb29vlS1bVgMHDtTkyZPVv39/OTs7a8mSJSpSpIiGDRsmSSpVqpQOHTqk77//3hwGzJ07Vx06dFC7du0kSWPGjNH27du1fPly9ezZM02vx2g0PvH1IvWe1J8AAAAAYK/ScryU6jDg7bfftqqYtLp48aICAwOVPXt2+fv767333lOhQoV04sQJxcfHq1atWua2pUqVUqFChcxhQFhYmHx8fOTt7W1uExgYqNGjR+vcuXMqV66cwsLCzGHCw20mTJggSYqLi9PJkyfVq1cv83oHBwfVqlVLR44cSfPrOX78+CPXubq6qly5cmnepj07c+aMYmNjM7sMAAAAAHimpToMyAh+fn6aOHGiSpQoofDwcH355Zfq0qWL1q5dq4iICDk5OSlXrlwWz/Hy8lJ4eLgkKSIiwiIIkGR+/KQ2MTExunfvnqKiomQ0GpNdDuDl5aULFy6k+TVVrFiRs/825Ovrm9klAAAAAECWZDQaH3tC+mGpCgNmzZqlLl26yN3dPU2FxMTEaNGiRRZn2R8nKCjI/P/LlCmjSpUqqV69etqwYYNcXFzStO+swtHRkTDAhuhLAAAAAHh6qbqbwLp161SvXj2NHj1a+/bte+x1CPHx8dqzZ49GjhypunXrat26dVYXlytXLhUvXlx//fWXvL29FR8fr9u3b1u0iYyMNM8x4O3tnezuAkmPn9TG3d1dLi4uypMnjxwdHRUZGZlsP/8eUQAAAAAAwLMoVSMD1qxZo7Vr1+q7777TkiVL5OzsrOeff15FihSRh4eHTCaToqKidPnyZZ09e1YJCQny8fHRyJEj9fLLL1td3J07d3Tp0iXlzZtXFSpUkJOTk0JDQ9WkSRNJ0oULF3T16lX5+/tLkvz9/TVz5kxFRkaah/nv2bNH7u7uKl26tLnNr7/+arGfPXv2mLfh7Oys8uXLKzQ0VA0bNpQkJSYmKjQ01KrbJQIAAAAAkNWkKgwwGAx6+eWX9fLLL+vUqVPasmWLwsLCdPToUd26dUuSlDt3bpUsWVJvvfWWGjRooPLly6e5mE8++UT16tVToUKFdP36dU2fPl0ODg5q0aKFcubMqXbt2mnSpEny8PCQu7u7xo0bp4CAAPOBfGBgoEqXLq33339fQ4YMUXh4uKZMmaIuXbrI2dlZktSpUyctWrRIn376qdq1a6e9e/dqw4YNmjVrlrmOHj16aOjQoapQoYL8/Pw0b948xcbGqm3btml+TQAAAAAAZDVpnkCwXLly6TYD/j///KNBgwbp1q1b8vT01AsvvKCQkBDzrQqHDx8uBwcHDRgwQHFxcQoMDNSoUaPMz3d0dNTMmTM1evRodezYUa6urmrTpo0GDBhgblO0aFHNmjVLEydO1Pz581WgQAGNGzfOfFtBSWrWrJlu3LihadOmKTw8XGXLltWcOXO4TAAAAAAA8J9gMJlMpswu4r/IaDSab3n4pEnv3u4wQed/u5RBlT2bSpUtqukhwzO7DAAAAADIstJyHJqqCQQBAAAAAMB/B2EAAAAAAAB2hjAAAAAAAAA7QxgAAAAAAICdIQwAAAAAAMDOpPnWgg+7du2aDhw4oMjISDVp0kQFChSQ0WhUdHS0cubM+cTZCwEAAAAAQMazKgwwmUyaNGmSFi1apISEBBkMBvn4+KhAgQK6e/eu6tevrwEDBqh79+42LhcAAAAAADwtqy4TmDNnjubPn6833nhDc+fOlclkMq/LmTOnGjdurJ9//tlmRQIAAAAAANuxKgxYunSpWrdurUGDBqlMmTLJ1vv6+urPP/982toAAAAAAEA6sCoM+PvvvxUQEPDI9a6uroqJibG6KAAAAAAAkH6sCgO8vLz0999/P3L9yZMnVbBgQauLAgAAAAAA6ceqMKBRo0ZasmSJLl26ZF5mMBgkSbt27dLKlSvVtGlT21QIAAAAAABsyqq7CQwYMED79u1Tq1atVKVKFRkMBs2ePVtTp05VWFiYypYtq969e9u6VgAAAAAAYANWjQzImTOnQkJC9Oabb+ratWvKnj27Dhw4oOjoaPXr108//PCDXF1dbV0rYBOJxsTMLuGZQV8BAAAA/01WjQyQJBcXF/Xt21d9+/a1ZT1AunNwdND/PlmqS5fCM7uULK1o0bwaMrR9ZpcBAAAAIB1YFQYkJCTo3r17cnd3T3F9TEyMXFxclC2b1VkDkK4uXQrX+XOPngQTAAAAAP7LrLpMYNy4cerUqdMj17/66quaNGmS1UUBAAAAAID0Y1UYsHPnTjVp0uSR65s0aaJff/3V6qIAAAAAAED6sSoMuH79uvLnz//I9fny5dO1a9esLgoAAAAAAKQfq8KA3Llz648//njk+vPnzz9yPgEAAAAAAJC5rAoDateurSVLlujUqVPJ1p08eVIhISGqU6fOUxcHAAAAAABsz6rp/gcOHKidO3eqffv2ql+/vkqXLi1JOnv2rH755Rd5enpq4MCBNi0UAAAAAADYhlVhQP78+bV8+XJ99tln2rp1qzZv3ixJcnd3V8uWLfXuu+8+dk4BAAAAAACQeawKA6QHkwR+8sknMplMunHjhiTJ09NTBoPBZsUBAAAAAADbszoMSGIwGOTl5WWLWgAAAAAAQAZIVRgwY8YMGQwG9enTRw4ODpoxY8YTn2MwGNSvX7+nLhAAAAAAANhWmsKAt956S87OzoQBAAAAAAA8w1IVBpw+ffqxjwEAAAAAwLPDIa1PiIuL09atWwkEAAAAAAB4RqU5DHByctLAgQN15MiR9KgHAAAAAACkszSHAQaDQcWLF9fNmzfTox4AAAAAAJDO0hwGSFKvXr20aNEiXbhwwdb1AAAAAACAdJaqCQT/7ejRo8qdO7datmypatWqqXDhwnJxcUnWbsSIEU9dIAAAAAAAsC2rwoCFCxea/39oaGiKbQwGA2EAAAAAAABZkFVhAHcSAAAAAADg2ZXmOQOMRqPCw8N1//799KgHAAAAAACks1SHASaTSZ9//rmqVq2qOnXq6IUXXlC/fv1069atdCwPAAAAAADYWqovE1ixYoW++eYbFShQQLVr19alS5e0detWJSYm6uuvv07PGgEAAAAAgA2lOgxYvHixypUrpx9++MF854Bx48bphx9+0I0bN+Tp6ZluRQIAAAAAANtJ9WUCly5dUqtWrSxuIdi5c2clJibq4sWL6VIcAAAAAACwvVSHAVFRUcnO/ufJk0eSmEwQAAAAAIBnSJruJmAwGNKrDgAAAAAAkEFSPWeAJH322WeaNWuW+XFiYqIkacSIEXJ1dbVoazAYtGbNGhuUCAAAAAAAbCnVYUDVqlVTXM7EgQAAAAAAPFtSHQYsWLAgPesAAAAAAAAZJE1zBgAAAAAAgGcfYQAAAAAAAHaGMAAAAAAAADtDGAAg3Rn//51H8GT0FQAAADJCmm4tmJG++eYbffbZZ+rWrZs+/PBDSdL9+/c1adIkrV+/XnFxcQoMDNSoUaPk7e1tft7Vq1c1evRo7du3T25ubmrdurXee+89Zcv2fy913759mjRpks6ePauCBQuqT58+atu2rcX+Fy1apG+//Vbh4eEqU6aMRo4cKT8/v4x58cB/jKODgyZ8uVJ/XY3I7FKytGKFvDW8X5vMLgMAAAB2IEuGAceOHdOSJUvk6+trsXzChAnasWOHpkyZopw5c2rs2LHq37+/lixZIkkyGo3q1auXvL29tWTJEl2/fl1Dhw6Vk5OTBg0aJEm6dOmSevXqpU6dOmny5MkKDQ3ViBEjlDdvXtWuXVuStH79ek2cOFFjxoxRpUqVNG/ePAUHB2vjxo3y8vLK2M4A/iP+uhqhc3/+k9llAAAAANBTXiZw7do1rVu3TvPmzdM//zz4I99oNOrWrVsyGo1WbfPOnTsaMmSIxo0bJw8PD/Py6OhoLV++XMOGDVPNmjVVoUIFTZgwQUeOHFFYWJgkadeuXTp37pz+97//qWzZsgoKCtLAgQO1aNEixcXFSZKWLFmiIkWKaNiwYSpVqpS6du2qJk2a6Pvvvzfva+7cuerQoYPatWun0qVLa8yYMXJxcdHy5cut6ygAAAAAALIQq0YGmEwmTZo0SYsWLVJCQoIMBoN8fHxUoEAB3b17V/Xr19eAAQPUvXv3NG/7448/VlBQkGrVqqWvv/7avPzEiROKj49XrVq1zMtKlSqlQoUKKSwsTP7+/goLC5OPj4/FZQOBgYEaPXq0zp07p3LlyiksLEw1a9a02GdgYKAmTJggSYqLi9PJkyfVq1cv83oHBwfVqlVLR44cSfPreVIo4ujomOZt2jNrQ6aH0edpQ59nPFv0OQAAAOxPWv6OtCoMmDNnjubPn6+33npLNWvWVI8ePczrcubMqcaNG+vnn39Ocxjw008/6dSpU1q2bFmydREREXJyclKuXLkslnt5eSk8PNzc5uEgQJL58ZPaxMTE6N69e4qKipLRaEx2OYCXl5cuXLiQptcjScePH3/kOldXV5UrVy7N27RnZ86cUWxsrNXPp8/Tjj7PeE/b5wAAAMCTWBUGLF26VK1bt9agQYN08+bNZOt9fX3166+/pmmbf//9t8aPH6/vvvtO2bNnt6asLKlixYqcFbWhf88jgfRHn2c8+hwAAADWMBqNjz0h/TCrwoC///5bAQEBj1zv6uqqmJiYNG3z5MmTioyMtJjV32g06sCBA+aZ/ePj43X79m2L0QGRkZHKmzevpAdn+I8dO2ax3YiIB7OXP9wmadnDbdzd3eXi4iIHBwc5OjoqMjLSok1kZGSyEQWp4ejoSBhgQ/RlxqPPMx59DgAAgPRm1QSCXl5e+vvvvx+5/uTJkypYsGCatlmjRg2tXbtWq1atMv9XoUIFtWzZ0vz/nZycFBoaan7OhQsXdPXqVfn7+0uS/P399fvvv1scyO/Zs0fu7u4qXbq0uc3evXst9r1nzx7zNpydnVW+fHmL/SQmJio0NPSxAQgAAAAAAM8Kq0YGNGrUSEuWLFHbtm3l7u4uSTIYDJIezOi/cuVKBQcHp2mb7u7u8vHxsVjm5uam3Llzm5e3a9dOkyZNkoeHh9zd3TVu3DgFBASYD+QDAwNVunRpvf/++xoyZIjCw8M1ZcoUdenSRc7OzpKkTp06adGiRfr000/Vrl077d27Vxs2bNCsWbPM++3Ro4eGDh2qChUqyM/PT/PmzVNsbKzFqAUAAAAAAJ5VVoUBAwYM0L59+9SqVStVqVJFBoNBs2fP1tSpUxUWFqayZcuqd+/etq5Vw4cPl4ODgwYMGKC4uDgFBgZq1KhR5vWOjo6aOXOmRo8erY4dO8rV1VVt2rTRgAEDzG2KFi2qWbNmaeLEiZo/f74KFCigcePGqXbt2uY2zZo1040bNzRt2jSFh4erbNmymjNnjlWXCQAAAAAAkNVYFQbkzJlTISEh+u6777Rp0yZlz55dBw4cULFixdSvXz+9+eabcnFxeeriFixYYPE4e/bsGjVqlEUA8G+FCxfW7NmzH7vd6tWra9WqVY9t07VrV3Xt2jXVtQIAAAAA8KywKgyQJBcXF/Xt21d9+/a1ZT0AAAAAACCdWTWBIAAAAAAAeHalamTABx98kOYNGwwGTZgwIc3PAwAAAAAA6StVYcC+ffvSvOGkuwsAAAAAAICsJVVhwLZt29K7DgAAAAAAkEGYMwAAAAAAADtDGAAAAAAAgJ2x+taCO3bs0Pfff69Tp04pOjpaJpMpWZvffvvtqYoDAAAAAAC2Z9XIgE2bNql3796KiIhQs2bNlJiYqObNm6tZs2ZycXGRr6+v+vXrZ+taAQAAAACADVg1MmDWrFny8/PTDz/8oKioKC1evFjt2rVTzZo1dfnyZXXs2FFFihSxda0AAAAAAMAGrBoZcP78eTVr1kyOjo7Klu1BnpCQkCBJKlKkiF599VXNnj3bdlUCAAAAAACbsSoMcHFxkZOTkyQpV65ccnZ2Vnh4uHm9t7e3Ll++bJsKAQAAAACATVkVBpQoUULnz583Py5btqxWr16thIQE3b9/X+vWrVPBggVtViQAAAAAALAdq8KARo0aaevWrYqLi5Mk9e7dW/v371fVqlVVo0YNHTx4UD179rRpoQAAAAAAwDasmkAwODhYwcHB5sf16tXTggULtGnTJmXLlk1BQUGqUaOGzYoEAAAAAAC2Y1UYkJIqVaqoSpUqttocAAAAAABIJzYLA2JjY/XTTz8pLi5OQUFBKly4sK02DQAAAAAAbMiqMGD48OE6duyY1q1bJ0mKi4tThw4ddPbsWUlSzpw5NW/ePJUrV852lQIAAAAAAJuwagLBffv2qVGjRubH69at09mzZzV58mStW7dO3t7emjFjhs2KBAAAAAAAtmNVGBAREWFxGcCWLVtUoUIFtWjRQqVLl1aHDh107NgxmxUJAAAAAABsx6owwNXVVdHR0ZKkhIQE7d+/X4GBgeb1OXLkMK8HAAAAAABZi1VzBpQvX14hISGqXr26tm3bpjt37qh+/frm9X/99Ze8vLxsViQAAAAAALAdq8KAd955R2+++abatWsnk8mkJk2ayM/Pz7x+8+bNqly5ss2KBAAAAAAAtmNVGFCxYkVt2LBBhw8fVq5cuVStWjXzutu3b6tz584WywAAAAAAQNZhVRggSZ6enmrYsGGy5bly5dLrr7/+VEUBAAAAAID0Y3UYYDQatXHjRu3bt0+RkZEaMGCAfH19FR0drdDQUFWuXFne3t62rBUAAAAAANiAVWHA7du39eabb+rYsWNyc3NTbGysunbtKklyc3PTuHHj1Lp1aw0aNMimxQIAAAAAgKdn1a0FJ0+erLNnz+rbb7/Vli1bZDKZzOscHR3VpEkT7dixw2ZFAgAAAAAA27EqDNi6datee+01vfjiizIYDMnWFy9eXFeuXHnq4gAAAAAAgO1ZFQZER0erSJEij1yfkJAgo9FodVEAAAAAACD9WBUGFCtWTCdPnnzk+t27d6tUqVJWFwUAAAAAANKPVWHAK6+8ouXLl2v9+vXm+QIMBoPi4uL0xRdfaOfOnerYsaNNCwUAAAAAALZh1d0EXn/9dZ07d06DBg1Srly5JEmDBw/WrVu3lJCQoI4dO6p9+/Y2LRQAAAAAANiGVWGAwWAw3z5w06ZNunjxohITE1WsWDG99NJLqlq1qq3rBAAAAAAANmJVGJCkSpUqqlKlSrLlRqNRa9euVevWrZ9m8wAAAAAAIB1YNWfAo9y7d0/z589Xo0aN9MEHH9hy0wAAAAAAwEbSNDJg6dKlmjdvnv766y/lypVLTZs21fvvvy8nJyfNmzdPs2bN0s2bN/X8889r4sSJ6VUzAAAAAAB4CqkOA1atWqWRI0fKzc1NPj4++ueff7Ro0SLFxsbq9u3b2rx5s6pWraq33npLderUSc+aAQAAAADAU0h1GLBo0SKVKFFCixYtkqenp4xGoz744AMtX75cHh4emjVrloKCgtKzVgAAAAAAYAOpnjPg3Llzat++vTw9PSVJjo6OeuuttyRJffr0IQgAAAAAAOAZkeowIDY2Vnnz5rVY5u3tLUl6/vnnbVsVAAAAAABIN2m6m4DBYEhxuaOjo02KAQAAAAAA6S9NdxP47rvvtG7dOvPjhIQESdKUKVOUO3dui7YGg0Fff/3101cIAAAAAABsKtVhQKFChXTr1i3dunUr2fLr16/r+vXrFssfNYoAAAAAAABkrlSHAdu2bUvPOgAAAAAAQAZJ05wBAAAAAADg2UcYAAAAAACAnSEMAID/IGNiYmaX8MygrwAAgD1K090EAADPBkcHB43+fqX+/Ccis0vJ0ooX8Nbo7m0yuwwAAIAMRxgAAP9Rf/4Tod8v/5PZZdgNY2KiHB0YcJca9BUAAJkvS4UBP/zwgxYvXqwrV65Ikp5//nn17dtXQUFBkqT79+9r0qRJWr9+veLi4hQYGKhRo0bJ29vbvI2rV69q9OjR2rdvn9zc3NS6dWu99957ypbt/17qvn37NGnSJJ09e1YFCxZUnz591LZtW4taFi1apG+//Vbh4eEqU6aMRo4cKT8/vwzoBQDAs8jRwUEjQlboj3BGYzxOibzeGteh7ZMbAgCAdPVUYUBcXJxOnjypyMhIVa5cWZ6enk9VTIECBTR48GA999xzMplMWrVqlfr166eVK1fq+eef14QJE7Rjxw5NmTJFOXPm1NixY9W/f38tWbJEkmQ0GtWrVy95e3tryZIlun79uoYOHSonJycNGjRIknTp0iX16tVLnTp10uTJkxUaGqoRI0Yob968ql27tiRp/fr1mjhxosaMGaNKlSpp3rx5Cg4O1saNG+Xl5fVUrxEA8N/1R3iETl9lNAYAAMj6rA4D5s+frxkzZig6OlqS9N1336lmzZq6ceOGXnrpJQ0ZMkSvvPJKmrZZv359i8fvvvuuFi9erLCwMBUoUEDLly/X5MmTVbNmTUnShAkT1KxZM4WFhcnf31+7du3SuXPnNHfuXHl7e6ts2bIaOHCgJk+erP79+8vZ2VlLlixRkSJFNGzYMElSqVKldOjQIX3//ffmMGDu3Lnq0KGD2rVrJ0kaM2aMtm/fruXLl6tnz55pek1Go/Gx6x0dHdO0PXv3pP5MDfo8bejzjEefZzz6POPZos8BAICltPz7alUYsHz5ck2YMEHNmzfXiy++qOHDh5vXeXp6qkaNGlq/fn2aw4CHGY1Gbdy4UXfv3lVAQIBOnDih+Ph41apVy9ymVKlSKlSokDkMCAsLk4+Pj8VlA4GBgRo9erTOnTuncuXKKSwszBwmPNxmwoQJkv5vtEOvXr3M6x0cHFSrVi0dOXIkza/j+PHjj1zn6uqqcuXKpXmb9uzMmTOKjY21+vn0edrR5xmPPs949HnGe9o+BwAAT8eqMGDu3Llq0KCBPvvsM928eTPZ+vLly2vBggVWFXTmzBl16tRJ9+/fl5ubm7788kuVLl1av/32m5ycnJQrVy6L9l5eXgoPD5ckRUREWAQBksyPn9QmJiZG9+7dU1RUlIxGY7LLAby8vHThwoU0v56KFStytsiGfH19M7sEu0OfZzz6POPR5xmPPgcAwPaMRuNjT0g/zKow4OLFi3rttdceuT537ty6deuWNZtWiRIltGrVKkVHR2vTpk0aOnSoFi5caNW2sgJHR0fCABuiLzMefZ7x6POMR59nPPocAIDMZVUYkCtXrhRHBCQ5d+6c8ubNa1VBzs7Oeu655yRJFSpU0PHjxzV//ny99NJLio+P1+3bty1GB0RGRpr35e3trWPHjllsLyLiwazOD7dJWvZwG3d3d7m4uMjBwUGOjo6KjIy0aBMZGZlsRAEAAMg83KIw9egrAMC/WRUG1KlTRyEhIercuXOydWfPntXSpUvNk+89rcTERMXFxalChQpycnJSaGiomjRpIkm6cOGCrl69Kn9/f0mSv7+/Zs6cqcjISPMw/z179sjd3V2lS5c2t/n1118t9rFnzx7zNpydnVW+fHmFhoaqYcOG5hpCQ0PVtWtXm7wmAADw9BwdHPTBT8t0IZLbOT5OSS9vTWxu/TxODyNUSD36CkBWZ1UY8M4776hDhw5q0aKF6tWrJ4PBoFWrVmn58uX6+eeflTdvXvXt2zfN2/3ss89Up04dFSxYUHfu3NG6deu0f/9+ffvtt8qZM6fatWunSZMmycPDQ+7u7ho3bpwCAgLMB/KBgYEqXbq03n//fQ0ZMkTh4eGaMmWKunTpImdnZ0lSp06dtGjRIn366adq166d9u7dqw0bNmjWrFnmOnr06KGhQ4eqQoUK8vPz07x58xQbG6u2bbkvMgAAWcmFyAidvv53ZpdhNxwdHDTm1xBdvBWe2aVkac/lzqtRdTpkdhkA8FhWhQH58+fXihUr9Pnnn2vDhg0ymUxavXq1cuTIoebNm2vw4MHy9PRM83YjIyM1dOhQXb9+XTlz5pSvr6++/fZbvfjii5Kk4cOHy8HBQQMGDFBcXJwCAwM1atQo8/MdHR01c+ZMjR49Wh07dpSrq6vatGmjAQMGmNsULVpUs2bN0sSJEzV//nwVKFBA48aNM99WUJKaNWumGzduaNq0aQoPD1fZsmU1Z84cLhMAAAB27+KtcP1+42pmlwEAeEpWhQHSg9n1x48fr/Hjx+vGjRtKTEyUp6enHJ5iOFTS7f0eJXv27Bo1apRFAPBvhQsX1uzZsx+7nerVq2vVqlWPbdO1a1cuCwAAAAAA/CdZHQY8zJpRAAAAAAAAIHNYFQbMmDHjsesNBoOyZ8+uAgUKqGrVqsqfP79VxQEAAAAAANuzOgwwGAySJJPJZLHu38sdHR3Vvn17ffTRR091CQEAAAAAALANq8KAHTt2qFevXipbtqxee+01FStWTJJ08eJFLVy4UGfOnNEXX3yhu3fvat68efrxxx+VL18+q+4wAAAAAAAAbMuqU/VjxoxRyZIlNXHiRJUrV07u7u5yd3dX+fLlNXHiRD333HP67LPPVLZsWU2aNEmBgYFavXq1rWsHAAAAAABWsCoM2Lt3r6pWrfrI9VWrVtXu3bvNj4OCgnT1KregAQAAAAAgK7AqDHB2dtaxY8ceuf7o0aNycnIyP05ISJCbm5s1uwIAAAAAADZm1ZwBLVq00KJFi5Q7d269+uqrKlKkiCTp8uXL+uGHH7RmzRp16dLF3H7fvn0qXbq0bSoGAAAAAABPxaowYMiQIYqIiNDcuXP1/fffm+8SkJiYKJPJpMaNG2vIkCGSpPv376t8+fKqXLmy7aoGAAAA7ECiKVEOBu7IlRr0FZA2VoUB2bNn15QpU3Tq1Cnt3LlTV65ckSQVLlxYgYGBKl++vEXb/v3726ZaAAAAwI44GBw06+hC/R1zLbNLydIKuudXr0pdM7sM4JliVRiQpFy5cipXrpytagEAAADwL3/HXNPF21cyuwwA/zGMowEAAAAAwM5YPTJgx44d+v7773Xq1ClFR0fLZDIla/Pbb789VXEAAAAAAMD2rBoZsGnTJvXu3VsRERFq1qyZEhMT1bx5czVr1kwuLi7y9fVVv379bF0rAAAAAACwAatGBsyaNUt+fn764YcfFBUVpcWLF6tdu3aqWbOmLl++rI4dO5pvNwgAAAAAALIWq0YGnD9/Xs2aNZOjo6OyZXuQJyQkJEiSihQpoldffVWzZ8+2XZUAAAAAAMBmrAoDXFxc5OTkJEnKlSuXnJ2dFR4ebl7v7e2ty5cv26ZCAAAAAABgU1aFASVKlND58+fNj8uWLavVq1crISFB9+/f17p161SwYEGbFQkAAAAAAGzHqjCgUaNG2rp1q+Li4iRJvXv31v79+1W1alXVqFFDBw8eVM+ePW1aKAAAAAAAsA2rJhAMDg5WcHCw+XG9evW0YMEC/fzzz3J0dFRQUJBq1KhhsyIBAAAAICMkmhLlYLDqnKndoa+ebWkOA+Li4rRz504VLlxYZcqUMS+vUqWKqlSpYtPiAAAAACAjORgctPbMV4q8ezWzS8nSvNwKqaVv38wuA08hzWGAk5OTBg4cqA8//NAiDAAAAACA/4LIu1d17c6fmV2G3TCZjDIYHDO7jGeCLfsqzWGAwWBQ8eLFdfPmTZsUAAAAAACwXwaDow6fG6OY2IuZXUqW5u76nCqXHmWz7Vk1Z0CvXr00adIkNW3aVCVLlrRZMQAAAAAA+xMTe1FRd3/P7DLsilVhwNGjR5U7d261bNlS1apVU+HCheXi4pKs3YgRI566QAAAAAAAYFtWhQELFy40///Q0NAU2xgMBsIAAAAAAACyIKvCgNOnT9u6DgAAAAAAkEG4KSQAAAAAAHbGqpEBScLCwrRv3z5FRkaqc+fOKl68uGJjY3XhwgUVL15cOXLksFWdAAAAAADARqwKA+Li4jRo0CBt3bpVJpNJBoNB9erVU/HixeXg4KA33nhD3bt3V58+fWxdLwAAAAAAeEpWXSYwdepUbd++XaNHj9bGjRtlMpnM67Jnz66mTZtq69atNisSAAAAAADYjlVhwE8//aROnTqpY8eO8vDwSLa+VKlSunTp0lMXBwAAAAAAbM+qMCAyMlK+vr6PXO/o6Kh79+5ZXRQAAAAAAEg/VoUBBQsW1IULFx65/vDhwypWrJjVRQEAAAAAgPRjVRjQokULLVmyREeOHDEvMxgMkqSQkBBt2LBBrVu3tkmBAAAAAADAtqy6m0Dv3r119OhRde3aVSVLlpTBYNDEiRMVFRWlf/75R0FBQerevbuNSwUAAAAAALZgVRjg7OysOXPmaM2aNdq0aZMSExMVFxcnX19fvfPOO2rVqpV5pAAAAAAAAMharAoDpAeXBbRq1UqtWrWyZT0AAAAAACCdWTVnwKeffqpTp07ZuhYAAAAAAJABrAoDFi5cqHbt2qlx48aaMmWKzpw5Y+u6AAAAAABAOrEqDNizZ48mTpyo4sWLa86cOWrdurWaN2+uL7/88rG3HAQAAAAAAJnPqjkD3N3d1bp1a7Vu3Vq3b9/Wpk2btHHjRn399deaMWOGfHx81Lx5c/Xs2dPW9QIAAAAAgKdk1ciAh+XKlUvt27fXt99+q507d2ro0KG6fPmyvvjiC1vUBwAAAAAAbMzquwk8LD4+Xr/++qvWr1+vX375RXfv3lXBggVtsWkAAAAAAGBjVocBCQkJ2r17t9avX6+tW7cqJiZGefPmVdu2bdWsWTNVrlzZlnUCAAAAAAAbsSoMGD58uLZu3aqoqCjlyZNHzZs3V/PmzVW1alUZDAZb1wgAAAAAAGzIqjBg69atatiwoZo1a6YaNWrI0dExWZuoqCh5eHg8dYEAAAAAAMC2rAoDdu/erWzZkj81Li5OW7du1dq1a7Vz504dP378qQsEAAAAAAC2ZVUY8HAQYDKZFBoaqrVr12rz5s2KiYmRp6enWrRoYbMiAQAAAACA7Vg9geCJEye0du1a/fTTT4qIiJDBYFCzZs3UtWtX+fv7WzV3wKxZs/Tzzz/rwoULcnFxUUBAgAYPHqySJUua29y/f1+TJk3S+vXrFRcXp8DAQI0aNUre3t7mNlevXtXo0aO1b98+ubm5qXXr1nrvvfcsQox9+/Zp0qRJOnv2rAoWLKg+ffqobdu2FvUsWrRI3377rcLDw1WmTBmNHDlSfn5+VvQWAAAAAABZh0NaGl+6dElffvmlmjZtqvbt22vTpk1q2bKlvvjiC5lMJjVp0kQBAQFWTyK4f/9+denSRSEhIZo7d64SEhIUHBysu3fvmttMmDBBv/zyi6ZMmaIFCxbo+vXr6t+/v3m90WhUr169FB8fryVLlmjSpElauXKlpk2bZvE6evXqperVq2v16tV6/fXXNWLECO3cudPcZv369Zo4caL69eunlStXqkyZMgoODlZkZKRVrw0AAAAAgKwi1SMDOnbsqGPHjilPnjxq0qSJxo0bpypVqkiS/vrrL5sU8+2331o8njRpkmrWrKmTJ0+qatWqio6O1vLlyzV58mTVrFlT0oNwoFmzZgoLC5O/v7927dqlc+fOae7cufL29lbZsmU1cOBATZ48Wf3795ezs7OWLFmiIkWKaNiwYZKkUqVK6dChQ/r+++9Vu3ZtSdLcuXPVoUMHtWvXTpI0ZswYbd++XcuXL1fPnj1t8noBAAAAAMgMqQ4Djh49aj6Arlu3booTCNpadHS0JJnvSnDixAnFx8erVq1a5jalSpVSoUKFzGFAWFiYfHx8LC4bCAwM1OjRo3Xu3DmVK1dOYWFh5jDh4TYTJkyQ9GAixJMnT6pXr17m9Q4ODqpVq5aOHDmSptdgNBofuz6lOzHg0Z7Un6lBn6cNfZ7x6POMR59nPPo849HnGY8+z3j0ecajzzPe4/o8Le9Hqo/oR44cqXXr1ql///7y8PBQkyZN1KxZM1WvXj3VO0uLxMRETZgwQZUrV5aPj48kKSIiQk5OTsqVK5dFWy8vL4WHh5vbPBwESDI/flKbmJgY3bt3T1FRUTIajfLy8kq2nwsXLqTpdTzujgqurq4qV65cmrZn786cOaPY2Firn0+fpx19nvHo84xHn2c8+jzj0ecZjz7PePR5xqPPM97T9nmSVIcBXbp0UZcuXXTp0iWtXbtW69atU0hIiLy9vVW9enUZDAar5wpIyZgxY3T27Fn98MMPNttmZqhYsSJJlw35+vpmdgl2hz7PePR5xqPPMx59nvHo84xHn2c8+jzj0ecZ73F9bjQaH3tC+mFpHutftGhR9e3bV3379jXfUWD9+vUymUwaM2aMfv31V9WvX1+1atVS9uzZ07p5SdLHH3+s7du3a+HChSpQoIB5ube3t+Lj43X79m2L0QGRkZHKmzevuc2xY8csthcRESFJFm2Slj3cxt3dXS4uLnJwcJCjo2OyyQIjIyOTjSh4EkdHR8IAG6IvMx59nvHo84xHn2c8+jzj0ecZjz7PePR5xqPPM56t+jxNdxP4twoVKuiDDz7Qjh079N133ykwMFDr169Xnz59VKNGjTRvz2Qy6eOPP9bmzZs1b948FS1aNNn+nJycFBoaal524cIFXb16Vf7+/pIkf39//f777xYH8nv27JG7u7tKly5tbrN3716Lbe/Zs8e8DWdnZ5UvX95iP4mJiQoNDVVAQECaXxcAAAAAAFmJTWYBTJpcr1atWhozZoy2bt2qtWvXpnk7Y8aM0bp16/TVV18pR44c5mv8c+bMKRcXF+XMmVPt2rXTpEmT5OHhIXd3d40bN04BAQHmA/nAwECVLl1a77//voYMGaLw8HBNmTJFXbp0kbOzsySpU6dOWrRokT799FO1a9dOe/fu1YYNGzRr1ixzLT169NDQoUNVoUIF+fn5ad68eYqNjVXbtm2fvsMAAAAAAMhENr8lQPbs2dWsWTM1a9Yszc9dvHixJOm1116zWD5x4kTzQfjw4cPl4OCgAQMGKC4uToGBgRo1apS5raOjo2bOnKnRo0erY8eOcnV1VZs2bTRgwABzm6JFi2rWrFmaOHGi5s+frwIFCmjcuHHm2wpKUrNmzXTjxg1NmzZN4eHhKlu2rObMmZPmywQAAAAAAMhq0v/+gGlw5syZJ7bJnj27Ro0aZREA/FvhwoU1e/bsx26nevXqWrVq1WPbdO3aVV27dn1iTQAAAAAAPEueas4AAAAAAADw7CEMAAAAAADAzhAGAAAAAABgZwgDAAAAAACwM4QBAAAAAADYGcIAAAAAAADsDGEAAAAAAAB2hjAAAAAAAAA7QxgAAAAAAICdIQwAAAAAAMDOEAYAAAAAAGBnCAMAAAAAALAzhAEAAAAAANgZwgAAAAAAAOwMYQAAAAAAAHaGMAAAAAAAADtDGAAAAAAAgJ0hDAAAAAAAwM4QBgAAAAAAYGcIAwAAAAAAsDOEAQAAAAAA2BnCAAAAAAAA7AxhAAAAAAAAdoYwAAAAAAAAO0MYAAAAAACAnSEMAAAAAADAzhAGAAAAAABgZwgDAAAAAACwM4QBAAAAAADYGcIAAAAAAADsDGEAAAAAAAB2hjAAAAAAAAA7QxgAAAAAAICdIQwAAAAAAMDOEAYAAAAAAGBnCAMAAAAAALAzhAEAAAAAANgZwgAAAAAAAOwMYQAAAAAAAHaGMAAAAAAAADtDGAAAAAAAgJ0hDAAAAAAAwM4QBgAAAAAAYGcIAwAAAAAAsDOEAQAAAAAA2BnCAAAAAAAA7AxhAAAAAAAAdoYwAAAAAAAAO0MYAAAAAACAnclSYcCBAwfUu3dvBQYGytfXV1u2bLFYbzKZNHXqVAUGBsrPz0/du3fXn3/+adHm1q1beu+991S5cmVVqVJFw4cP1507dyzanD59Wp07d1bFihUVFBSk2bNnJ6tlw4YNatq0qSpWrKiWLVtqx44dNn+9AAAAAABkhiwVBty9e1e+vr4aNWpUiutnz56tBQsWaPTo0QoJCZGrq6uCg4N1//59c5vBgwfr3Llzmjt3rmbOnKmDBw/qo48+Mq+PiYlRcHCwChUqpBUrVuj999/XjBkz9OOPP5rbHD58WO+9955eeeUVrVq1Sg0aNFC/fv30+++/p9+LBwAAAAAgg2SpMCAoKEjvvvuuGjVqlGydyWTS/Pnz1adPHzVs2FBlypTRp59+quvXr5tHEJw/f147d+7UuHHjVKlSJVWpUkUjRozQTz/9pGvXrkmS1qxZo/j4eE2YMEHPP/+8mjdvrtdee01z584172v+/PmqXbu23nzzTZUqVUrvvPOOypUrp4ULF2ZMRwAAAAAAkI6yZXYBqXX58mWFh4erVq1a5mU5c+ZUpUqVdOTIETVv3lxHjhxRrly5VLFiRXObWrVqycHBQceOHVOjRo0UFhamKlWqyNnZ2dwmMDBQs2fPVlRUlDw8PBQWFqbu3btb7D8wMDDZZQupYTQaH7ve0dExzdu0Z0/qz9Sgz9OGPs949HnGo88zHn2e8ejzjEefZzz6POPR5xnvcX2elvfjmQkDwsPDJUleXl4Wy728vBQRESFJioiIkKenp8X6bNmyycPDw/z8iIgIFSlSxKKNt7e3eZ2Hh4ciIiLMy1LaT1ocP378ketcXV1Vrly5NG/Tnp05c0axsbFWP58+Tzv6POPR5xmPPs949HnGo88zHn2e8ejzjEefZ7yn7fMkz0wY8KyqWLEiSZcN+fr6ZnYJdoc+z3j0ecajzzMefZ7x6POMR59nPPo849HnGe9xfW40Gh97Qvphz0wYkDdvXklSZGSk8uXLZ14eGRmpMmXKSHpwhv/GjRsWz0tISFBUVJT5+d7e3snO8Cc9ThoNkFKbyMjIZKMFUsPR0ZEwwIboy4xHn2c8+jzj0ecZjz7PePR5xqPPMx59nvHo84xnqz7PUhMIPk6RIkWUN29ehYaGmpfFxMTo6NGjCggIkCQFBATo9u3bOnHihLnN3r17lZiYKD8/P0mSv7+/Dh48qPj4eHObPXv2qESJEvLw8DC32bt3r8X+9+zZI39///R6eQAAAAAAZJgsFQbcuXNHv/32m3777TdJDyYN/O2333T16lUZDAZ169ZNX3/9tbZu3aozZ87o/fffV758+dSwYUNJUqlSpVS7dm2NHDlSx44d06FDhzR27Fg1b95c+fPnlyS1bNlSTk5O+vDDD3X27FmtX79e8+fPV48ePcx1dOvWTTt37tR3332n8+fPa/r06Tpx4oS6du2a8Z0CAAAAAICNZanLBE6cOKFu3bqZH0+cOFGS1KZNG02aNElvvfWWYmNj9dFHH+n27dt64YUXNGfOHGXPnt38nMmTJ2vs2LF6/fXX5eDgoMaNG2vEiBHm9Tlz5tS3336rjz/+WG3btlWePHnUt29fdezY0dymcuXKmjx5sqZMmaLPP/9cxYsX15dffikfH58M6AUAAAAAANJXlgoDqlevrjNnzjxyvcFg0MCBAzVw4MBHtsmdO7c+++yzx+6nTJky+uGHHx7b5qWXXtJLL730+IIBAAAAAHgGZanLBAAAAAAAQPojDAAAAAAAwM4QBgAAAAAAYGcIAwAAAAAAsDOEAQAAAAAA2BnCAAAAAAAA7AxhAAAAAAAAdoYwAAAAAAAAO0MYAAAAAACAnSEMAAAAAADAzhAGAAAAAABgZwgDAAAAAACwM4QBAAAAAADYGcIAAAAAAADsDGEAAAAAAAB2hjAAAAAAAAA7QxgAAAAAAICdIQwAAAAAAMDOEAYAAAAAAGBnCAMAAAAAALAzhAEAAAAAANgZwgAAAAAAAOwMYQAAAAAAAHaGMAAAAAAAADtDGAAAAAAAgJ0hDAAAAAAAwM4QBgAAAAAAYGcIAwAAAAAAsDOEAQAAAAAA2BnCAAAAAAAA7AxhAAAAAAAAdoYwAAAAAAAAO0MYAAAAAACAnSEMAAAAAADAzhAGAAAAAABgZwgDAAAAAACwM4QBAAAAAADYGcIAAAAAAADsDGEAAAAAAAB2hjAAAAAAAAA7QxgAAAAAAICdIQwAAAAAAMDOEAYAAAAAAGBnCAMAAAAAALAzhAEAAAAAANgZwgAAAAAAAOwMYQAAAAAAAHaGMAAAAAAAADtDGAAAAAAAgJ0hDAAAAAAAwM4QBjzBokWLVL9+fVWsWFHt27fXsWPHMrskAAAAAACeCmHAY6xfv14TJ05Uv379tHLlSpUpU0bBwcGKjIzM7NIAAAAAALAaYcBjzJ07Vx06dFC7du1UunRpjRkzRi4uLlq+fHlmlwYAAAAAgNWyZXYBWVVcXJxOnjypXr16mZc5ODioVq1aOnLkyBOfbzKZzNtxdHR8ZDtHR0cV9ykkJ+dHt4FUuHh+GY1GGY3Gp96Wo6OjihfPJycn+vxxChf2smmflyiaV07ZyB8fp0hB2/Z56UJ55eRInz/Oc/lt2+fP58srZ/r8sZ7zsm2f+3jnlbMDff44xT1t2+elcueTk4F/Qx+nmIdt+7xwjoLKJvr8cfLnyGfTPvd2LSoHE4dKj+PpWtCmfZ7DpZRkcrJBZf9dOVyKPbHPk9YlHY8+jsGUmlZ26Nq1a6pTp46WLFmigIAA8/JPP/1UBw4c0NKlSx/7/Li4OB0/fjy9ywQAAAAAwELFihXl7Oz82DbEXekkW7ZsqlixohwcHGQwGDK7HAAAAADAf5zJZFJiYqKyZXvyoT5hwCPkyZNHjo6OySYLjIyMlLe39xOf7+Dg8MQkBgAAAACAzMBFdo/g7Oys8uXLKzQ01LwsMTFRoaGhFpcNAAAAAADwrGFkwGP06NFDQ4cOVYUKFeTn56d58+YpNjZWbdu2zezSAAAAAACwGmHAYzRr1kw3btzQtGnTFB4errJly2rOnDmpukwAAAAAAICsirsJAAAAAABgZ5gzAAAAAAAAO0MYAAAAAACAnSEMAAAAAADAzhAG4Kkw5QQAAAAAPHsIA/BUDAYDgQAAAAAAuxAXF5fZJdgMYQCsMnr0aA0dOlTSg0AAAAAASInRaJQkJSYmZnIlwNMZNGiQ/ve//yk2NjazS7EJwgCkWXR0tE6ePKljx47p77//Ni9nhAAAAHgW8DdLxjGZTHJ0dJQkTZgwQb/++msmVwRY5+7du3J0dNTKlSt1+/btzC7HJgwmfg2RBiaTSQaDQZGRkYqOjlbx4sUVGRkpLy8vi/V4NiQmJsrBwTIT5D20RH8AwH/H9evX5enpqWzZsmV2KXbh4b8zhg0bptDQUA0ZMkRNmjSRk5NTJlf333Lt2jXlz58/s8v4z4uKitKdO3dUqFAh3bhxQ66urnJ1dc3ssqzGyACkicFgUGJiory8vFS8eHFdu3ZN3bp108cff2yxHlmf0WiUg4ODwsPDdfToUR08eFCSfV/2kTSM8f79+7pz547i4uLsuj/w3/Xv32nOCzw7eK+sd+7cOQ0YMEDr1q2jHzOAyWQyBwEmk0lGo1GvvfaaGjRoQBBgYxMmTNCQIUO0ePHizC7lP+mLL77Qtm3bJEkeHh4qVKiQIiMj1axZM82cOVN3797N5AqtRyyKNEv6B/TOnTvKkSOHChUqpO3bt8vNzU2DBw+Wg4NDimeckXUkDdk7e/asevXqpevXryshIUF169bVoEGDVLp0abt7/4xGoxwdHXXhwgV9+umnOnfunEwmk1q1aqXmzZurVKlSjBLIREnvT0p4X9Lm0qVLWrNmjZydnRUQECA/Pz85Ozvzu/0MSPoe3Lp1S7du3dI///wjX19f5ciRQ87OzpldXpYWHx+vUaNGycnJSaVKleI3IwMk9fHAgQN19OhROTo6qlOnTs/0WdSsqFevXvrtt9/UqlUr1ahRI7PL+c85duyYZs2apapVq8rFxUW1atWSJDk5Oalp06b67rvv5Orqqm7dusnNzS2Tq007wgCkSdJB5Llz5zR16lS9++67+uSTTzR69GitXbtWkggEsrikA6dbt25pyJAhKlasmLp16yZJmjNnjgYPHqxhw4apevXqjzz4+q9JTEyUo6Ojzp8/ry5duihfvnyqVq2a7t+/r5CQEIWFhWnIkCEqW7YsB56Z4OEg4Mcff9S5c+eULVs2lSxZUu3bt+f9SIMLFy6oS5cuio6OVkJCgnLkyKGWLVvq/fffl5ubG7/bWVjS9+D8+fN6//339ccff+ju3bsqVKiQAgMDNXjwYOXKlSuzy8ySLl++rMuXLytnzpxq3bq1KlasmNkl2Y3Y2Fh5eHjIYDDoxo0biomJkSQlJCRwqYYNTJkyRWFhYfroo49Ur149fsfTgZ+fn2bMmKExY8boq6++kslk0osvvqhcuXLp3XfflZubm6ZOnSpJz2QgwJwBSLWkH5fo6Gi1bdtWxYoV08CBA+Xn56fw8HCNHTtWR48eVcuWLTV48GCL5yDzJX3VDQaDYmJidObMGY0fP15DhgxRzZo1JUm///67+vfvL0dHR40cOfI/GwjExMTI3d3d4sA+MjJS/fr1k7u7uwYMGCA/Pz9J0uuvv67Dhw+rUqVKGj58uMqVK0cgkIEe7uuePXvq0KFDyp07t4xGoyIiIlS7dm2NGjVKBQoUyORKs7ak7/+HH36oiIgIde/eXaVKldLYsWN14MABVatWTZMmTVKOHDn43c7CLl26pE6dOqlkyZKqXbu2ihcvrh9//FEHDhyQj4+P5syZo9y5c2d2mVlKdHS0unTpon/++UcGg0GLFi1S6dKlHzvaCLaR9FsSFRWl2bNna/78+SpbtqyWLFkig8FAIPCUEhIS9Oabb8poNOqrr75Szpw5M7uk/5yH/wb5+eef9fHHH+u5555Tz549FRQUJEm6deuWvvnmG82dO1cDBw585gIB/rVHqiRd9xUREaHIyEgVK1ZMwcHB5gOmvHnzauTIkapUqZLWrl2ryZMnS5J5hAAyxyeffKJVq1ZJehACGAwGRUREqEmTJpoxY4Zy5MhhDgKMRqN8fHz0zTffyGg0auzYsdq3b5/5Ovr/iqFDh2rcuHGKjIyUwWAwHyQdO3ZMf/31l9q3b2/+XH/++ec6dOiQGjVqpN9//13jx4/X6dOnLZ6H9JX0j/C4ceN06tQpjRkzRhs2bNAvv/yi9u3b65dfftHu3bt5P54g6ft/69Yt1atXT7Vq1VL+/Pn16aefqmnTpgoNDdWwYcN0584dfrezqMTERC1btkwGg0EDBgxQz5491bhxY82ePVs9e/bUH3/8oXfffVd37tzJ7FKzlJw5c6pNmzby9PRUVFSUTp8+LUkEXung338vJPWxh4eH3nrrLXXr1k1Hjx5VcHCwJClbtmxKSEjI8Dr/K+7evavz58+rWLFiBAHpxGAwKD4+XpLUuHFjjRgxQpcuXdK8efO0e/duSVLu3LnVs2dP9ejRQ1OnTtX8+fOfqTkE+CVEqiQdRHbq1Ek9evTQhQsXVK5cOUkPgoLExMRkgcDnn38uiX9wM8upU6f0ww8/aPHixYqKijL/ce/g4KA6deooNDRUJ06c0KlTpyRJjo6OMplMKl68uDkQmDhxonbt2vWfCgTu3LmjHTt2aNasWeZAQJJKly6tjh07qkmTJpKk2bNna86cORo1apQ+//xztW3bVocOHdLEiRMVFhbGyIAMdO/ePYWFhalhw4aqU6eOnJ2ddfjwYa1atUpt27ZV9erVLd4PggFL//zzj1auXKk9e/bozp07KliwoKQHE2W6ubnpgw8+ULNmzQgEsjgHBwedP39e7u7uqlq1qiQpLi5ODg4O6tmzp9q0aaODBw9qw4YNmVxp1pH0b1ePHj3Uo0cPeXh46OOPP9bBgwcJdW0sISHBPNLip59+0vz58/X999+bD4qSAoE333xTBw4cIBB4SiaTSdmyZZOXl5dOnjz5yFt9b9y4UQsWLMiMEv8TEhMT5eTkpLNnz6pnz55av369bt26pT179mjatGkKDQ2VlDwQWLhw4TMTzHKUhlRzc3NT+fLlZTQaFRcXZ77uK2kY2MOBwAsvvKB58+ZpxowZmVy1/SpXrpy+/PJLjRkzRh4eHuZ/kD09PfXuu+8qODhYsbGx+umnn3Tjxg1JMv9xVLx4cc2ePVvXr1/XjBkzFBcXl5kvxSaSDmxmzJih+vXra/Xq1Zo5c6YiIyMlSYUKFVLfvn0lSYcPH9b333+vXr16qUGDBpKkpk2bKnfu3Dp37py++uorxcXF8YdkBomIiNCpU6dUtWpV5cqVS6GhoQoODlb9+vU1cOBAFSlSRJLM/ygT1Pyf8+fP65VXXtGHH36oN954Q/v27dOuXbskSdmzZ1dcXJxcXFw0fPhwNW/eXAcOHFD//v119+5dgtwsxGQyKSEhQa6urrp586b++OMPSZKzs7OMRqOcnZ01cOBA5cmTR/v378/kajPf3bt3FRMTo4iICPOBZseOHfXOO+/IxcVFH330kY4cOUIgYCNGo9E83L9fv34aM2aMPv/8c3322Wdq06aNtm/frpiYGHMg8Prrr2vfvn3q2bOnpAeBAO9D2hgMBrm5ualt27Y6ffq0Nm7cqHv37pnXSQ+C4M2bN+vEiRPmv9mRNg4ODrp8+bJef/113bt3T7Vr19b06dPVr18/HT16VNOmTdOePXsk/V8g8Oabb+rzzz9XSEjIM/G55kIdPFbStTIJCQlyc3PThAkT9MknnygkJETDhw/XrFmz5Orqar72LikQGDp0qLJnz64WLVpk9kuwS0kBTWBgoKQH15m+//776tKli1q0aKF8+fKpR48eio2N1XfffScXFxd16dJFnp6e5j+OnnvuOS1btkwmk+k/MfOvg4OD+XM6fvx4JSYmas2aNZIezMTr7e1t/gc0PDxcsbGxCgoKkqenpyTp6NGjKlu2rBo3bqxatWoxc3cG8vT0VMmSJXX27Fn9+uuvGjBggBo0aKChQ4cqX758kqQdO3ZoxIgR+vLLL82Xedi7uLg4jR8/Xj4+PurQoYMSExP19ddfa+HChSpSpIi6d+8uZ2dncyDwwQcf6M6dOzp8+LBu3779TF3z+F/z73lJDAaDsmXLplq1amnt2rX65ZdfVLhwYTk7O5vPxrq6usrDw8Mc7tqr8+fPa+zYsbpw4YJu3rypoKAgNWnSRC1bttSrr74qSZo1a5Y+/PBDjR8/XgEBAcwD85SSPoODBw/W0aNH9e6776py5crKli2b+vXrp88++0x9+vRR3bp1zYGAg4ODvvnmG3Xq1Mk8hwAe74cfflBiYqLy58+vRo0aSZLatGmjI0eO6PPPP1dCQoIaNmyoEiVK6Pz581q/fr22b9+ujz76SO7u7plc/bMn6Xdh7dq1un//vnr37m2+k0BQUJBKlSqlDz/8UFOnTpXBYFDNmjWVO3duvfHGG3JyclKdOnWeic81YQBSlHQwmfQhTkp8c+TIoWHDhkmS1qxZow8++ECTJk2Si4uLRSCQP39+jRs3jsl5MomDg4PFxDyXL1/W33//rTlz5sjZ2VmNGzeWt7e3+vXrJ5PJpK+++kqSkgUCRYsWzcyXYXOOjo7mfpk4caI++OADcyDQu3dveXl5SXow3NFkMunkyZPy9/fXiRMn9Ouvv6pAgQLmPyZhO0n/4KY0oZfJZJKbm5t8fX01d+5czZ07Vw0aNNCIESOUJ08eSdLVq1e1fv16FS1a1LzM3l26dElGo1F58uRRgwYN1LRpU0kPRsBMnz5dkyZNkqRkgcD48eN1+/Zt5c2bNzPLt2tJ34Pbt2/r7t27ioyMVIkSJeTm5qY2bdpox44dmjJlitzd3dWkSRN5eHhIenBp2J07d+Tj4yPJPm+5mXS3jBIlSpiD78WLF2vXrl26ffu2unTpoldffVUGg0Fff/21Ro0apZEjR5ovu4D1Nm7cqGPHjql///5q0aKF3N3ddeDAAfPEjRMmTJD04CDKw8NDb/y/9u48rqb8/wP4qz3VFIlGjCXGTWRLm0pKWZqs0UIxFbKvSWSZULKGshRpyDZm7PtYB2OQZewZJSmlBdG+3Pv+/dHvnqlh5mtmjKvu+/l4fB/fce65t/e5nc7yPp/P++3ri6KiIjRr1kzGkdcMo0ePxvnz54WRuAMGDMCECRPQpEkTTJo0CUpKSlixYgXi4+PRuHFjZGdnIycnBxMnTkT//v1lHX6NJD1+Sof7t23bFsDvnTCcnZ1RUVGBwMBAREVFoaKiAra2tqhXrx4mTJhQY0bXcTKAvUV6IfLs2TMcPHgQL168EDK56urq0NDQwMyZMyEWi3HixAkEBQW9lRAAwIkAGcjNzYWSkhK0tbWhrKyMJ0+e4NWrV7CyssKCBQuwYsUKREZGAqgshFK/fn1MmDABALBu3TooKirCw8MD9evXr3UXkdIEV9WD858lBExNTdGqVSusX78eu3btQllZGfLy8rBt2zZZhV8rpaenQ19fHyoqKigrKxNGW5w6dQoFBQXo0KEDDAwMoKamhpCQEGRmZuLGjRswNzcXji+pqak4cOAAfvzxR8yePbvWJbD+icLCQkyaNAkPHjyAgYGBMBSXiNCxY0dMmTIFCgoK70wIqKmpcSJAhqq2D5w1axZSU1Px+vVrGBsbo0+fPhg1ahQCAgJQUlKCBQsW4OrVq7Czs8ObN29w7NgxFBUVwd3dHYD8TZcpKytDZGQkmjZtitmzZwvtA+/cuYNXr15BR0dHOM54eHgAAMLDw7F8+XJs3boVqqqqcvedfSgSiQSvX7+GoaEhunfvDi0tLdy+fRujRo1Cr169MGLECMycOVN4gmpra4u6desiMDBQOO7LY/LqfR09ehRpaWlYsmQJPv/8c9y4cQMxMTHIycnB7Nmz0bJlS4SFhaFr1644ffo0Xrx4AVtbW1haWgqJYO4S836q3sdI90ktLS0UFhbizp07sLGxgbKyMiQSCYgI/fr1ww8//ICkpCRERERAWVkZVlZWNeu7JsaqEIvFRET06NEjsrGxIWtra7K2tqZOnTqRo6MjXbt2jUpLS4mIqKCggGbPnk2dO3emadOmUVFRkSxDl3uFhYUUERFBEyZMoPz8fHr48CGJRCKaN28eFRcXExHRuXPnqF+/fuTi4kInTpwQ3pubm0sLFy4kkUhE0dHRwn5QW1RUVBARUVpaGq1cuZJu3rxJEolEeD0oKIjMzc1p4cKFlJWVRUREqamptHDhQho1ahQFBgZScnKyTGKvrY4cOULm5uZ05MgR4ZhCROTv708ikYhEIhGZmJjQypUrKTU1lYiI7ty5Q/379ycTExPy9PSkoKAgGjBgAHXs2JGio6OFz6j6u5VHYrGY9u3bRx4eHtSmTRvas2cPEf3+d0BEdPv2bfLz86O2bdvS+vXrZRUqe4eUlBSytLQkb29viomJoXPnzpGXlxeJRCJatmwZERGlp6fT0qVLqW3btiQSicjU1JT69etHiYmJMo5edvLz86lnz54UFhYmLAsPDydjY2PavXs3vXnzRlhP6ocffqCUlJSPHWqNV/VYIpWWlkaPHz8mIqJnz56Rra0tjRs3jjIyMkgikdDKlStJJBKRvb097d+/n8rLyz922DXWd999R8OHDxf23cLCQjpw4AB17NiRfH196bfffhPWLS0trXZOJaJad033X0tNTaW7d+8K/87NzSUbGxvy9fWlgoICIqp+nTFixAhyd3en3r17U1pa2keP99/iZAB7S3p6OvXs2ZN8fX3p0qVLVFRURLdv3yYzMzNycXGhS5cuVUsIzJ07l0QiEQUFBck4cvlWVlZGBw4coHbt2pGnpyd16tSJRo0aRQ8fPqx2IvizhEB2djaFh4dTUlKSLML/z1RNcNnb25O9vb1wQV31gmbWrFlCQuD58+dERFRSUkJE9NaJlf17v/32G9na2lLPnj3p6NGjVFFRQVu3bqXu3bvTzp076dKlS7R06VISiUQ0Y8YM4SKzsLCQvvnmG/L09CR7e3sKDAykI0eOCJ8r7xc90n1aLBbT4cOHqU+fPmRtbU0PHz6s9jpRZXLF3d2dzMzM6NWrV3KfRPkUlJeX0/z582ngwIH066+/CstDQkLI1NSU9u3bV+13+PDhQ0pISKA7d+7Qy5cvZRHyJyMjI4N69OhBu3btIqLKREDbtm3pu+++ExLiRETr1q2T66TJhxQREUG//fbbW8eO3bt3U7du3SghIUFYFh8fT8OHDycXFxfasWPHxw61Rrpw4QKdPHmSoqOjaePGjdVeKysro4MHD1KnTp3I19eXHjx4IKMoa5eSkhLy9fUlIyMjunXrFhFVftfx8fHUtm1bGjNmjPDQiIjo1q1b5ObmRnfv3hWuGWsaTgawasrLyykiIoJcXV3p0qVLwvIlS5ZQ27ZtydbWlrp161YtIZCfn08LFy7kJ6efiLVr15JIJCIrKyv66aefhOVVs/BVEwInT54UltfWG6mnT59St27dyNfXt9rFCRG9c4RAWFiYkBD44zrsw0lKSiInJyeyt7enkydP0qxZs2ju3LnVTqhbtmwhkUhEAQEB1Z5+SCQSKiwsrPZ5tXX/fR/vespWUVFBR44coR49epCtrS09evRIWC517949evbs2UeLk/21iooKGjRoEE2bNk1YVvXptvTJoPQpt7x78uRJtaS2m5sbDRs2jCIiIqht27a0Y8eOaomAuLg4sre3p9u3b8si3FrlwYMHJBKJaNiwYUKyVio8PJw6d+5MT58+JSKirKwsmjhxIi1ZsoTPp+9pzJgxZGRkJIyUs7e3f+s6u6ysjA4dOkRmZmbk7e1N9+/fl1G0tUtCQgJ5enqSpaWlkJR98eIFrV+/njp16kQ9e/akb775hsLDw2ngwIFkbW1dI0cESNWgCQ3svyLtw1tQUABlZWXk5+ejS5cusLKyAgCsWbMGW7Zswbx58xAREQGxWIzQ0FDcvHkTZWVl0NLSQnBwMAwNDWW5GXJN2jopJycHhYWFaNmyJYqLi7Flyxakp6cL/Wil7fXs7Owwbdo0qKioYMGCBTh79iwA1Kw5Tn/Djh07oK6ujokTJ6JLly4AKnvXP3/+HCkpKcjJyQFQWUPAyckJW7ZswbZt24Tvi+cx/jdatmyJ9evXC8Wl7t+/Dzs7O6HlHQAMHz4cwcHBOHToEGJiYpCUlATg97ZKVdXW/fd/SU1NxZw5c+Dp6Qlvb2/89NNPePXqFZSUlNCrVy9MmzYNqqqq8PX1RVJSklBIE6hsQWpgYCDjLWBA5fxUaQtYabvM8PBwbN26FfPnz0ffvn2FiuAbNmzAtWvXZBbrp6CkpAQzZ85EdHQ0Xr9+DQDw9fXFo0ePsGHDBixcuBAeHh5QV1cHUFk74MKFC2jRogXXFvkAWrdujc2bNyM1NRXBwcFCu0sAsLS0RFFREeLj47Fnzx7ExcXhwoULMDIyEs6nVANarsnK9u3b8fDhQ8yaNQthYWEYOHAgMjIysHv3bjx//lxYT0VFBb169UJwcDCuXr2KZ8+eyTDqmokqH4wD+P1aukuXLggMDETTpk0xZswY/Prrr9DV1YWnpydWrVqFevXq4ciRI9i/fz8UFRWxefNm4ZhdI8k0FcFkTpqhffToEU2dOpWSk5Pp1atXVFZWRkSV83o7dOhAcXFxQnZ93LhxJBKJqHPnznT16lWZxc6qS0xMpA4dOtDWrVspLS2N9u7dS6ampuTj4yPMuf6jkydPkqenp5C9r63GjBlDrq6uwpPkc+fO0axZs6hdu3ZkbGxM/v7+dOfOHWH9hQsXvvWkg304f3yCn5SURH369CGRSEQzZ84UjjVVn3Zv3bqVRCIRTZ06tdoIAXn36NEjsrKyol69epG3tzcNGTKEjI2NKSIiQvi7rjpCwN7enodIfyKqPiH94wgla2trWrRo0Tufbv/www9kbW1NFy9e/Kjxfori4uJIJBIJ1yLZ2dm0aNEiateuHfn7+9PDhw/p1atXdPjwYRoxYgRZWVnVuqlwH8Ofze8Xi8V08eJFsra2Jk9PT0pOThb25U2bNpGxsTEZGRmRmZkZbdq06WOGXGNdunSJ5s6dSyEhIcL3Lp0eJxKJaMmSJZSZmVntPWVlZXzN8g9I99WqU6yq7us3btwgNze3aiMEpO9LTk6mp0+fUl5e3scL+D/CyQA5Jr0gf/36NTk4OJCvr+9bQ+dCQkJo4MCBlJ6eLiybNm0azZ49m8aPH88HHxmT/g4LCwtp0qRJNHToUGF6R3FxMe3Zs4dMTU3J19eXnjx5Irzv6dOnwpDhPw61ro0iIiLIxMSEwsPDacaMGdSlSxdycXGhVatW0YYNG0gkElFMTAwPX/wIqg5Rf/HihXCTk5ycTC4uLmRpaUmHDx8WEpJVT8zSC//z589/3KA/Uc+fP6f+/fuTn58f3bx5U1jet29fsrCwoCVLlghTACoqKujYsWPUpUsXcnZ25joYMib9OygoKCCxWFxtasy1a9eoZ8+eJBKJKC4urtr77ty5Q76+vjR06FB68eLFxwz5kyI9Vr9584YGDhxInp6e9Pr1ayKq/LuIiIggCwsLEolE1LZtW7KwsKA+ffpwIuxfks6hrqpqQmDo0KHVhrI/ePCAEhIS6N69e9XWZ+8mrcHl4uJCR48eJaLfz4ESieQvEwJS/P3+Pbm5uWRqakrh4eHCsqrXHdevX6cBAwaQra1ttYdGtQknA+SU9ESam5tLT548EYoFVlVWVkYeHh7Uv39/Ydndu3dp0KBB9N133/EB5xORkZFBly9fpiFDhtD3339f7Ya2sLBQGCHg5+dHDx48oLt375KPjw+5ubnVug4Qf7ZPFhUVUUBAAJmZmZGNjQ2tX7++2kG9d+/eNHny5I8UpfyqmghYtGgR+fn50bFjx4QTb9UaAkePHn1nQoCLJFUqKyujkydPUo8ePej06dPC8uXLl1O7du1o2LBhJBKJKDw8XJjLWFFRQSdPnqyWGGQfn/Q4lZSURF5eXjR48GCaOnUqXb58mYgqC5bGxMSQpaUl9ezZk86ePUuPHj2i3bt3k5eXF1lYWAjJXHlV9TwXGRlJpqamdO7cOWFZcXExZWRkUHx8PG3atInOnj1L2dnZsgi11oiOjiaRSESnTp166zWxWEznzp2jzp0708iRIykpKemd52O+bvxrz58/JycnJxKJRDRlyhThHCg9d0oTAm3btqWwsDCu9/IBPHv2jGbMmEEikYhWr14tLJded5SXl9O2bdtIJBKRk5MTXb9+XVah/mcUiHjSjrx68eIFXF1dhXm2+/fvh7a2drVer3v37sXcuXPh7u4OHR0dXLt2DSkpKdi1a1fNnh9TS5SWlsLNzQ3Jyclo2LAhtmzZgi+++AIVFRVQVlYGABQXF+PEiRNYvHgxiouLoauri6KiImzevBnt2rWT8RZ8ONLesOnp6Thx4gSSk5PRvHlzdOjQARYWFgCAhw8fokGDBtDV1RXed+3aNcycOROurq4YN26crMKv9aoeV8aMGYOHDx/C2toa/v7+1ebvJicnY8yYMRCLxQgMDESPHj2goqIi7NPSz5HnnskPHjxAdHQ0unbtiqysLEycOBEAsG7dOkRFRWHBggUYPHgwxo4diytXrsDLywuDBw9G06ZNZRw5k8rIyICHhwfU1NTQoEEDpKSk4PXr1wgPD0e/fv1QWlqKffv2YdeuXUhMTAQA6OjooHHjxggPD0fr1q1lvAUfX2pqKi5evIhhw4ZVO56UlpbCxcUFzZs3x8aNGwFwz/oPoWq/daCy5sK6devwyy+/YPny5XB0dKy2fkFBAQICAnDu3DlYWFhg7ty5aNWq1ccOu0aaOHEievXqBRcXF7x8+RJDhw5Feno6Zs2aBXd3dygrKwu/DyLC/PnzsXv3bmzfvh2mpqayDr/GS0tLw+bNm7Fz506MGzcOkyZNAgCUlZVBVVUVBQUF8PT0RE5ODj777DMcPnwYampqMo76A5JdHoLJgjS7+Pz5c5JIJDRx4kSytrambt26CdXTqz69y83NpQ0bNlC7du2EodU8zO7TIZFI6NKlS+Tq6koikYgiIyOFYddVn5yUlpbSnTt3aMaMGbRgwYJa1/mhavtAGxsbsra2JkdHR+rYsSP16NGj2vCvqhISEmjUqFHUvXv3Wl834VOxZs0aMjc3pwMHDgj9et9VQ8DR0ZGcnJzoyJEjwtMRVjknWtr69cqVK8Jw//Pnz1OXLl0oOjpamMO4ZcsWMjY2JpFIRKtWreK+3p8A6fn10KFD5O7uLgy7vnTpEvn6+pJIJKLdu3cL6xYWFtLJkyfpwIEDdP36dbmdGlBSUkL+/v4kEonI3d2d4uPjheMHEdG2bduoQ4cOdOjQoXe+n6eA/XNVpyA9ePCA/P39ycTEROhEVPX4vWbNGvLy8qL27dtXa/nK/lxiYiL17duXjIyMhClwOTk5ZG9vT+bm5rRz585qLWOJKvdn6Ugi9v7+amTKkydPhGkYVUcIEBHt27ePBg0aRFeuXKGMjIz/OsyPjpMBcig5OZlEIhF9//33VFhYSEFBQSQSicjPz0+4sPzjRWNGRgalpqbSq1evZBAx+yvl5eWUkJBAzs7O1KNHD7pw4UK1IWV/VFtvrHJycqhXr1709ddfC8Wk0tPTydzcnGxtbenu3bvCuqWlpTRjxgxycXEhW1tbTnB9JBKJhLy9vcnb27taQbR3SUpKIjs7O+rSpQsPa/9/hYWFlJqaSgMHDqRffvml2mtbt24la2vravvyqlWrKDQ0lNasWcNFF2VMekyWnlt37txJc+fOrbbOrVu3aNSoUcL5mVX3+PFjunjxIvXv3586d+5MPXv2pAMHDlBmZibl5+dT9+7dadq0aSSRSPjm/1+o+kAoPDycrK2t6fjx48KyqgmBH3/8UVj+/Plz8vX1pbi4OL5WfE+LFy+msWPHCjVCRCKRMO0rOzv7nQmBqr8fIp568b6k39vTp09p1apVNGnSJFqzZk21KaNVEwLSQtI///wz+fv707hx42rd1FopZVmPTGAfh3R4UVlZGdauXQtra2vo6+tDQ0MDs2fPBgAcO3YMwcHBCAsLe2tYbqNGjWS8BUz6OxSLxZBIJFBRUQEAKCsro0OHDggJCUFQUBAWL16M+fPnw9TUtNoQPynp+2oL+v/hoPfv30dxcTGGDx8OMzMzAJVTXwoLCzFz5kw0b95ceE9mZiYUFBRgYmICf39/NGvWTEbRyw+JRIK8vDwkJSWhe/fuUFdXF4bgAdWH9ZaUlKBly5aIiYnB3bt3+fcDICsrCy4uLjA0NISmpiYsLS0B/H5cyMjIQFFREUpLSwEAiYmJ+OWXX2Bubi5MI2CyIZFIoKSkhCdPniAyMhKqqqpISUlB/fr1UV5eDiUlJSgqKqJ9+/aYMGECiAhz5syBsrIyBgwYIOvwZarqcaFFixZo0aIFzMzMcPjwYRw7dgyBgYEwNDTEhAkT4OrqiqioKLi7u8Pc3FzGkddMVacYPn36FK9fv4aGhgZWr14NFRUVODg4wMjICFOmTIGysjKmTp0Kf39/NG7cGI8ePcKvv/4Kb29v1K1bFwDkejrX/zJhwgT8+uuv8PDwgI+PD27evIk9e/Zg3LhxiIqKgqOjI7777ju4u7sjMjISYrFYmDJQFX+//5v0GJyUlAQfHx8QEbS0tHD+/HkcP34c3t7e8PDwQLNmzeDn54f69esjNjYW27dvh4qKCurUqYOtW7eiTp06st6U/wTXDJAjaWlpyMzMxObNm2Fra4thw4YJr7158wahoaE4deoUHBwchITAH+eMMdmQ/h6ePHmC6OhoPHr0CPXr10fPnj3Rq1cvaGlpoby8HLdu3cLMmTOhrq7+lwmBmkx6cVFeXg4VFRWUlJRAXV0d27dvx6pVq3Dq1Cno6Ohg6dKl2Lp1K+bNmwcXFxdoaGiguLgYSUlJMDExQVFRERQVFYUe1OzD+rNjx9dff43c3FwcPnwYwNsXi+fPn8ebN2/Qu3fvahc98n5R+eLFCwQHB+PKlSvQ09PD5s2b0bhxY+E7efz4MVxdXdGkSRN88cUXyMrKwrNnz7B9+3a0bNlSxtGztLQ0DBkyBCoqKlBUVERJSQkUFRWxbt06dOrUqdq6t2/fxvr163H27FksXboU/fr1k1HUspWWloZdu3YhNTUVSkpK6N+/P4yMjGBgYCAkCfbv349jx47hwoULaNCgAbKystC7d28sW7as1iW+/2v0h7ouz549g0Qigba2Nm7evIlmzZohICAATk5OAID09HTEx8dj27ZtEIvFUFNTw/jx4zF69GhZbkaNcOvWLXh7e8Pf3x++vr7CTeYvv/yCqKgoXL9+HevXr4e9vT1yc3MxYMAAvHjxAgcOHJDLeiEfQkZGBnx8fNC4cWP4+/vDwsICOTk5cHFxgZ6eHtzd3TF8+HAAlfUvMjMzcfz4cWhra8Pe3r5219yR1ZAE9nGVlJQI8xHNzc2FzgESiUQYOvP69WsKDAykzp0708yZM2vtcPKapmrlaUtLS3J0dKSRI0dS3759ycbGhoKDg4WWSmVlZZSQkEAODg7Ur18/unjx4ltDymqyZ8+e0datW4X6Fvfu3aOePXvSkydP6ODBg2RiYkI5OTm0evVqMjY2pu+++67acPTZs2dTcHBwrR3q9amous+dOXNGaEEqFospNjaWjI2NKTQ0VBgyLd3HMzMzydfXl2bOnCkXLS//rqysLAoICBDqg0hJv+/79++Tq6srubi4kI+Pj9xXnJe1qlMDYmJi6Ouvv6Y7d+7Qy5cvaffu3eTg4EC9e/d+Z4eMGzdu0OTJk+X2d5iUlETW1tZkb29PTk5OZGNjQyKRiCZNmlStTR1RZY/whIQEGjx4MPXs2ZOSkpJkFHXtEB4eTh06dKCDBw8KNSr2799P9vb25OzsXG1qABHR7du36fLly9VqC/DQ9b929uxZEolEdOPGDSKiaq1ef/75Z7K2tiaRSCR0yMjKyqIffvhBJrHWBhUVFbRu3TpydnamK1euCMvXrl1LIpGI7OzsyNramrZt2ybDKGWHkwFy5PLlyzRu3Dih3VTVG6KqCYFZs2aRSCR6az4jk52srCzq378/+fr6Vjvh9uvXjzp16kQzZswQioZJEwKmpqbk5ub2P+dm1yS3bt0iR0dHcnV1pV9++YXMzMzIzc2Nnj59SoWFhdSjRw+ytrYmY2NjOnjwIOXn5wvvTUhIoH79+tHSpUu5x/p/qGoiYNq0aeTg4ECjRo0SjjcvX76kr7/+mrp06ULffPON8LuQzuMzNTWl/fv3yyT2miA7O5smT578Vg966fdeXFxMpaWlnEz5RDx+/JhWrFhBAQEB1QqZFhcX0+nTp8nBwYH69OnzzoRASUnJxwz1k/HixQsaNGgQeXp60vXr16msrIzy8vJo6dKlZGRkRH5+ftVu+KX1AfLy8uS2wOKHUlhYSF5eXuTp6fnWA6GTJ0+SjY0NOTk50ZkzZ/70MzgR8L89evSIjI2NaeXKlcKyqufO5cuXCzUEpIUapfj7/fskEglt27aN5s2bJyyLjIwkY2NjOnz4MD19+pQsLCyoe/fuFB8fL8NIZYOTAbXUu4rniMViunr1Kg0fPpxMTU3fyu5KD0R5eXk0f/78Wldxvib7/vvvyc7Ojn766SdhWUREBLVp04a8vLyoU6dOFBQUVG2EwI0bN2pd4bX8/Hw6cuQIdenShdq1a0fDhw8XtlEikVBcXBx1796dHBwcql0UJiQkkJ+fHzk6OnLXgI9k7NixZGtrSzt27BCq70qPS8+fP6eRI0eSsbExde/enYYNG0a9evUiExMTio6OlmXYNUJOTg5NmjTpTxMC7NOxdetWEolE1LZt27cqVJeWlv7PhIA8evr0KXXu3Lnavi0VGRlJIpGIli9fTmVlZdWqq7N/r7S0lNzd3cnDw0NYVvW4snv3bhKJROTs7EwnTpyQRYi1wqtXr2jAgAHk4OAgdBAg+r3Ac1xcHA0cOJBGjBhBlpaWQtcR9s8VFBQI3++xY8fIxMSEYmNjhQdp4eHh1LlzZ7K1taXvvvtOlqF+dPI7AbMWE4vFUFBQQH5+Pp48eYJHjx4hMzMTioqK6NKlC6ZMmYJWrVphzpw5+Omnn4T3SYvT6ejoYP78+TA0NJThVrCqWrRoATs7O3Tr1g0AEB0djY0bNyIsLAyxsbFo37499u3bh8WLF+PVq1dQUVFBp06dal3hNS0tLRgbG0MikaC8vByvXr2CpqYmAEBBQQGurq4YNGgQXr9+jQEDBmDmzJkYO3YsgoODce/ePURFRVXrac/+G9u3b8e1a9cwc+ZM9OvXD40aNYJEIoGCggJevXoFfX19rFy5EgsWLED79u1RUFCAzp07Y+nSpcJ8U4lEIuOt+HTp6elh7ty56NWrF8LDwxEfHw8Ata4+SG0wcOBAzJ07FwoKCjh37hySk5OF11RVVWFjY4Pg4GCIxWKMHDkSv/32mwyjla379+8jICAAt27dQmlpKbS0tABUXtOIxWIAlUXXevbsiX379uHNmzdCzQzpXHf276ioqKBx48ZITEzEjRs3AFQeVyoqKgAAvXv3RrNmzUBE2LBhA3755RdZhltj1a1bFwsWLMCLFy8QGRmJc+fOAaj8/nNzc/Hw4UN07doVI0aMgJKSEnbu3ImKigoQl3n7xzQ1NYU6Ijdv3oShoSFcXFygo6MDAMjLy4OZmRlatmwpdwVIORlQy0iLdkkrZnp6emLgwIHw8PDAzp07oaCggE6dOmHmzJlo0aIFAgMD30oIAHxi/dR06NABc+bMAQBcvHgRGzduxIQJE2BnZwdVVVW4u7tDV1cXZ86cQURERK2+kdLU1MSYMWMwceJEZGVlYfz48cjKygIAfPbZZ/Dx8cHKlSvRoUMH3L17F9nZ2bC2tsbOnTshEolkHH3tJL1Ql16oPH78GHXr1oWjoyM0NTWRm5uLPXv2wM/PD25uboiKihKSN6tXr8aePXsQFhaG3r17A+Bige9DmhBwdnZGaGgodu7cKeuQ5N67jrtaWlpwcXHB9OnTkZiYiI0bNyI9PV14XZoQmDZtGvT09OS2oGlOTg6mTp2KvLw8KCkpoU6dOrh8+TKAyusSBQUFlJeXAwDs7OyQm5uL+/fvyzLkGk16zP4jBQUFTJgwAXXq1EFkZCTS0tIgkUiEYq5paWlQUVHBgAEDkJWVhR07diA3N/djhl5rmJiYYPXq1Xj06BHmzJmDefPm4bvvvsPixYtx8OBBGBkZwd7eHubm5rhw4QJKS0v52vwDyc3NRVFRkXDPc+fOHaSkpMDV1RVxcXHVuk/JA24tWMNNmTIFHh4eQpspJSUlpKamwtvbGy1atMDYsWOhra2Nc+fOISQkBCUlJfDx8RESAkuWLMHs2bMREhICR0dHGW8NkyZziouLUVJSgnr16gGobB8ozcynpKRAXV0dvXv3Fl5/8OABvvzyS7Rr1w5Dhgyp1TdSDRo0wKhRo1BcXAx9fX0sW7YMEydOxNq1a9GgQQNoaWmhW7dusLa2RlFREdTU1KCoqPhWOx72YUhb9gCV7UmtrKygp6eHtLQ0JCQkoLy8HKtXr0Zubi50dXXRrFkzREVFoW7duvDy8gJQ2RqJqlSyrs3774ekp6eHoKAgqKmpCe00mWxIj90vX77EkydP8Pr1a+jo6KBz587Q0dGBp6cnKioqsHLlSigoKGD8+PFo0qQJgMqEgIODA2xsbISRTvKkqKgIxcXF0NTUhJ+fHywtLfHbb79h/fr1MDExwYgRIwD83hY3Pz8f2traaNiwoSzDrrGqtg88duwYXrx4AQUFBQwcOBAaGhpo2rQppk2bhrCwMMyZMwejRo2CjY0Nnj17hpMnT0JBQQGjR4+GkpISIiIi4OvrCz09PRlvVc1kZ2eHnTt3IiwsDEeOHMHu3buhp6eH6dOnw8XFBUDl+VBJSalWP+T52EaMGAE3NzcsWLAA+vr6uHfvHtLT0+W2UwNfHddgkydPxvnz5+Hq6gqqrP8AIkJsbCwaNmyIWbNmwcTEBABw48YNKCkpQVtbW+jtLU0IzJkzB+Hh4ejatSs0NDRkvFXyS3pTlZycjJCQEGRlZcHExAS9evWCo6OjcPIuKSlBUVERsrOz0aJFC9y7dw+3bt2CpaUlxo4dK+Ot+Hjq1KmDPn36gIiwfPlyjB8/Hhs2bICuri4eP36MTZs2wd3dHR06dJB1qLUWEQk37iNHjsTz58+hr6+Pbt264fz58xg1ahSICFZWVhg2bBiGDBkCsVgMLy8vHDx4EG5ublBVVeWnHf9Cw4YNsWjRIp4iIENVe1hPmTIFGRkZKCoqAgA4ODggICAAhoaGQtuqlStXAqgc8t64cWMAlTe68tgKLysrCy4uLjA0NISmpiasrKwAAE5OTrh9+zYWL16MkpISDBkyBLq6urh58yZOnTqFJk2aoEGDBjKOvuYRi8XCtcT48eORkJCA4uJiKCkpYdOmTViyZAnMzc3h7OwMZWVlLF++HCNHjkTjxo0hkUiQmZmJyZMnAwBsbGywbNkyXL9+/a32mOz9GRkZYf369SgoKEBeXh7q1KkjtLG7desWHjx4ACMjI7k8PvxX2rdvj/j4eAQGBqK0tBSNGzfG5s2ba93U2vfFyYAa6t69e7h69SqmTJkCKysrKCgogIigpKSEu3fvwtjYWEgELFu2DHv27EFISAh69eoFVVVVISHQoUMHLF68GLq6upwIkDFFRUVkZGTAz88Pampq+OKLL3DhwgVcvnwZKSkpGDVqFBQUFNCxY0doa2vjm2++QZMmTZCdnY2srCzMmzdP1pvw0WlqauKrr74CAKxYsQJ+fn5wdHTE9evXcenSJfj4+Mg4wtpL+iQUqOzfW1BQAB8fH5iYmEBVVRVLly5FYmIilJSUYG5uLsz/TU9PR2lpqbAe+/c4ESBbioqKePbsGXx9fdG8eXOMGDECLVq0wI8//ogDBw5g2rRpCAkJQYcOHTB06FAoKChg9erVKCwsRFBQEAwMDGS9CTKjrKwMU1NTXLlyBXp6enj69CmaNGkCY2NjTJ48GZqamoiIiMCuXbugqamJoqIiFBUVYcuWLdDV1ZV1+J+8tLS0anVypMeKGTNm4Pbt25g8eTIsLS1RWFiI2bNnIzg4GHPmzIGdnR0GDBgAKysrxMbGIisrCxoaGrCwsMCAAQMAVF6Hqqmpye0N1IekqakJTU1N6OvrA6hMtJ8+fRq7d+9Gbm4u1qxZI7dTiP4rZmZm2LdvH0pKSqCuro66devKOiTZkU3dQvZvXbt2jUQiEW3cuJGIKnvyzpkzh/Lz88nNzY3mzJlDRETLli2jtm3bvtVvfdKkSZSQkCCT2Nmf++mnn8jHx0foo/z8+XMaOHAgmZub0+rVq4XKyWfOnKExY8ZQv379yN/fX257UUsVFhbSoUOHqE+fPtSpUyfq3bs3JSYmyjosubBw4UKaOnUq2dnZUWZm5l+u++zZM4qMjCRzc3M6evToR4qQsf9edHQ0WVhY0OXLl4Vl+fn5dObMGbK1tSV3d3cqKCgQlkdGRpKFhQVlZWXJKuRPRlZWFgUEBJBIJKLIyMhqrz1//pxOnjxJ/v7+5O/vT6GhobWuS85/5cqVKyQSiWj37t3Vlh89epR69epFO3bsoDdv3hAR0aVLl6hjx47UsWNHsrS0pLNnzwptX6WdGqq25L179y55e3tTz549/+dxn/19MTExZGRkRF999RVfy7D/HI8MqKFMTU1hZmaGHTt2QF1dHcuXL0fXrl3x+vVrNGnSBL/++itmz56NAwcOICQkBH369BGyivv370diYiIKCwtlvBVM+nS1vLwcKioqSElJgUQigbGxMQBAX18f0dHRmDhxIrZv3w4iwsSJE2Fvb49OnTpBQ0MDFRUVcj+qQ0NDA87OzrC1tUVycjKaNWuG+vXryzqsWi85ORm7d++GtrY2GjVqhM8//xxA9VEDUj/++CMOHz6M8+fPY9y4cejTp48sQmbsg5AWuZSOsvvtt9+grKwsDJcWi8XQ0tKCtbU1AgICEBgYiJiYGEydOhVaWloYOXIkvLy85Ptp1P9r2LAhAgMDUV5ejqioKGhpaeHrr78GUHkO1NfXh729vTBvmmuKvB9dXV1YWVnh5cuXwjKJRIKsrCw0btwYDg4O+Oyzz3D79m2MHTsWjo6OcHd3x8KFC7FgwQJ88803sLS0FEZwqaqqgoiwZMkS3Lx5E6mpqfj222+F4z77cEaNGoUvvvgCHTt25O+X/ef4iFoD0f9X7I6KioKqqirCw8NhaGiI8ePHo3Hjxhg3bhwyMzOxd+9ejB49Gi4uLkJRonv37mH//v3Q09NDu3btZLkZck86zzQlJQXz5s3DpEmT8NtvvwlzxaTt8xo0aICoqCgYGhpix44dWLt2LSQSCerWrQtVVVW5TwRIKSoqCgW7OBHw3yMitGzZEnFxcVBTU8OdO3ewceNGAHir2NHdu3cRHx+P9PR0BAcHc/tAVqNJb0iTkpIQHx+PwsJCGBoaIi8vD48fPwbwexFMVVVV2Nraonnz5rh79y7KysoAgIel/kGDBg0wZ84coV3mt99+K7xWNQHA9UXeX6tWrRAREQF/f38AQEJCAhQVFdGvXz/Mnj0b+vr6ePbsGSZOnAgbGxvMmDEDpqamsLGxQUZGBmbNmlWt2xQAPH/+HCUlJahbty62b98OIyMjWWxarSY9L/bu3ZsTAeyj4JEBNZD0ZPjmzRvk5ORARUUF2dnZyMnJQVlZGVq2bIkFCxZg3rx5uHjxIgwMDNCjRw/8+OOPOH78OB48eIDt27fzDZOMKSoqIjU1FV5eXpBIJNDU1BRaTnXr1g2Ojo5QVFREeXk59PT0EBkZialTp2Lt2rVQU1MTbqgY+xj++LRfehwyNTXF8uXLMX36dGEer6urKxQVFYWL+Hbt2iE4OFioVA1w+0BWM9H/F83Mzs6Gp6cnzMzMYG9vD5FIBBUVFURHR2PWrFlo2LChMOKrXr160NPTQ3FxMd/M/gVpu0wACA8Ph5KSEry9vasdJ/j7ez/0/91ZpAmn2NhYLFu2DOHh4RgwYIBQb+HSpUsgIowYMUKYr25gYABzc3OUlJS81TawUaNGCAoKglgslsvOFx8DnxfZx8Z7XA3n6emJ8PBw6Onp4ZtvvsHFixdRUVEBZ2dnrFixAtnZ2Zg7dy66du2KpUuXoqCgAPHx8WjVqpWsQ5dbVfv73rx5E4aGhli/fj1OnTqFZcuWoVGjRggNDcWZM2cAVFaZliYEVqxYARsbG24DyT6qiooKIRFw6dIlHDlyBIcPH0Zubi7KysrQqVMnLFmyBKqqqli/fj327t0LAEIyC6ismCxNBFCVLgSM1RQSiQQKCgooKCjAs2fP0KZNG4wcORKGhobo0aMHnJ2dcezYMWzYsAHPnz8Xqn/fvn0bmZmZaN26Ne/3/4M0IeDs7IzQ0FDs3LlT1iHVSH9MmnTr1g3Ozs6YM2cODh06JCxPSkpCfn4+WrZsCQDIzs7G1atX0bp1a2zZsgWenp5vfba6ujonAhirRRRIOuac1UjSfrGJiYmYOXMm8vLyEBISgq5du0JVVRUvXrxAcnIyMjMz8eWXX+Lzzz/nCryfgJSUFCxZsgT169eHjo4OAgMDhdeOHTuGVatWoby8HHPmzIGDgwMACHNT3zUfm7H/StUn+JMnT0ZCQoIwB9XQ0BCurq5wd3eHlpYWrl69iqCgICgqKmLChAlC1WnGaou0tDRMmTIFysrKICLs3r272utTpkzB8ePH0aZNG3h4eOD58+dISEjAo0ePsHPnThgaGsoo8polOzsbERER8PPz44cXH8jjx48RGRmJH3/8EYsXL0a/fv1w6dIljB49GkOHDoWJiQnu3r2L3bt3IzQ0FM7OzgB+H2XAGKudOBlQSxARHjx4gNmzZyMvLw/z58+HlZUVtyL5RG3atAmrVq2CoqIiRo8ejQkTJqC4uBh16tQBUD0hMG/ePHTv3l14L5+YmSwEBgbiwoULGD16NIyMjPDmzRusXbsWqampGDp0KCZMmABNTU1cu3YNs2bNQllZGcaOHQsPDw9Zh87YB3Pv3j34+PhAIpHAxMQEcXFxAH5P1gKV9XxOnjyJhw8f4rPPPhOm7rVu3VqWodc4nPj+8P6YEOjduze+/fZbREZGory8HJ999hnGjh0LX19fWYfKGPtIOBlQy9y/f19ICISEhMDKyop7eX+CCgsLERcXh/j4eNStWxf79u2DhoZGtQvKY8eOISoqCpmZmVi1ahW6desm46iZvLp//z7Gjh2LAQMGYOzYsUKSsaSkBKNHj8atW7cQGBgId3d3KCsr49q1axgzZgxmzZoFV1dXGUfP2IchTcTeu3cPU6dOxdOnTxEQEICRI0cCqJ4QKCwsRHp6OurWrQsNDQ189tlnsgydMcHjx4+xZs0anDx5EsuXL0efPn2QkpKCrKws6OjooE2bNgC4rgtj8oL/ymsZY2NjhIWFoX79+pgyZQquXr0q65DYH0iLBfr5+cHb2xvPnj2Dj4+PcCEprTbdp08fjB49Gs2bN0ezZs1kHDWTZ0VFRcjKykLz5s2hrq4OIkJFRQXU1dURHR2Nzz//HPv370dFRQUAoEuXLjh69CgnAlitoqCgACJC27ZtsWrVKjRt2hRbtmzBd999B6Cyc4C0RoampiZEIhH09fU5EcA+KYaGhpg0aRIcHR0REBCA/fv3o0WLFrC0tOREAGNyiP/SayFjY2PMnz8fxsbGaNKkiazDYX8grbJep04d+Pn5YcyYMXj48CGGDx+O0tLSagmB/v37Y+vWrZwMYB/Nn7X7U1BQQGpqqrCOsrIyysrKUKdOHQwfPhx37tzBzZs3hfUbNGjwl5/HWE2koKAAiUQCY2NjLF++XEiISRMCKioqvM+zT56hoSEmT54MJycnBAcHC0UFpYOFORHAmPzgv/Zaqn379oiLi0Pz5s1lHQp7B+mc/zp16sDX1xcjR47Ew4cPMWLEiLdGCGhpackyVCZHKioqhIvAly9fIjs7G0SELl26oE+fPoiPj0diYiKUlJRQUVEhDIlWUlKCsrIytLW1hc+S7uN8UclqE2knjLKyMrRv3x7Lli2DkpISoqOj8f333wPgfZ7VDNIRAk5OTpg5cyYuXrwojH5hjMkPPmPVYlwr4NMknXd6+/ZtHDp0CBoaGvDz84Ofnx+Sk5MxcODAanNPGfsYpE/7AWDu3LkYOnQoBg0ahGHDhuHEiROwtLSEgYEBRowYgQcPHgjrZmdn4/79+2jUqBEXLGW1mvTY/euvv2Ls2LHIy8tDx44dsWLFCqipqSEsLAz79u2TdZiMvTdpQqBLly6YP38+Xrx4wQWKGZMznAxg7AP7syGiRCRcTN65cwceHh44duwYCgsLhSkD7u7uyM/PR3Z29keOmskz6dNOAJg2bRqOHz8OIyMj2Nra4uXLlwgKCsL9+/fh5OQEfX19eHp6Yt68eYiIiEBoaCh++OEHDBs2TOhVzVhN9K4notLjedUkrr+/P5SVlSEWiyGRSNC+fXuEhYWhRYsW6Ny588cOm7F/xdDQEG3atOERLYzJKe4mwNgHJG2FlJOTg+TkZKiqqqJDhw7V2iPdvHkTvr6+6NatG2bOnAkDAwPhQrOkpARFRUXQ1dWV4VYweVK1UFR+fj6GDx8ONzc3DBkyRKgLMHfuXBw8eBDDhg1Dp06d8Msvv+DYsWNQUFDAF198gcGDB2PYsGEAuPUlq5mkx+6XL18iNTUVZWVlaN68OfT19YV1EhMTMXjwYNjZ2WHu3Ln4/PPPAfz+N1RaWgo1NTVZbQJjfxsRoaioCDNmzEBiYiL27dsHHR0dWYfFGPuIOBnA2AcivQl69OgRRo4ciZycHEgkElhbW8PLywv29vYAgPnz5yM9PR2LFi1Co0aNhPdz9V4mS2PHjoWWlhaePn2KNWvWQF9fHxUVFcJ0gMDAQJw6dQpRUVHo2rUrkpKSoKmpCUVFReGGifdhVpNIEwDS/09KSsKMGTPw9OlTlJeXQ0tLC/PmzYODgwNUVVWxY8cOJCYmYsyYMTAwMHjr8zgRxmqiiooKHDhwAO3bt8eXX34p63AYYx8ZJwMY+wCkF4EFBQUYOnQo9PT00LNnT2hoaGDx4sXQ09ODj48PBg0ahIKCApSVlfHTf/bJePPmDaZMmYJr165BWVkZMTExMDU1hYKCgpAQePnyJfr164d27dphw4YNwnul+z7fCLGaIioqChMmTADw+/775MkTeHl5oWnTpnB2doauri5OnjyJs2fPYvbs2XBzc0NpaSnEYjE0NDRkvAWMfVh8/GZMfvEjHMb+JelJ9OXLl3j48CE0NDQwevRoeHh4oF+/fti6dSuICDExMdi3bx+0tLQ4EcA+Kdra2ggPD8dXX32F4uJinD59WrgwlE5x0dXVRYsWLZCVlYWKigrhvdL1+EKS1QSjR49GbGwsbt++DQBCEnfZsmVo0aIFgoKC4OXlBWdnZ9SvXx8lJSVYuHAhtm7dCgBCIoCfo7DahI/fjMkvZVkHwFhNp6CggNzcXPTp0wdGRkYoLS2FpaUlAKCsrAxffvklVq1ahcmTJyMmJgZEhEGDBgHgYdXs09GwYUNMmzYNJSUliIuLQ7169TB69GjhIjEnJwdFRUXQ1tZGRUUFlJSU+AKS1Sj79+/Hr7/+itDQULRu3VpY/urVK+Tk5MDFxQXt27cHAKxcuRI7d+4UimcuW7YMqqqq6NevHzQ0NHjfZ4wxVitwMoCxD0BPTw+2trY4evQolJWVkZiYCCMjI6ioqEAsFqNVq1ZYvXo1Jk+ejLi4OJSWlsLT05MTAeyT0qBBAwQHB0MikWDlypV49uwZbG1toampibNnz+LevXtYuHAhtxBkNVJ2djbKysrQpk0bqKurIzU1FU+ePIGdnR0GDx6MwYMHAwC2b9+O2NhYBAcHY9CgQbhz5w4OHjyIFStWoKCgAN7e3lwokDHGWK3ANQMY+4ek0wPKysqgqqoKAAgLC8PWrVvRt29fTJkyBY0bNwYRQSKRQElJCcnJyRgxYgQMDAwQGxuLzz77TMZbwdjbcnNzERYWhhMnTgAAzMzMUFFRgZ49e2L48OEAeI4pq3lu376NYcOGYejQoRg8eDAGDRoELy8vTJ8+XSiUmZWVBX9/f5iYmCAgIECorO7q6ory8nJkZWXhxIkTqFu3rgy3hDHGGPsweGQAY3+TtPK09Aa/qtmzZ6OoqAg//PADNDU1MXr0aBgYGEBRURFisRgtW7bE1q1boaKiwokA9snS09PDrFmzoKKigsOHD8PMzAzjx48XXufpLaymePXqFerVqwcAaNq0KSZNmoQVK1Zg165dMDc3x+DBg4VEAACUlJQgOTkZ/fv3FxIBp06dQklJCZYvX47PP/+cEwGMMcZqDU4GMPY3SBMBaWlp2LZtG1JTUyEWi9G3b1907twZTZo0waJFiyCRSLBr1y4QEfz9/aslBAwNDWW9GYz9Tw0aNMD06dNRUlKCyMhIaGhowMfHhxMBrMYICAhARkYGVqxYgUaNGqFu3bowNjaGiooKSktLoampiZYtWwL4PcGlr6+Phg0b4tKlS7C3t0dqair27NkDLS0t4TMYY4yx2oKnCTD2nqTDopOTk+Ht7Q11dXVoaWkhPz8fmZmZ6N69O0aMGAErKysAQHBwMPbs2YNhw4bBx8cHTZo0kfEWMPb35ebmYuHChThx4gSCg4Ph7e0t65AY+58kEgkOHDiA0NBQWFhYYPbs2WjcuDGWL1+OmzdvomnTpti3bx8GDx6MRYsWAYDQRvPIkSMICwvDixcvUKdOHWhqamLTpk0wMjKS8VYxxhhjHxaPDGDsPSkoKOD169cIDg5G8+bNMX36dJiamiInJwenT5/GN998g8LCQqipqaFz584IDQ2FsrIytm/fDhUVFQQEBFQbjspYTaCnp4e5c+dCSUlJ2Kc9PT1lHRZjf0lRURF9+/aFuro6goODsWjRIoSFhSEgIACFhYXIz8+Hrq4uYmNjQUTCvg0ATk5OaNu2LY4dOwY9PT1YWlriiy++kPEWMcYYYx8e35kw9jfk5eUhJSUFI0aMgKmpKYDK/useHh7Q0NDAzJkzcfToUXTu3BkAEBISAlVVVbi6unIigNVYenp6CAoKgpqaGszMzGQdDmPvRVlZGU5OTgAqR2oFBQUhJCQEn3/+OTQ1NTFs2DAQETZv3gwACA0NFd7XvHlzjB07VmaxM8YYYx8D350w9ieICBUVFVBRURGWZWRk4PXr10JBqqqdBPr164cbN25g586d8PDwQKtWrQBUXoQyVtM1bNgQixYteqtoJmOfsj8mBBYsWIA5c+bAwMAABgYGwrSXqgkBRUVFro3BGGNMLvCZjrE/SE9PR2pqKhQUFKCiooL79+9j+/btAID27dujWbNmOH78OABAVVUVYrEYEokEAGBubg6xWIxnz57JLH7G/iucCGA1kbKyMhwdHREaGorLly9j0aJFyMjIAAA0atQI3t7e8PX1xYEDBzB16lQA4EQAY4wxucBnO8aqKC0txalTp+Dh4YH79+/j5cuXcHd3x6FDh/Dy5UuoqKjAxcUFV65cQVhYGIDKGyTphWN+fj60tbW5bSBjjMmANDH7RyoqKujRo8efJgSGDx+OwYMH4+LFi8jOzv6YITPGGGMyw90EGPuDixcvYunSpUhOToaqqipsbW0xbtw4iEQiKCgoIDMzEwsWLMDPP/8MFxcXBAUFQVVVFQ8ePMDKlSvx+vVrfPvtt9DV1ZX1pjDGmNyo2vp17969ePz4MVq1agUHBwe0bdsWQOXUrtOnTyM4OBiWlpbClAEAyMrKgrKyMurXry/LzWCMMcY+Gk4GMPYO33//PebOnQsFBQUsWLAAQ4YMAQCUl5dDRUUFaWlpWLNmDY4ePYp69epBXV0dYrEYJSUl+PbbbyESiWS8BYwxJj+kc/yTkpLg4+MDIoKWlhaysrJgYGCA4cOHw93dHUD1hIC1tTUCAwO5WwBjjDG5xMkAxqogIigoKCAiIgK3bt3C8+fPkZqairi4OFhaWkIsFgOonBrw8uVL3LlzB0ePHkVRURFatGiBwYMHo2nTpjLeCsYYkz8ZGRnw8fFB48aN4e/vDwsLC+Tk5MDFxQV6enrw8PAQCgaWlZXhzJkzmDJlCr766issWbKEO74wxhiTO5wMYAy/Dy8tLCyEiooKlJSUUFxcjBs3biAiIgKJiYmIjY1F165dhdEBjDHGPg1isRgxMTE4fPgw5s+fD3NzcwDAunXrsGbNGnz++eeoqKjAuHHjMHToUACVNWIuXLgAQ0NDGBoayjJ8xhhjTCa4gCCTe9JEwJMnTzBz5kwsXrwYjx8/hpaWFrp164YpU6ZAJBLBz88PP//8s5AISE5Oxo8//ih8DufVGGNMNhQVFaGtrY0uXboIiYCoqCisXbsWK1asQHx8PCoqKrBx40Zs27YNAKCmpgZHR0dOBDDGGJNbPCaOyTWJRAIlJSUkJSXh66+/hr6+Prp06YIvv/xSWMfOzg4AsGrVKowePRqrV69GvXr1EBMTg59++gmXLl1CvXr1oKCgIKvNYIwxuaagoIABAwZAVVUVAHD8+HHExMRg+vTpsLGxgY6ODgYOHIjdu3cjJiYGKioqQg0BxhhjTF5xMoDJNUVFRWRnZ2PChAlo3bo1pkyZgvbt2wuvS2sI2NnZgYgQHR2NCRMmQEdHByoqKti7dy93DWCMsU+Apqam8N83b96EoaEhXFxcoKOjAwDIy8uDmZkZSktLYWFhIaswGWOMsU8GJwOY3Lt+/TrevHmDoKAgIRGQmZmJJ0+eIDExEfr6+nB2dkb37t2hr6+P27dvIzMzE4MGDeJigYwx9gnKzc1FUVERlJSUAAB37txBSkoK/Pz84OTkJOPoGGOMsU8DJwOY3CsrK0NRUZHw7/3792Pfvn24cuUKlJSUIBaL8ejRI0yePBlt2rRBmzZthBEDjDHGPj0jRoyAm5sbFixYAH19fdy7dw/p6elo3bq1rENjjDHGPhncTYDJvVu3biEgIAAVFRXQ0tJCSkoKLCwsMGDAAHTo0AFhYWFISUnB5s2bYWBgAAUFBU4GMMbYJy4hIQGBgYEoLS1F48aNERoayskAxhhjrApOBjC5IZFIoKj47gYap06dwpkzZ5CZmYkhQ4agXbt2whSAkJAQXLx4Efv27YOWltbHDJkxxti/kJeXh5KSEqirq6Nu3bqyDocxxhj7pPA0ASYXpO0D09LSsHfvXjx+/BitWrVC9+7dYWJiAkdHR3Tr1g2KiopQVv79z+Lu3bt49OgRRCLRnyYSGGOMfZo4AcAYY4z9OR4ZwGo96YiApKQk+Pj4gIigpaWFrKwsGBgYwNvbGx4eHgB+TxoAlaMFtm/fjgcPHmD79u1o2bKlLDeDMcYYY4wxxj4YHhnAaj1FRUVkZGRg/Pjx+PLLL+Hv7w8LCwvk5OTAxcUF8fHxqKiogJeXF5SUlFBSUoLx48fj8ePH0NTUxNatWzkRwBhjjDHGGKtVOBnAaj2xWIwDBw5AWVkZY8aMgbm5OQDg+++/x+vXr1GnTh1s2LABSkpK8PT0hLq6OgYOHIjMzEy4uLigUaNGMt4CxhhjjDHGGPuwOBnAaj1FRUVoa2ujS5cuQiIgKioK69evx4oVK9C+fXsMGTIEMTExKC8vx/Dhw+Hi4lJtygBjjDHGGGOM1SacDGC1noKCAgYMGABVVVUAwPHjxxETE4Pp06fDxsYGOjo6GDhwIHbv3o1NmzZBTU0N7u7unAhgjDHGGGOM1VqcDGByQVNTU/jvmzdvwtDQEC4uLtDR0QFQ2X7KzMwMpaWlsLCwkFWYjDHGGGOMMfZRcDKAyZ3c3FwUFRUJT/7v3LmDlJQU+Pn5wcnJScbRMcYYY4wxxth/j1sLMrlz+/ZtuLm5oVevXtDX18e9e/eQmpqK7du3o1mzZrIOjzHGGGOMMcb+c5wMYHIpISEBgYGBKC0tRePGjREaGorWrVvLOizGGGOMMcYY+yg4GcDkVl5eHkpKSqCuro66devKOhzGGGOMMcYY+2g4GcAYY4wxxhhjjMkZRVkHwBhjjDHGGGOMsY+LkwGMMcYYY4wxxpic4WQAY4wxxhhjjDEmZzgZwBhjjDHGGGOMyRlOBjDGGGOMMcYYY3KGkwGMMcYYY4wxxpic4WQAY4wxxhhjjDEmZzgZwBhjjDHGGGOMyRlOBjDGGGPso6qoqMDSpUthZ2cHIyMjjBs3TtYhMcYYY3KHkwGMMcZYDbZ3716IRCKIRCJcu3btrdeJCHZ2dhCJRPD395dBhG/bs2cPYmNj0atXL4SHh+Prr7/+4D9j+/bt2Lt37wf/XMYYY6y2UJZ1AIwxxhj799TU1HD48GF06dKl2vKrV6/i+fPnUFVVlVFkb7t8+TL09fUxe/bs/+xn7Ny5E/Xq1cOgQYP+s5/BGGOM1WQ8MoAxxhirBezs7HD8+HFUVFRUW3748GG0bdsWDRo0kFFkb3vx4gW0tbVlHcbfRkQoKSn5V59RUVGBsrKyDxQRY4wx9s9xMoAxxhirBb766ivk5eXh559/FpaVlZXhxIkT6Nu371vrx8bGwsPDAxYWFmjfvj0GDRqE48ePv7WeSCTCggULcOrUKbi4uKBdu3b46quvcP78+WrrBQUFwcHB4a33R0ZGQiQSAQDS09MhEolw5coVPHr0SJjecOXKlb8VEwAcOHAAgwcPRocOHWBmZoZhw4bh4sWLAAAHBwc8evQIV69eFX6Gt7f3W/FUJZ1ukZ6eLixzcHCAv78/Lly4gEGDBqF9+/bYtWsXAODNmzcIDQ2FnZ0d2rVrBycnJ8TExEAikQjvl25vbGwsvv32Wzg6OsLExATJycnv3CbGGGPsY+JpAowxxlgt0LhxY3Ts2BFHjhyBnZ0dAOD8+fPIz8+Hs7Mz4uPjq62/detWODg4oG/fvigvL8eRI0cwefJkREdHo3v37tXWvX79On788UcMHToUmpqaiI+Px6RJk3D27FnUq1fvvWPU1dXF0qVLsWHDBhQVFWHatGkAgJYtW/6tmKKiohAZGYlOnTph0qRJUFFRwa1bt3D58mXY2Nhg9uzZWLhwITQ0NDBmzBgAgJ6e3t/9SgEAKSkpmD59Otzd3eHm5oYWLVqguLgYXl5eyMrKgoeHBxo1aoSbN29i5cqVyMnJQXBwcLXP2Lt3L0pLS+Hm5gZVVVXo6Oj8o1gYY4yxD4mTAYwxxlgt0bdvX6xYsQIlJSVQV1fHoUOHYGZmBn19/bfWPXHiBNTV1YV/Dxs2DIMGDUJcXNxbyYDk5GQcPXoUTZs2BQBYWFigf//+OHLkCLy8vN47Pg0NDfTv3x8//PADXr16hf79+//tmFJTU7F27Vo4OTlhzZo1UFT8fZAjEQEAHB0dsWrVKtSrV++tn/F3paamYtOmTbC1tRWWrVu3Dmlpadi3bx+aN28OAPDw8EDDhg0RGxsLX19fNGrUSFj/+fPnOHnyJHR1df9VLIwxxtiHxNMEGGOMsVqiT58+KC0txdmzZ1FQUIBz5869c4oAgGo33a9fv0Z+fj5MTU1x//79t9bt2rWrkAgAACMjI2hpaSEtLe2Dxv8+MZ06dQoSiQTjx4+vlggAAAUFhQ8aDwA0adKkWiIAAI4fPw5TU1Noa2vj5cuXwv+6du0KsViMhISEauv37NmTEwGMMcY+OTwygDHGGKsldHV1YWVlhcOHD6OkpARisRi9evV657pnz57F+vXr8eDBg2oF7d51Q131KbeUjo4O3rx58+GCf8+Ynj59CkVFRWFqwX+tSZMmby1LTU3Fw4cPYWVl9c73vHz58n9+BmOMMSZrnAxgjDHGahEXFxfMnTsXubm56Nat2zur9l+7dg1jx46FmZkZ5s+fjwYNGkBFRQV79uzB4cOH31pfSUnpnT9LOiwf+POn8mKx+L3i/rsx/VN/N86qoxWkJBIJrK2tMXLkyHe+Rzp14K8+gzHGGJM1TgYwxhhjtYiTkxPmz5+PX3/9FREREe9c58SJE1BTU0NsbCxUVVWF5Xv27PnHP1dbW/udIwUyMjLe6/3vG1PTpk0hkUiQnJyMNm3a/Onn/dlNvzQ58ubNm2qJkveNUxpDUVERunbt+t7vYYwxxj41XDOAMcYYq0U0NTXxzTffYOLEie9s9QdUPulXUFCo9jQ8PT0dp0+f/sc/t2nTpsjPz0diYqKwLDs7GydPnnyv979vTI6OjlBUVMTatWurtfEDqo9UqFOnzjuTE9LaB1Xn9RcVFWH//v3vFSdQWZvh5s2buHDhwluvvXnzBhUVFe/9WYwxxpis8MgAxhhjrJYZOHDgX75uZ2eHuLg4jBw5Ei4uLnjx4gV27NiBpk2b4uHDh//oZzo7O2P58uWYMGECvL29UVJSgp07d6JFixa4d+/e/3z/+8bUrFkzjBkzBuvWrcPQoUPRs2dPqKqq4s6dO2jYsCGmT58OAGjbti127tyJdevWoVmzZkI9BWtraxgYGCA4OBiPHz+GkpIS9uzZg3r16r336AA/Pz+cOXMGY8aMwcCBA9G2bVsUFxfjt99+w4kTJ3D69GkuGMgYY+yTx8kAxhhjTM5YWVkhNDQUGzduRFhYGJo0aYKAgAA8e/bsHycD6tWrh6ioKISHh2PZsmVo0qQJpk2bhtTU1PdKBvydmCZPnowmTZpg27ZtiIiIQJ06dSASiaq1ERw/fjwyMjKwadMmFBYWwtzcHFZWVlBRUUFUVBRCQkKwevVqNGjQACNGjIC2tjZmzZr1Xttap04dxMfHIzo6GsePH8f+/fuhpaWF5s2bY+LEifjss8/+3pfHGGOMyYACVR1TxxhjjDHGGGOMsVqPawYwxhhjjDHGGGNyhpMBjDHGGGOMMcaYnOFkAGOMMcYYY4wxJmc4GcAYY4wxxhhjjMkZTgYwxhhjjDHGGGNyhpMBjDHGGGOMMcaYnOFkAGOMMcYYY4wxJmc4GcAYY4wxxhhjjMkZTgYwxhhjjDHGGGNyhpMBjDHGGGOMMcaYnOFkAGOMMcYYY4wxJmc4GcAYY4wxxhhjjMmZ/wMKC6jmNIHFZwAAAABJRU5ErkJggg==)"
      ],
      "metadata": {
        "id": "mBfT3g6fRW2S"
      }
    },
    {
      "cell_type": "code",
      "execution_count": null,
      "metadata": {
        "id": "jFyqvTqELqZf"
      },
      "outputs": [],
      "source": []
    },
    {
      "cell_type": "code",
      "execution_count": null,
      "metadata": {
        "id": "NigHF8BuLqZf"
      },
      "outputs": [],
      "source": []
    },
    {
      "cell_type": "code",
      "execution_count": null,
      "metadata": {
        "id": "XvmY97IoLqZf"
      },
      "outputs": [],
      "source": []
    },
    {
      "cell_type": "code",
      "execution_count": null,
      "metadata": {
        "id": "5mCwDpUfLqZf"
      },
      "outputs": [],
      "source": []
    },
    {
      "cell_type": "code",
      "execution_count": null,
      "metadata": {
        "id": "XjQvowbVLqZf"
      },
      "outputs": [],
      "source": []
    },
    {
      "cell_type": "code",
      "execution_count": null,
      "metadata": {
        "id": "v38oZSaoLqZf"
      },
      "outputs": [],
      "source": []
    }
  ],
  "metadata": {
    "kernelspec": {
      "display_name": "Python 3",
      "language": "python",
      "name": "python3"
    },
    "language_info": {
      "codemirror_mode": {
        "name": "ipython",
        "version": 3
      },
      "file_extension": ".py",
      "mimetype": "text/x-python",
      "name": "python",
      "nbconvert_exporter": "python",
      "pygments_lexer": "ipython3",
      "version": "3.8.8"
    },
    "colab": {
      "provenance": []
    }
  },
  "nbformat": 4,
  "nbformat_minor": 0
}